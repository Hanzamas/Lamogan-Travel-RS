{
 "metadata": {
  "kernelspec": {
   "language": "python",
   "display_name": "Python 3",
   "name": "python3"
  },
  "language_info": {
   "name": "python",
   "version": "3.7.12",
   "mimetype": "text/x-python",
   "codemirror_mode": {
    "name": "ipython",
    "version": 3
   },
   "pygments_lexer": "ipython3",
   "nbconvert_exporter": "python",
   "file_extension": ".py"
  },
  "kaggle": {
   "accelerator": "gpu",
   "dataSources": [
    {
     "sourceId": 10183092,
     "sourceType": "datasetVersion",
     "datasetId": 6290557
    },
    {
     "sourceId": 10183165,
     "sourceType": "datasetVersion",
     "datasetId": 6290614
    },
    {
     "sourceId": 10185908,
     "sourceType": "datasetVersion",
     "datasetId": 6292597
    },
    {
     "sourceId": 10186161,
     "sourceType": "datasetVersion",
     "datasetId": 6292784
    }
   ],
   "dockerImageVersionId": 30260,
   "isInternetEnabled": false,
   "language": "python",
   "sourceType": "notebook",
   "isGpuEnabled": true
  }
 },
 "nbformat_minor": 4,
 "nbformat": 4,
 "cells": [
  {
   "cell_type": "markdown",
   "source": "# Data Understanding",
   "metadata": {
    "_kg_hide-output": false
   }
  },
  {
   "cell_type": "code",
   "source": [
    "import chardet\n",
    "with open(f\"data/user.csv\", 'rb') as f:\n",
    "    result = chardet.detect(f.read())\n",
    "    print(result)\n",
    "# # !pip install seaborn\n",
    "# !pip install chardet\n",
    "# !pip install streamlit\n",
    "# !pip install scikit-surprise"
   ],
   "metadata": {
    "trusted": true,
    "execution": {
     "iopub.status.busy": "2024-12-12T16:55:42.583641Z",
     "iopub.execute_input": "2024-12-12T16:55:42.584492Z",
     "iopub.status.idle": "2024-12-12T16:55:42.641776Z",
     "shell.execute_reply.started": "2024-12-12T16:55:42.584438Z",
     "shell.execute_reply": "2024-12-12T16:55:42.640467Z"
    },
    "ExecuteTime": {
     "end_time": "2024-12-13T10:38:11.200437Z",
     "start_time": "2024-12-13T10:38:11.192020Z"
    }
   },
   "outputs": [
    {
     "name": "stdout",
     "output_type": "stream",
     "text": [
      "{'encoding': 'ascii', 'confidence': 1.0, 'language': ''}\n"
     ]
    }
   ],
   "execution_count": 53
  },
  {
   "cell_type": "code",
   "source": [
    "import pandas as pd\n",
    "import seaborn as sns\n",
    "import matplotlib.pyplot as plt\n",
    "\n",
    "# DATA_PATH = \"../input/dataset-fixx\"\n",
    "\n",
    "info_tourism = pd.read_csv(f\"data/tourism_with_id.csv\", encoding='Johab')\n",
    "tourism_rating = pd.read_csv(f\"data/tourism_rating.csv\", encoding='ascii')\n",
    "users = pd.read_csv(f\"data/user.csv\", encoding='ascii')"
   ],
   "metadata": {
    "_kg_hide-output": false,
    "execution": {
     "iopub.status.busy": "2024-12-13T02:51:42.514043Z",
     "iopub.execute_input": "2024-12-13T02:51:42.514899Z",
     "iopub.status.idle": "2024-12-13T02:51:43.160839Z",
     "shell.execute_reply.started": "2024-12-13T02:51:42.514801Z",
     "shell.execute_reply": "2024-12-13T02:51:43.160132Z"
    },
    "trusted": true,
    "ExecuteTime": {
     "end_time": "2024-12-13T10:38:42.428245Z",
     "start_time": "2024-12-13T10:38:42.370063Z"
    }
   },
   "outputs": [],
   "execution_count": 54
  },
  {
   "cell_type": "code",
   "source": "info_tourism.sample(5)",
   "metadata": {
    "_kg_hide-output": false,
    "execution": {
     "iopub.status.busy": "2024-12-13T02:52:35.502026Z",
     "iopub.execute_input": "2024-12-13T02:52:35.502407Z",
     "iopub.status.idle": "2024-12-13T02:52:35.519190Z",
     "shell.execute_reply.started": "2024-12-13T02:52:35.502374Z",
     "shell.execute_reply": "2024-12-13T02:52:35.518152Z"
    },
    "trusted": true,
    "ExecuteTime": {
     "end_time": "2024-12-13T10:38:44.275637Z",
     "start_time": "2024-12-13T10:38:44.244191Z"
    }
   },
   "outputs": [
    {
     "data": {
      "text/plain": [
       "    Place_Id              Place_Name  \\\n",
       "22        23      Makam dewi serdadu   \n",
       "10        11      Makam joko Tingkir   \n",
       "8          9     Makam maulana Ishaq   \n",
       "12        13     Pantai Putri Klayar   \n",
       "0          1  Wisata Bahari Lamongan   \n",
       "\n",
       "                                          Description   Category      City  \\\n",
       "22  Makam ini memiliki nilai sejarah dan dipercaya...     Religi  Lamongan   \n",
       "10  Makam ini merupakan tempat peristirahatan tera...     Religi  Lamongan   \n",
       "8   Maulana Ishaq dikenal sebagai ulama besar dan ...     Religi  Lamongan   \n",
       "12  Pantai ini menawarkan pemandangan yang indah d...       Alam  Lamongan   \n",
       "0   Wisata Bahari Lamongan merupakan taman hiburan...  Themepark  Lamongan   \n",
       "\n",
       "     Price  Rating                  Transportasi  \\\n",
       "22       0     4.6  mobil, sepeda motor, bus,만lf   \n",
       "10       0     4.4  mobil, sepeda motor, bus,만lf   \n",
       "8        0     4.7  mobil, sepeda motor, bus,만lf   \n",
       "12   10000     4.4  mobil, sepeda motor, bus,만lf   \n",
       "0   145000     4.6  mobil, sepeda motor, bus,만lf   \n",
       "\n",
       "                                            Fasilitas Jumlah Ulasan  \n",
       "22  Area parkir, Kompleks makam dan taman, Masjid ...           120  \n",
       "10  Area parkir, Kompleks makam dan taman, Masjid ...            78  \n",
       "8   Area parkir, Kompleks makam dan taman, Masjid ...         2,881  \n",
       "12  Area parkir, Warung dan kios makanan, Fasilita...           309  \n",
       "0   Akses pantai dengan area parkir, Warung dan ki...         4,812  "
      ],
      "text/html": [
       "<div>\n",
       "<style scoped>\n",
       "    .dataframe tbody tr th:only-of-type {\n",
       "        vertical-align: middle;\n",
       "    }\n",
       "\n",
       "    .dataframe tbody tr th {\n",
       "        vertical-align: top;\n",
       "    }\n",
       "\n",
       "    .dataframe thead th {\n",
       "        text-align: right;\n",
       "    }\n",
       "</style>\n",
       "<table border=\"1\" class=\"dataframe\">\n",
       "  <thead>\n",
       "    <tr style=\"text-align: right;\">\n",
       "      <th></th>\n",
       "      <th>Place_Id</th>\n",
       "      <th>Place_Name</th>\n",
       "      <th>Description</th>\n",
       "      <th>Category</th>\n",
       "      <th>City</th>\n",
       "      <th>Price</th>\n",
       "      <th>Rating</th>\n",
       "      <th>Transportasi</th>\n",
       "      <th>Fasilitas</th>\n",
       "      <th>Jumlah Ulasan</th>\n",
       "    </tr>\n",
       "  </thead>\n",
       "  <tbody>\n",
       "    <tr>\n",
       "      <th>22</th>\n",
       "      <td>23</td>\n",
       "      <td>Makam dewi serdadu</td>\n",
       "      <td>Makam ini memiliki nilai sejarah dan dipercaya...</td>\n",
       "      <td>Religi</td>\n",
       "      <td>Lamongan</td>\n",
       "      <td>0</td>\n",
       "      <td>4.6</td>\n",
       "      <td>mobil, sepeda motor, bus,만lf</td>\n",
       "      <td>Area parkir, Kompleks makam dan taman, Masjid ...</td>\n",
       "      <td>120</td>\n",
       "    </tr>\n",
       "    <tr>\n",
       "      <th>10</th>\n",
       "      <td>11</td>\n",
       "      <td>Makam joko Tingkir</td>\n",
       "      <td>Makam ini merupakan tempat peristirahatan tera...</td>\n",
       "      <td>Religi</td>\n",
       "      <td>Lamongan</td>\n",
       "      <td>0</td>\n",
       "      <td>4.4</td>\n",
       "      <td>mobil, sepeda motor, bus,만lf</td>\n",
       "      <td>Area parkir, Kompleks makam dan taman, Masjid ...</td>\n",
       "      <td>78</td>\n",
       "    </tr>\n",
       "    <tr>\n",
       "      <th>8</th>\n",
       "      <td>9</td>\n",
       "      <td>Makam maulana Ishaq</td>\n",
       "      <td>Maulana Ishaq dikenal sebagai ulama besar dan ...</td>\n",
       "      <td>Religi</td>\n",
       "      <td>Lamongan</td>\n",
       "      <td>0</td>\n",
       "      <td>4.7</td>\n",
       "      <td>mobil, sepeda motor, bus,만lf</td>\n",
       "      <td>Area parkir, Kompleks makam dan taman, Masjid ...</td>\n",
       "      <td>2,881</td>\n",
       "    </tr>\n",
       "    <tr>\n",
       "      <th>12</th>\n",
       "      <td>13</td>\n",
       "      <td>Pantai Putri Klayar</td>\n",
       "      <td>Pantai ini menawarkan pemandangan yang indah d...</td>\n",
       "      <td>Alam</td>\n",
       "      <td>Lamongan</td>\n",
       "      <td>10000</td>\n",
       "      <td>4.4</td>\n",
       "      <td>mobil, sepeda motor, bus,만lf</td>\n",
       "      <td>Area parkir, Warung dan kios makanan, Fasilita...</td>\n",
       "      <td>309</td>\n",
       "    </tr>\n",
       "    <tr>\n",
       "      <th>0</th>\n",
       "      <td>1</td>\n",
       "      <td>Wisata Bahari Lamongan</td>\n",
       "      <td>Wisata Bahari Lamongan merupakan taman hiburan...</td>\n",
       "      <td>Themepark</td>\n",
       "      <td>Lamongan</td>\n",
       "      <td>145000</td>\n",
       "      <td>4.6</td>\n",
       "      <td>mobil, sepeda motor, bus,만lf</td>\n",
       "      <td>Akses pantai dengan area parkir, Warung dan ki...</td>\n",
       "      <td>4,812</td>\n",
       "    </tr>\n",
       "  </tbody>\n",
       "</table>\n",
       "</div>"
      ]
     },
     "execution_count": 55,
     "metadata": {},
     "output_type": "execute_result"
    }
   ],
   "execution_count": 55
  },
  {
   "cell_type": "code",
   "source": "tourism_rating.sample(5)",
   "metadata": {
    "_kg_hide-output": false,
    "execution": {
     "iopub.status.busy": "2024-12-13T02:51:55.064568Z",
     "iopub.execute_input": "2024-12-13T02:51:55.064921Z",
     "iopub.status.idle": "2024-12-13T02:51:55.074497Z",
     "shell.execute_reply.started": "2024-12-13T02:51:55.064891Z",
     "shell.execute_reply": "2024-12-13T02:51:55.073511Z"
    },
    "trusted": true,
    "ExecuteTime": {
     "end_time": "2024-12-13T10:38:46.916895Z",
     "start_time": "2024-12-13T10:38:46.908020Z"
    }
   },
   "outputs": [
    {
     "data": {
      "text/plain": [
       "      User_Id  Place_Id  Place_Ratings\n",
       "948        37        13           4.50\n",
       "1790       69        23           4.00\n",
       "292        12         7           2.83\n",
       "411        16        22           5.00\n",
       "276        11        17           3.31"
      ],
      "text/html": [
       "<div>\n",
       "<style scoped>\n",
       "    .dataframe tbody tr th:only-of-type {\n",
       "        vertical-align: middle;\n",
       "    }\n",
       "\n",
       "    .dataframe tbody tr th {\n",
       "        vertical-align: top;\n",
       "    }\n",
       "\n",
       "    .dataframe thead th {\n",
       "        text-align: right;\n",
       "    }\n",
       "</style>\n",
       "<table border=\"1\" class=\"dataframe\">\n",
       "  <thead>\n",
       "    <tr style=\"text-align: right;\">\n",
       "      <th></th>\n",
       "      <th>User_Id</th>\n",
       "      <th>Place_Id</th>\n",
       "      <th>Place_Ratings</th>\n",
       "    </tr>\n",
       "  </thead>\n",
       "  <tbody>\n",
       "    <tr>\n",
       "      <th>948</th>\n",
       "      <td>37</td>\n",
       "      <td>13</td>\n",
       "      <td>4.50</td>\n",
       "    </tr>\n",
       "    <tr>\n",
       "      <th>1790</th>\n",
       "      <td>69</td>\n",
       "      <td>23</td>\n",
       "      <td>4.00</td>\n",
       "    </tr>\n",
       "    <tr>\n",
       "      <th>292</th>\n",
       "      <td>12</td>\n",
       "      <td>7</td>\n",
       "      <td>2.83</td>\n",
       "    </tr>\n",
       "    <tr>\n",
       "      <th>411</th>\n",
       "      <td>16</td>\n",
       "      <td>22</td>\n",
       "      <td>5.00</td>\n",
       "    </tr>\n",
       "    <tr>\n",
       "      <th>276</th>\n",
       "      <td>11</td>\n",
       "      <td>17</td>\n",
       "      <td>3.31</td>\n",
       "    </tr>\n",
       "  </tbody>\n",
       "</table>\n",
       "</div>"
      ]
     },
     "execution_count": 56,
     "metadata": {},
     "output_type": "execute_result"
    }
   ],
   "execution_count": 56
  },
  {
   "cell_type": "code",
   "source": "users.sample(5)",
   "metadata": {
    "_kg_hide-output": false,
    "execution": {
     "iopub.status.busy": "2024-12-13T02:51:58.250510Z",
     "iopub.execute_input": "2024-12-13T02:51:58.250882Z",
     "iopub.status.idle": "2024-12-13T02:51:58.261558Z",
     "shell.execute_reply.started": "2024-12-13T02:51:58.250850Z",
     "shell.execute_reply": "2024-12-13T02:51:58.260571Z"
    },
    "trusted": true,
    "ExecuteTime": {
     "end_time": "2024-12-13T10:38:48.284262Z",
     "start_time": "2024-12-13T10:38:48.275766Z"
    }
   },
   "outputs": [
    {
     "data": {
      "text/plain": [
       "    User_Id                     Name                Location  Age     Gender\n",
       "13       14                    Nadia                 Nganjuk   20  Perempuan\n",
       "51       52   Moh. Yoga Dwi Prasetyo       Prambon, Sidoarjo   19  Laki-Laki\n",
       "7         8       Ririn Dwi Ariyanti  karanggeneng, lamongan   20  Perempuan\n",
       "37       38  Alvin Nur Lailin Rahmat   BULANGAN DUKUN GRESIK   20  Laki-Laki\n",
       "57       58     Achmad Chusnul Yakin    Surabaya, Jawa Timur   20  Laki-Laki"
      ],
      "text/html": [
       "<div>\n",
       "<style scoped>\n",
       "    .dataframe tbody tr th:only-of-type {\n",
       "        vertical-align: middle;\n",
       "    }\n",
       "\n",
       "    .dataframe tbody tr th {\n",
       "        vertical-align: top;\n",
       "    }\n",
       "\n",
       "    .dataframe thead th {\n",
       "        text-align: right;\n",
       "    }\n",
       "</style>\n",
       "<table border=\"1\" class=\"dataframe\">\n",
       "  <thead>\n",
       "    <tr style=\"text-align: right;\">\n",
       "      <th></th>\n",
       "      <th>User_Id</th>\n",
       "      <th>Name</th>\n",
       "      <th>Location</th>\n",
       "      <th>Age</th>\n",
       "      <th>Gender</th>\n",
       "    </tr>\n",
       "  </thead>\n",
       "  <tbody>\n",
       "    <tr>\n",
       "      <th>13</th>\n",
       "      <td>14</td>\n",
       "      <td>Nadia</td>\n",
       "      <td>Nganjuk</td>\n",
       "      <td>20</td>\n",
       "      <td>Perempuan</td>\n",
       "    </tr>\n",
       "    <tr>\n",
       "      <th>51</th>\n",
       "      <td>52</td>\n",
       "      <td>Moh. Yoga Dwi Prasetyo</td>\n",
       "      <td>Prambon, Sidoarjo</td>\n",
       "      <td>19</td>\n",
       "      <td>Laki-Laki</td>\n",
       "    </tr>\n",
       "    <tr>\n",
       "      <th>7</th>\n",
       "      <td>8</td>\n",
       "      <td>Ririn Dwi Ariyanti</td>\n",
       "      <td>karanggeneng, lamongan</td>\n",
       "      <td>20</td>\n",
       "      <td>Perempuan</td>\n",
       "    </tr>\n",
       "    <tr>\n",
       "      <th>37</th>\n",
       "      <td>38</td>\n",
       "      <td>Alvin Nur Lailin Rahmat</td>\n",
       "      <td>BULANGAN DUKUN GRESIK</td>\n",
       "      <td>20</td>\n",
       "      <td>Laki-Laki</td>\n",
       "    </tr>\n",
       "    <tr>\n",
       "      <th>57</th>\n",
       "      <td>58</td>\n",
       "      <td>Achmad Chusnul Yakin</td>\n",
       "      <td>Surabaya, Jawa Timur</td>\n",
       "      <td>20</td>\n",
       "      <td>Laki-Laki</td>\n",
       "    </tr>\n",
       "  </tbody>\n",
       "</table>\n",
       "</div>"
      ]
     },
     "execution_count": 57,
     "metadata": {},
     "output_type": "execute_result"
    }
   ],
   "execution_count": 57
  },
  {
   "cell_type": "code",
   "source": "print(f\"Number of places in the datasets : {len(info_tourism.Place_Id.unique())}\")\nprint(f\"Number of users : {len(users.User_Id.unique())}\")\nprint(f\"The number of ratings given by the user to the dataset : {len(tourism_rating.User_Id)}\")",
   "metadata": {
    "_kg_hide-output": false,
    "execution": {
     "iopub.status.busy": "2024-12-13T02:53:56.861392Z",
     "iopub.execute_input": "2024-12-13T02:53:56.861759Z",
     "iopub.status.idle": "2024-12-13T02:53:56.875033Z",
     "shell.execute_reply.started": "2024-12-13T02:53:56.861728Z",
     "shell.execute_reply": "2024-12-13T02:53:56.873943Z"
    },
    "trusted": true,
    "ExecuteTime": {
     "end_time": "2024-12-13T10:38:49.690522Z",
     "start_time": "2024-12-13T10:38:49.682146Z"
    }
   },
   "outputs": [
    {
     "name": "stdout",
     "output_type": "stream",
     "text": [
      "Number of places in the datasets : 26\n",
      "Number of users : 74\n",
      "The number of ratings given by the user to the dataset : 1924\n"
     ]
    }
   ],
   "execution_count": 58
  },
  {
   "cell_type": "markdown",
   "source": "# Exploratory Data Analysis",
   "metadata": {
    "_kg_hide-output": false
   }
  },
  {
   "cell_type": "code",
   "source": "info_tourism.info()",
   "metadata": {
    "_kg_hide-output": false,
    "execution": {
     "iopub.status.busy": "2024-12-13T02:54:05.965269Z",
     "iopub.execute_input": "2024-12-13T02:54:05.965654Z",
     "iopub.status.idle": "2024-12-13T02:54:05.982646Z",
     "shell.execute_reply.started": "2024-12-13T02:54:05.965625Z",
     "shell.execute_reply": "2024-12-13T02:54:05.981491Z"
    },
    "trusted": true,
    "ExecuteTime": {
     "end_time": "2024-12-13T10:38:54.516870Z",
     "start_time": "2024-12-13T10:38:54.482467Z"
    }
   },
   "outputs": [
    {
     "name": "stdout",
     "output_type": "stream",
     "text": [
      "<class 'pandas.core.frame.DataFrame'>\n",
      "RangeIndex: 26 entries, 0 to 25\n",
      "Data columns (total 10 columns):\n",
      " #   Column         Non-Null Count  Dtype  \n",
      "---  ------         --------------  -----  \n",
      " 0   Place_Id       26 non-null     int64  \n",
      " 1   Place_Name     26 non-null     object \n",
      " 2   Description    26 non-null     object \n",
      " 3   Category       26 non-null     object \n",
      " 4   City           26 non-null     object \n",
      " 5   Price          26 non-null     int64  \n",
      " 6   Rating         26 non-null     float64\n",
      " 7   Transportasi   26 non-null     object \n",
      " 8   Fasilitas      26 non-null     object \n",
      " 9   Jumlah Ulasan  26 non-null     object \n",
      "dtypes: float64(1), int64(2), object(7)\n",
      "memory usage: 2.2+ KB\n"
     ]
    }
   ],
   "execution_count": 59
  },
  {
   "cell_type": "code",
   "source": "info_tourism.isnull().sum()",
   "metadata": {
    "_kg_hide-output": false,
    "execution": {
     "iopub.status.busy": "2024-12-13T02:54:08.463814Z",
     "iopub.execute_input": "2024-12-13T02:54:08.464483Z",
     "iopub.status.idle": "2024-12-13T02:54:08.472184Z",
     "shell.execute_reply.started": "2024-12-13T02:54:08.464452Z",
     "shell.execute_reply": "2024-12-13T02:54:08.471201Z"
    },
    "trusted": true,
    "ExecuteTime": {
     "end_time": "2024-12-13T10:38:57.108928Z",
     "start_time": "2024-12-13T10:38:57.102607Z"
    }
   },
   "outputs": [
    {
     "data": {
      "text/plain": [
       "Place_Id         0\n",
       "Place_Name       0\n",
       "Description      0\n",
       "Category         0\n",
       "City             0\n",
       "Price            0\n",
       "Rating           0\n",
       "Transportasi     0\n",
       "Fasilitas        0\n",
       "Jumlah Ulasan    0\n",
       "dtype: int64"
      ]
     },
     "execution_count": 60,
     "metadata": {},
     "output_type": "execute_result"
    }
   ],
   "execution_count": 60
  },
  {
   "cell_type": "code",
   "source": "tourism_rating.info()",
   "metadata": {
    "_kg_hide-output": false,
    "execution": {
     "iopub.status.busy": "2024-12-13T02:54:15.277138Z",
     "iopub.execute_input": "2024-12-13T02:54:15.277968Z",
     "iopub.status.idle": "2024-12-13T02:54:15.290668Z",
     "shell.execute_reply.started": "2024-12-13T02:54:15.277930Z",
     "shell.execute_reply": "2024-12-13T02:54:15.289595Z"
    },
    "trusted": true,
    "ExecuteTime": {
     "end_time": "2024-12-13T10:38:58.645032Z",
     "start_time": "2024-12-13T10:38:58.638273Z"
    }
   },
   "outputs": [
    {
     "name": "stdout",
     "output_type": "stream",
     "text": [
      "<class 'pandas.core.frame.DataFrame'>\n",
      "RangeIndex: 1924 entries, 0 to 1923\n",
      "Data columns (total 3 columns):\n",
      " #   Column         Non-Null Count  Dtype  \n",
      "---  ------         --------------  -----  \n",
      " 0   User_Id        1924 non-null   int64  \n",
      " 1   Place_Id       1924 non-null   int64  \n",
      " 2   Place_Ratings  1924 non-null   float64\n",
      "dtypes: float64(1), int64(2)\n",
      "memory usage: 45.2 KB\n"
     ]
    }
   ],
   "execution_count": 61
  },
  {
   "cell_type": "code",
   "source": "tourism_rating.isnull().sum()",
   "metadata": {
    "_kg_hide-output": false,
    "execution": {
     "iopub.status.busy": "2024-12-13T02:54:17.843260Z",
     "iopub.execute_input": "2024-12-13T02:54:17.843771Z",
     "iopub.status.idle": "2024-12-13T02:54:17.854203Z",
     "shell.execute_reply.started": "2024-12-13T02:54:17.843723Z",
     "shell.execute_reply": "2024-12-13T02:54:17.853078Z"
    },
    "trusted": true,
    "ExecuteTime": {
     "end_time": "2024-12-13T10:29:47.395128Z",
     "start_time": "2024-12-13T10:29:47.375458Z"
    }
   },
   "outputs": [
    {
     "data": {
      "text/plain": [
       "User_Id          0\n",
       "Place_Id         0\n",
       "Place_Ratings    0\n",
       "dtype: int64"
      ]
     },
     "execution_count": 23,
     "metadata": {},
     "output_type": "execute_result"
    }
   ],
   "execution_count": 23
  },
  {
   "cell_type": "code",
   "source": "users.info()",
   "metadata": {
    "_kg_hide-output": false,
    "execution": {
     "iopub.status.busy": "2024-12-13T02:54:22.217609Z",
     "iopub.execute_input": "2024-12-13T02:54:22.217978Z",
     "iopub.status.idle": "2024-12-13T02:54:22.230641Z",
     "shell.execute_reply.started": "2024-12-13T02:54:22.217945Z",
     "shell.execute_reply": "2024-12-13T02:54:22.229177Z"
    },
    "trusted": true,
    "ExecuteTime": {
     "end_time": "2024-12-13T10:29:50.196865Z",
     "start_time": "2024-12-13T10:29:50.186967Z"
    }
   },
   "outputs": [
    {
     "name": "stdout",
     "output_type": "stream",
     "text": [
      "<class 'pandas.core.frame.DataFrame'>\n",
      "RangeIndex: 74 entries, 0 to 73\n",
      "Data columns (total 5 columns):\n",
      " #   Column    Non-Null Count  Dtype \n",
      "---  ------    --------------  ----- \n",
      " 0   User_Id   74 non-null     int64 \n",
      " 1   Name      74 non-null     object\n",
      " 2   Location  74 non-null     object\n",
      " 3   Age       74 non-null     int64 \n",
      " 4   Gender    74 non-null     object\n",
      "dtypes: int64(2), object(3)\n",
      "memory usage: 3.0+ KB\n"
     ]
    }
   ],
   "execution_count": 24
  },
  {
   "cell_type": "code",
   "source": "users.isnull().sum()",
   "metadata": {
    "_kg_hide-output": false,
    "execution": {
     "iopub.status.busy": "2024-12-13T02:54:26.157663Z",
     "iopub.execute_input": "2024-12-13T02:54:26.158010Z",
     "iopub.status.idle": "2024-12-13T02:54:26.166229Z",
     "shell.execute_reply.started": "2024-12-13T02:54:26.157981Z",
     "shell.execute_reply": "2024-12-13T02:54:26.165235Z"
    },
    "trusted": true,
    "ExecuteTime": {
     "end_time": "2024-12-13T10:29:52.375294Z",
     "start_time": "2024-12-13T10:29:52.367555Z"
    }
   },
   "outputs": [
    {
     "data": {
      "text/plain": [
       "User_Id     0\n",
       "Name        0\n",
       "Location    0\n",
       "Age         0\n",
       "Gender      0\n",
       "dtype: int64"
      ]
     },
     "execution_count": 25,
     "metadata": {},
     "output_type": "execute_result"
    }
   ],
   "execution_count": 25
  },
  {
   "cell_type": "code",
   "source": "info_tourism.Category.unique()",
   "metadata": {
    "_kg_hide-output": false,
    "execution": {
     "iopub.status.busy": "2024-12-13T02:54:28.809221Z",
     "iopub.execute_input": "2024-12-13T02:54:28.809626Z",
     "iopub.status.idle": "2024-12-13T02:54:28.815799Z",
     "shell.execute_reply.started": "2024-12-13T02:54:28.809596Z",
     "shell.execute_reply": "2024-12-13T02:54:28.814787Z"
    },
    "trusted": true,
    "ExecuteTime": {
     "end_time": "2024-12-13T10:29:54.763898Z",
     "start_time": "2024-12-13T10:29:54.739770Z"
    }
   },
   "outputs": [
    {
     "data": {
      "text/plain": [
       "array(['Themepark', 'Edukasi', 'Alam', 'Religi', 'Olahraga', 'Kuliner',\n",
       "       'Belanja', 'Alam&Kuliner'], dtype=object)"
      ]
     },
     "execution_count": 26,
     "metadata": {},
     "output_type": "execute_result"
    }
   ],
   "execution_count": 26
  },
  {
   "cell_type": "markdown",
   "source": "# Data Preprocessing",
   "metadata": {
    "_kg_hide-output": false
   }
  },
  {
   "cell_type": "code",
   "source": "import numpy as np\n\ntourism_all = np.concatenate((\n    info_tourism.Place_Id.unique(),\n    tourism_rating.Place_Id.unique()\n))\n\ntourism_all = np.sort(np.unique(tourism_all))\n\nprint(f\"Total number of tourism: {len(tourism_all)}\")",
   "metadata": {
    "_kg_hide-output": false,
    "execution": {
     "iopub.status.busy": "2024-12-13T02:54:39.324222Z",
     "iopub.execute_input": "2024-12-13T02:54:39.324605Z",
     "iopub.status.idle": "2024-12-13T02:54:39.331296Z",
     "shell.execute_reply.started": "2024-12-13T02:54:39.324574Z",
     "shell.execute_reply": "2024-12-13T02:54:39.330210Z"
    },
    "trusted": true,
    "ExecuteTime": {
     "end_time": "2024-12-13T10:30:01.581668Z",
     "start_time": "2024-12-13T10:30:01.576004Z"
    }
   },
   "outputs": [
    {
     "name": "stdout",
     "output_type": "stream",
     "text": [
      "Total number of tourism: 26\n"
     ]
    }
   ],
   "execution_count": 28
  },
  {
   "cell_type": "code",
   "source": "all_tourism_rate = tourism_rating\nall_tourism_rate",
   "metadata": {
    "_kg_hide-output": false,
    "execution": {
     "iopub.status.busy": "2024-12-13T02:54:41.540661Z",
     "iopub.execute_input": "2024-12-13T02:54:41.541434Z",
     "iopub.status.idle": "2024-12-13T02:54:41.553010Z",
     "shell.execute_reply.started": "2024-12-13T02:54:41.541400Z",
     "shell.execute_reply": "2024-12-13T02:54:41.552067Z"
    },
    "trusted": true,
    "ExecuteTime": {
     "end_time": "2024-12-13T10:30:03.417088Z",
     "start_time": "2024-12-13T10:30:03.404383Z"
    }
   },
   "outputs": [
    {
     "data": {
      "text/plain": [
       "      User_Id  Place_Id  Place_Ratings\n",
       "0           1         1        4.50000\n",
       "1           1         2        4.50000\n",
       "2           1         3        4.83000\n",
       "3           1         4        5.00000\n",
       "4           1         5        4.50000\n",
       "...       ...       ...            ...\n",
       "1919       74        22        3.17000\n",
       "1920       74        23        3.00000\n",
       "1921       74        24        3.17000\n",
       "1922       74        25        2.83000\n",
       "1923       74        26        4.16667\n",
       "\n",
       "[1924 rows x 3 columns]"
      ],
      "text/html": [
       "<div>\n",
       "<style scoped>\n",
       "    .dataframe tbody tr th:only-of-type {\n",
       "        vertical-align: middle;\n",
       "    }\n",
       "\n",
       "    .dataframe tbody tr th {\n",
       "        vertical-align: top;\n",
       "    }\n",
       "\n",
       "    .dataframe thead th {\n",
       "        text-align: right;\n",
       "    }\n",
       "</style>\n",
       "<table border=\"1\" class=\"dataframe\">\n",
       "  <thead>\n",
       "    <tr style=\"text-align: right;\">\n",
       "      <th></th>\n",
       "      <th>User_Id</th>\n",
       "      <th>Place_Id</th>\n",
       "      <th>Place_Ratings</th>\n",
       "    </tr>\n",
       "  </thead>\n",
       "  <tbody>\n",
       "    <tr>\n",
       "      <th>0</th>\n",
       "      <td>1</td>\n",
       "      <td>1</td>\n",
       "      <td>4.50000</td>\n",
       "    </tr>\n",
       "    <tr>\n",
       "      <th>1</th>\n",
       "      <td>1</td>\n",
       "      <td>2</td>\n",
       "      <td>4.50000</td>\n",
       "    </tr>\n",
       "    <tr>\n",
       "      <th>2</th>\n",
       "      <td>1</td>\n",
       "      <td>3</td>\n",
       "      <td>4.83000</td>\n",
       "    </tr>\n",
       "    <tr>\n",
       "      <th>3</th>\n",
       "      <td>1</td>\n",
       "      <td>4</td>\n",
       "      <td>5.00000</td>\n",
       "    </tr>\n",
       "    <tr>\n",
       "      <th>4</th>\n",
       "      <td>1</td>\n",
       "      <td>5</td>\n",
       "      <td>4.50000</td>\n",
       "    </tr>\n",
       "    <tr>\n",
       "      <th>...</th>\n",
       "      <td>...</td>\n",
       "      <td>...</td>\n",
       "      <td>...</td>\n",
       "    </tr>\n",
       "    <tr>\n",
       "      <th>1919</th>\n",
       "      <td>74</td>\n",
       "      <td>22</td>\n",
       "      <td>3.17000</td>\n",
       "    </tr>\n",
       "    <tr>\n",
       "      <th>1920</th>\n",
       "      <td>74</td>\n",
       "      <td>23</td>\n",
       "      <td>3.00000</td>\n",
       "    </tr>\n",
       "    <tr>\n",
       "      <th>1921</th>\n",
       "      <td>74</td>\n",
       "      <td>24</td>\n",
       "      <td>3.17000</td>\n",
       "    </tr>\n",
       "    <tr>\n",
       "      <th>1922</th>\n",
       "      <td>74</td>\n",
       "      <td>25</td>\n",
       "      <td>2.83000</td>\n",
       "    </tr>\n",
       "    <tr>\n",
       "      <th>1923</th>\n",
       "      <td>74</td>\n",
       "      <td>26</td>\n",
       "      <td>4.16667</td>\n",
       "    </tr>\n",
       "  </tbody>\n",
       "</table>\n",
       "<p>1924 rows × 3 columns</p>\n",
       "</div>"
      ]
     },
     "execution_count": 29,
     "metadata": {},
     "output_type": "execute_result"
    }
   ],
   "execution_count": 29
  },
  {
   "cell_type": "code",
   "source": "all_tourism = pd.merge(all_tourism_rate,info_tourism[[\"Place_Id\",\"Place_Name\",\"Description\",\"City\",\"Category\",\"Price\"]],on='Place_Id', how='left')\nall_tourism",
   "metadata": {
    "_kg_hide-output": false,
    "execution": {
     "iopub.status.busy": "2024-12-13T02:54:45.983581Z",
     "iopub.execute_input": "2024-12-13T02:54:45.983942Z",
     "iopub.status.idle": "2024-12-13T02:54:46.015400Z",
     "shell.execute_reply.started": "2024-12-13T02:54:45.983912Z",
     "shell.execute_reply": "2024-12-13T02:54:46.014468Z"
    },
    "trusted": true,
    "ExecuteTime": {
     "end_time": "2024-12-13T10:30:37.837229Z",
     "start_time": "2024-12-13T10:30:37.701783Z"
    }
   },
   "outputs": [
    {
     "data": {
      "text/plain": [
       "      User_Id  Place_Id  Place_Ratings               Place_Name  \\\n",
       "0           1         1        4.50000   Wisata Bahari Lamongan   \n",
       "1           1         2        4.50000       Maharani zoo & goa   \n",
       "2           1         3        4.83000            Tanjung kodok   \n",
       "3           1         4        5.00000            Masjid Namira   \n",
       "4           1         5        4.50000       Alun-alun Lamongan   \n",
       "...       ...       ...            ...                      ...   \n",
       "1919       74        22        3.17000        Keraton bbj babat   \n",
       "1920       74        23        3.00000       Makam dewi serdadu   \n",
       "1921       74        24        3.17000  Pantai lohgung brondong   \n",
       "1922       74        25        2.83000    Makam nyi andong sari   \n",
       "1923       74        26        4.16667                Cafe Aola   \n",
       "\n",
       "                                            Description      City  \\\n",
       "0     Wisata Bahari Lamongan merupakan taman hiburan...  Lamongan   \n",
       "1     Objek wisata ini menggabungkan kebun binatang ...  Lamongan   \n",
       "2     Tanjung Kodok adalah kawasan pantai yang memil...  Lamongan   \n",
       "3     Masjid Namira adalah masjid modern yang terken...  Lamongan   \n",
       "4     Sebagai pusat kota, Alun-Alun Lamongan menjadi...  Lamongan   \n",
       "...                                                 ...       ...   \n",
       "1919  Keraton ini merupakan tempat bersejarah yang m...  Lamongan   \n",
       "1920  Makam ini memiliki nilai sejarah dan dipercaya...  Lamongan   \n",
       "1921  Pantai ini menawarkan keindahan alam dan suasa...  Lamongan   \n",
       "1922  Makam ini adalah tempat ziarah yang berhubunga...  Lamongan   \n",
       "1923  Cafe Aola adalah tempat nongkrong yang nyaman ...  Lamongan   \n",
       "\n",
       "          Category   Price  \n",
       "0        Themepark  145000  \n",
       "1          Edukasi   40000  \n",
       "2             Alam  100000  \n",
       "3           Religi       0  \n",
       "4         Olahraga       0  \n",
       "...            ...     ...  \n",
       "1919       Belanja       0  \n",
       "1920        Religi       0  \n",
       "1921          Alam       0  \n",
       "1922        Religi       0  \n",
       "1923  Alam&Kuliner   25000  \n",
       "\n",
       "[1924 rows x 8 columns]"
      ],
      "text/html": [
       "<div>\n",
       "<style scoped>\n",
       "    .dataframe tbody tr th:only-of-type {\n",
       "        vertical-align: middle;\n",
       "    }\n",
       "\n",
       "    .dataframe tbody tr th {\n",
       "        vertical-align: top;\n",
       "    }\n",
       "\n",
       "    .dataframe thead th {\n",
       "        text-align: right;\n",
       "    }\n",
       "</style>\n",
       "<table border=\"1\" class=\"dataframe\">\n",
       "  <thead>\n",
       "    <tr style=\"text-align: right;\">\n",
       "      <th></th>\n",
       "      <th>User_Id</th>\n",
       "      <th>Place_Id</th>\n",
       "      <th>Place_Ratings</th>\n",
       "      <th>Place_Name</th>\n",
       "      <th>Description</th>\n",
       "      <th>City</th>\n",
       "      <th>Category</th>\n",
       "      <th>Price</th>\n",
       "    </tr>\n",
       "  </thead>\n",
       "  <tbody>\n",
       "    <tr>\n",
       "      <th>0</th>\n",
       "      <td>1</td>\n",
       "      <td>1</td>\n",
       "      <td>4.50000</td>\n",
       "      <td>Wisata Bahari Lamongan</td>\n",
       "      <td>Wisata Bahari Lamongan merupakan taman hiburan...</td>\n",
       "      <td>Lamongan</td>\n",
       "      <td>Themepark</td>\n",
       "      <td>145000</td>\n",
       "    </tr>\n",
       "    <tr>\n",
       "      <th>1</th>\n",
       "      <td>1</td>\n",
       "      <td>2</td>\n",
       "      <td>4.50000</td>\n",
       "      <td>Maharani zoo &amp; goa</td>\n",
       "      <td>Objek wisata ini menggabungkan kebun binatang ...</td>\n",
       "      <td>Lamongan</td>\n",
       "      <td>Edukasi</td>\n",
       "      <td>40000</td>\n",
       "    </tr>\n",
       "    <tr>\n",
       "      <th>2</th>\n",
       "      <td>1</td>\n",
       "      <td>3</td>\n",
       "      <td>4.83000</td>\n",
       "      <td>Tanjung kodok</td>\n",
       "      <td>Tanjung Kodok adalah kawasan pantai yang memil...</td>\n",
       "      <td>Lamongan</td>\n",
       "      <td>Alam</td>\n",
       "      <td>100000</td>\n",
       "    </tr>\n",
       "    <tr>\n",
       "      <th>3</th>\n",
       "      <td>1</td>\n",
       "      <td>4</td>\n",
       "      <td>5.00000</td>\n",
       "      <td>Masjid Namira</td>\n",
       "      <td>Masjid Namira adalah masjid modern yang terken...</td>\n",
       "      <td>Lamongan</td>\n",
       "      <td>Religi</td>\n",
       "      <td>0</td>\n",
       "    </tr>\n",
       "    <tr>\n",
       "      <th>4</th>\n",
       "      <td>1</td>\n",
       "      <td>5</td>\n",
       "      <td>4.50000</td>\n",
       "      <td>Alun-alun Lamongan</td>\n",
       "      <td>Sebagai pusat kota, Alun-Alun Lamongan menjadi...</td>\n",
       "      <td>Lamongan</td>\n",
       "      <td>Olahraga</td>\n",
       "      <td>0</td>\n",
       "    </tr>\n",
       "    <tr>\n",
       "      <th>...</th>\n",
       "      <td>...</td>\n",
       "      <td>...</td>\n",
       "      <td>...</td>\n",
       "      <td>...</td>\n",
       "      <td>...</td>\n",
       "      <td>...</td>\n",
       "      <td>...</td>\n",
       "      <td>...</td>\n",
       "    </tr>\n",
       "    <tr>\n",
       "      <th>1919</th>\n",
       "      <td>74</td>\n",
       "      <td>22</td>\n",
       "      <td>3.17000</td>\n",
       "      <td>Keraton bbj babat</td>\n",
       "      <td>Keraton ini merupakan tempat bersejarah yang m...</td>\n",
       "      <td>Lamongan</td>\n",
       "      <td>Belanja</td>\n",
       "      <td>0</td>\n",
       "    </tr>\n",
       "    <tr>\n",
       "      <th>1920</th>\n",
       "      <td>74</td>\n",
       "      <td>23</td>\n",
       "      <td>3.00000</td>\n",
       "      <td>Makam dewi serdadu</td>\n",
       "      <td>Makam ini memiliki nilai sejarah dan dipercaya...</td>\n",
       "      <td>Lamongan</td>\n",
       "      <td>Religi</td>\n",
       "      <td>0</td>\n",
       "    </tr>\n",
       "    <tr>\n",
       "      <th>1921</th>\n",
       "      <td>74</td>\n",
       "      <td>24</td>\n",
       "      <td>3.17000</td>\n",
       "      <td>Pantai lohgung brondong</td>\n",
       "      <td>Pantai ini menawarkan keindahan alam dan suasa...</td>\n",
       "      <td>Lamongan</td>\n",
       "      <td>Alam</td>\n",
       "      <td>0</td>\n",
       "    </tr>\n",
       "    <tr>\n",
       "      <th>1922</th>\n",
       "      <td>74</td>\n",
       "      <td>25</td>\n",
       "      <td>2.83000</td>\n",
       "      <td>Makam nyi andong sari</td>\n",
       "      <td>Makam ini adalah tempat ziarah yang berhubunga...</td>\n",
       "      <td>Lamongan</td>\n",
       "      <td>Religi</td>\n",
       "      <td>0</td>\n",
       "    </tr>\n",
       "    <tr>\n",
       "      <th>1923</th>\n",
       "      <td>74</td>\n",
       "      <td>26</td>\n",
       "      <td>4.16667</td>\n",
       "      <td>Cafe Aola</td>\n",
       "      <td>Cafe Aola adalah tempat nongkrong yang nyaman ...</td>\n",
       "      <td>Lamongan</td>\n",
       "      <td>Alam&amp;Kuliner</td>\n",
       "      <td>25000</td>\n",
       "    </tr>\n",
       "  </tbody>\n",
       "</table>\n",
       "<p>1924 rows × 8 columns</p>\n",
       "</div>"
      ]
     },
     "execution_count": 30,
     "metadata": {},
     "output_type": "execute_result"
    }
   ],
   "execution_count": 30
  },
  {
   "cell_type": "code",
   "source": "all_tourism['city_category'] = all_tourism[['City','Category']].agg(' '.join,axis=1)",
   "metadata": {
    "_kg_hide-output": false,
    "execution": {
     "iopub.status.busy": "2024-12-13T02:54:54.733436Z",
     "iopub.execute_input": "2024-12-13T02:54:54.733790Z",
     "iopub.status.idle": "2024-12-13T02:54:54.783821Z",
     "shell.execute_reply.started": "2024-12-13T02:54:54.733762Z",
     "shell.execute_reply": "2024-12-13T02:54:54.782976Z"
    },
    "trusted": true,
    "ExecuteTime": {
     "end_time": "2024-12-13T10:30:44.059819Z",
     "start_time": "2024-12-13T10:30:43.515370Z"
    }
   },
   "outputs": [],
   "execution_count": 31
  },
  {
   "cell_type": "code",
   "source": "all_tourism",
   "metadata": {
    "_kg_hide-output": false,
    "execution": {
     "iopub.status.busy": "2024-12-13T02:54:58.335853Z",
     "iopub.execute_input": "2024-12-13T02:54:58.336509Z",
     "iopub.status.idle": "2024-12-13T02:54:58.353972Z",
     "shell.execute_reply.started": "2024-12-13T02:54:58.336468Z",
     "shell.execute_reply": "2024-12-13T02:54:58.353045Z"
    },
    "trusted": true,
    "ExecuteTime": {
     "end_time": "2024-12-13T10:30:48.560046Z",
     "start_time": "2024-12-13T10:30:48.550439Z"
    }
   },
   "outputs": [
    {
     "data": {
      "text/plain": [
       "      User_Id  Place_Id  Place_Ratings               Place_Name  \\\n",
       "0           1         1        4.50000   Wisata Bahari Lamongan   \n",
       "1           1         2        4.50000       Maharani zoo & goa   \n",
       "2           1         3        4.83000            Tanjung kodok   \n",
       "3           1         4        5.00000            Masjid Namira   \n",
       "4           1         5        4.50000       Alun-alun Lamongan   \n",
       "...       ...       ...            ...                      ...   \n",
       "1919       74        22        3.17000        Keraton bbj babat   \n",
       "1920       74        23        3.00000       Makam dewi serdadu   \n",
       "1921       74        24        3.17000  Pantai lohgung brondong   \n",
       "1922       74        25        2.83000    Makam nyi andong sari   \n",
       "1923       74        26        4.16667                Cafe Aola   \n",
       "\n",
       "                                            Description      City  \\\n",
       "0     Wisata Bahari Lamongan merupakan taman hiburan...  Lamongan   \n",
       "1     Objek wisata ini menggabungkan kebun binatang ...  Lamongan   \n",
       "2     Tanjung Kodok adalah kawasan pantai yang memil...  Lamongan   \n",
       "3     Masjid Namira adalah masjid modern yang terken...  Lamongan   \n",
       "4     Sebagai pusat kota, Alun-Alun Lamongan menjadi...  Lamongan   \n",
       "...                                                 ...       ...   \n",
       "1919  Keraton ini merupakan tempat bersejarah yang m...  Lamongan   \n",
       "1920  Makam ini memiliki nilai sejarah dan dipercaya...  Lamongan   \n",
       "1921  Pantai ini menawarkan keindahan alam dan suasa...  Lamongan   \n",
       "1922  Makam ini adalah tempat ziarah yang berhubunga...  Lamongan   \n",
       "1923  Cafe Aola adalah tempat nongkrong yang nyaman ...  Lamongan   \n",
       "\n",
       "          Category   Price          city_category  \n",
       "0        Themepark  145000     Lamongan Themepark  \n",
       "1          Edukasi   40000       Lamongan Edukasi  \n",
       "2             Alam  100000          Lamongan Alam  \n",
       "3           Religi       0        Lamongan Religi  \n",
       "4         Olahraga       0      Lamongan Olahraga  \n",
       "...            ...     ...                    ...  \n",
       "1919       Belanja       0       Lamongan Belanja  \n",
       "1920        Religi       0        Lamongan Religi  \n",
       "1921          Alam       0          Lamongan Alam  \n",
       "1922        Religi       0        Lamongan Religi  \n",
       "1923  Alam&Kuliner   25000  Lamongan Alam&Kuliner  \n",
       "\n",
       "[1924 rows x 9 columns]"
      ],
      "text/html": [
       "<div>\n",
       "<style scoped>\n",
       "    .dataframe tbody tr th:only-of-type {\n",
       "        vertical-align: middle;\n",
       "    }\n",
       "\n",
       "    .dataframe tbody tr th {\n",
       "        vertical-align: top;\n",
       "    }\n",
       "\n",
       "    .dataframe thead th {\n",
       "        text-align: right;\n",
       "    }\n",
       "</style>\n",
       "<table border=\"1\" class=\"dataframe\">\n",
       "  <thead>\n",
       "    <tr style=\"text-align: right;\">\n",
       "      <th></th>\n",
       "      <th>User_Id</th>\n",
       "      <th>Place_Id</th>\n",
       "      <th>Place_Ratings</th>\n",
       "      <th>Place_Name</th>\n",
       "      <th>Description</th>\n",
       "      <th>City</th>\n",
       "      <th>Category</th>\n",
       "      <th>Price</th>\n",
       "      <th>city_category</th>\n",
       "    </tr>\n",
       "  </thead>\n",
       "  <tbody>\n",
       "    <tr>\n",
       "      <th>0</th>\n",
       "      <td>1</td>\n",
       "      <td>1</td>\n",
       "      <td>4.50000</td>\n",
       "      <td>Wisata Bahari Lamongan</td>\n",
       "      <td>Wisata Bahari Lamongan merupakan taman hiburan...</td>\n",
       "      <td>Lamongan</td>\n",
       "      <td>Themepark</td>\n",
       "      <td>145000</td>\n",
       "      <td>Lamongan Themepark</td>\n",
       "    </tr>\n",
       "    <tr>\n",
       "      <th>1</th>\n",
       "      <td>1</td>\n",
       "      <td>2</td>\n",
       "      <td>4.50000</td>\n",
       "      <td>Maharani zoo &amp; goa</td>\n",
       "      <td>Objek wisata ini menggabungkan kebun binatang ...</td>\n",
       "      <td>Lamongan</td>\n",
       "      <td>Edukasi</td>\n",
       "      <td>40000</td>\n",
       "      <td>Lamongan Edukasi</td>\n",
       "    </tr>\n",
       "    <tr>\n",
       "      <th>2</th>\n",
       "      <td>1</td>\n",
       "      <td>3</td>\n",
       "      <td>4.83000</td>\n",
       "      <td>Tanjung kodok</td>\n",
       "      <td>Tanjung Kodok adalah kawasan pantai yang memil...</td>\n",
       "      <td>Lamongan</td>\n",
       "      <td>Alam</td>\n",
       "      <td>100000</td>\n",
       "      <td>Lamongan Alam</td>\n",
       "    </tr>\n",
       "    <tr>\n",
       "      <th>3</th>\n",
       "      <td>1</td>\n",
       "      <td>4</td>\n",
       "      <td>5.00000</td>\n",
       "      <td>Masjid Namira</td>\n",
       "      <td>Masjid Namira adalah masjid modern yang terken...</td>\n",
       "      <td>Lamongan</td>\n",
       "      <td>Religi</td>\n",
       "      <td>0</td>\n",
       "      <td>Lamongan Religi</td>\n",
       "    </tr>\n",
       "    <tr>\n",
       "      <th>4</th>\n",
       "      <td>1</td>\n",
       "      <td>5</td>\n",
       "      <td>4.50000</td>\n",
       "      <td>Alun-alun Lamongan</td>\n",
       "      <td>Sebagai pusat kota, Alun-Alun Lamongan menjadi...</td>\n",
       "      <td>Lamongan</td>\n",
       "      <td>Olahraga</td>\n",
       "      <td>0</td>\n",
       "      <td>Lamongan Olahraga</td>\n",
       "    </tr>\n",
       "    <tr>\n",
       "      <th>...</th>\n",
       "      <td>...</td>\n",
       "      <td>...</td>\n",
       "      <td>...</td>\n",
       "      <td>...</td>\n",
       "      <td>...</td>\n",
       "      <td>...</td>\n",
       "      <td>...</td>\n",
       "      <td>...</td>\n",
       "      <td>...</td>\n",
       "    </tr>\n",
       "    <tr>\n",
       "      <th>1919</th>\n",
       "      <td>74</td>\n",
       "      <td>22</td>\n",
       "      <td>3.17000</td>\n",
       "      <td>Keraton bbj babat</td>\n",
       "      <td>Keraton ini merupakan tempat bersejarah yang m...</td>\n",
       "      <td>Lamongan</td>\n",
       "      <td>Belanja</td>\n",
       "      <td>0</td>\n",
       "      <td>Lamongan Belanja</td>\n",
       "    </tr>\n",
       "    <tr>\n",
       "      <th>1920</th>\n",
       "      <td>74</td>\n",
       "      <td>23</td>\n",
       "      <td>3.00000</td>\n",
       "      <td>Makam dewi serdadu</td>\n",
       "      <td>Makam ini memiliki nilai sejarah dan dipercaya...</td>\n",
       "      <td>Lamongan</td>\n",
       "      <td>Religi</td>\n",
       "      <td>0</td>\n",
       "      <td>Lamongan Religi</td>\n",
       "    </tr>\n",
       "    <tr>\n",
       "      <th>1921</th>\n",
       "      <td>74</td>\n",
       "      <td>24</td>\n",
       "      <td>3.17000</td>\n",
       "      <td>Pantai lohgung brondong</td>\n",
       "      <td>Pantai ini menawarkan keindahan alam dan suasa...</td>\n",
       "      <td>Lamongan</td>\n",
       "      <td>Alam</td>\n",
       "      <td>0</td>\n",
       "      <td>Lamongan Alam</td>\n",
       "    </tr>\n",
       "    <tr>\n",
       "      <th>1922</th>\n",
       "      <td>74</td>\n",
       "      <td>25</td>\n",
       "      <td>2.83000</td>\n",
       "      <td>Makam nyi andong sari</td>\n",
       "      <td>Makam ini adalah tempat ziarah yang berhubunga...</td>\n",
       "      <td>Lamongan</td>\n",
       "      <td>Religi</td>\n",
       "      <td>0</td>\n",
       "      <td>Lamongan Religi</td>\n",
       "    </tr>\n",
       "    <tr>\n",
       "      <th>1923</th>\n",
       "      <td>74</td>\n",
       "      <td>26</td>\n",
       "      <td>4.16667</td>\n",
       "      <td>Cafe Aola</td>\n",
       "      <td>Cafe Aola adalah tempat nongkrong yang nyaman ...</td>\n",
       "      <td>Lamongan</td>\n",
       "      <td>Alam&amp;Kuliner</td>\n",
       "      <td>25000</td>\n",
       "      <td>Lamongan Alam&amp;Kuliner</td>\n",
       "    </tr>\n",
       "  </tbody>\n",
       "</table>\n",
       "<p>1924 rows × 9 columns</p>\n",
       "</div>"
      ]
     },
     "execution_count": 32,
     "metadata": {},
     "output_type": "execute_result"
    }
   ],
   "execution_count": 32
  },
  {
   "cell_type": "markdown",
   "source": "# Data Preparation",
   "metadata": {
    "_kg_hide-output": false
   }
  },
  {
   "cell_type": "markdown",
   "source": "## Missing Values",
   "metadata": {
    "_kg_hide-output": false
   }
  },
  {
   "cell_type": "code",
   "source": "all_tourism.isnull().sum()",
   "metadata": {
    "_kg_hide-output": false,
    "execution": {
     "iopub.status.busy": "2024-12-13T02:55:05.653362Z",
     "iopub.execute_input": "2024-12-13T02:55:05.653730Z",
     "iopub.status.idle": "2024-12-13T02:55:05.662805Z",
     "shell.execute_reply.started": "2024-12-13T02:55:05.653697Z",
     "shell.execute_reply": "2024-12-13T02:55:05.661862Z"
    },
    "trusted": true,
    "ExecuteTime": {
     "end_time": "2024-12-13T10:31:40.140713Z",
     "start_time": "2024-12-13T10:31:40.132873Z"
    }
   },
   "outputs": [
    {
     "data": {
      "text/plain": [
       "User_Id          0\n",
       "Place_Id         0\n",
       "Place_Ratings    0\n",
       "Place_Name       0\n",
       "Description      0\n",
       "City             0\n",
       "Category         0\n",
       "Price            0\n",
       "city_category    0\n",
       "dtype: int64"
      ]
     },
     "execution_count": 39,
     "metadata": {},
     "output_type": "execute_result"
    }
   ],
   "execution_count": 39
  },
  {
   "cell_type": "code",
   "source": "preparation= all_tourism.drop_duplicates(\"Place_Id\")\npreparation",
   "metadata": {
    "_kg_hide-output": false,
    "execution": {
     "iopub.status.busy": "2024-12-13T02:55:08.024253Z",
     "iopub.execute_input": "2024-12-13T02:55:08.024988Z",
     "iopub.status.idle": "2024-12-13T02:55:08.045492Z",
     "shell.execute_reply.started": "2024-12-13T02:55:08.024956Z",
     "shell.execute_reply": "2024-12-13T02:55:08.044483Z"
    },
    "trusted": true,
    "ExecuteTime": {
     "end_time": "2024-12-13T10:31:47.624869Z",
     "start_time": "2024-12-13T10:31:47.611541Z"
    }
   },
   "outputs": [
    {
     "data": {
      "text/plain": [
       "    User_Id  Place_Id  Place_Ratings                    Place_Name  \\\n",
       "0         1         1           4.50        Wisata Bahari Lamongan   \n",
       "1         1         2           4.50            Maharani zoo & goa   \n",
       "2         1         3           4.83                 Tanjung kodok   \n",
       "3         1         4           5.00                 Masjid Namira   \n",
       "4         1         5           4.50            Alun-alun Lamongan   \n",
       "5         1         6           5.00         Masjid Agung Lamongan   \n",
       "6         1         7           4.00                 Wego Lamongan   \n",
       "7         1         8           5.00            Makam Sunan Drajat   \n",
       "8         1         9           5.00           Makam maulana Ishaq   \n",
       "9         1        10           5.00                 Museum Drajat   \n",
       "10        1        11           5.00            Makam joko Tingkir   \n",
       "11        1        12           5.00  Indonesia islamic art museum   \n",
       "12        1        13           4.67           Pantai Putri Klayar   \n",
       "13        1        14           5.00                 Pantai kutang   \n",
       "14        1        15           5.00                 Pantai lorena   \n",
       "15        1        16           5.00           Pantai joko mursodo   \n",
       "16        1        17           4.94     Pantai maldives kemantren   \n",
       "17        1        18           5.00          Istana gunung mas 27   \n",
       "18        1        19           5.00                 Waduk gondang   \n",
       "19        1        20           5.00           Makam sunan Sendang   \n",
       "20        1        21           5.00                        Bathil   \n",
       "21        1        22           5.00             Keraton bbj babat   \n",
       "22        1        23           5.00            Makam dewi serdadu   \n",
       "23        1        24           5.00       Pantai lohgung brondong   \n",
       "24        1        25           5.00         Makam nyi andong sari   \n",
       "25        1        26           5.00                     Cafe Aola   \n",
       "\n",
       "                                          Description      City      Category  \\\n",
       "0   Wisata Bahari Lamongan merupakan taman hiburan...  Lamongan     Themepark   \n",
       "1   Objek wisata ini menggabungkan kebun binatang ...  Lamongan       Edukasi   \n",
       "2   Tanjung Kodok adalah kawasan pantai yang memil...  Lamongan          Alam   \n",
       "3   Masjid Namira adalah masjid modern yang terken...  Lamongan        Religi   \n",
       "4   Sebagai pusat kota, Alun-Alun Lamongan menjadi...  Lamongan      Olahraga   \n",
       "5   Masjid ini merupakan ikon religi di Lamongan, ...  Lamongan        Religi   \n",
       "6   Wego menawarkan wisata edukasi dan outbond, co...  Lamongan          Alam   \n",
       "7   Makam Sunan Drajat adalah tempat ziarah terken...  Lamongan        Religi   \n",
       "8   Maulana Ishaq dikenal sebagai ulama besar dan ...  Lamongan        Religi   \n",
       "9   Terletak di kompleks makam Sunan Drajat, museu...  Lamongan       Edukasi   \n",
       "10  Makam ini merupakan tempat peristirahatan tera...  Lamongan        Religi   \n",
       "11  Museum ini menampilkan berbagai koleksi seni d...  Lamongan       Edukasi   \n",
       "12  Pantai ini menawarkan pemandangan yang indah d...  Lamongan          Alam   \n",
       "13  Pantai Kutang memiliki keunikan berupa akar-ak...  Lamongan          Alam   \n",
       "14  Pantai ini terkenal dengan keindahan matahari ...  Lamongan          Alam   \n",
       "15  Pantai ini dikenal dengan suasana alami dan pe...  Lamongan          Alam   \n",
       "16  Pantai ini disebut \"Maldives\"-nya Lamongan kar...  Lamongan          Alam   \n",
       "17  Istana Gunung Mas adalah restoran dan tempat w...  Lamongan          Alam   \n",
       "18  Waduk ini adalah tempat wisata alam sekaligus ...  Lamongan          Alam   \n",
       "19  Makam ini adalah salah satu tempat ziarah pent...  Lamongan        Religi   \n",
       "20  Bathil adalah kawasan pelabuhan tradisional ya...  Lamongan       Kuliner   \n",
       "21  Keraton ini merupakan tempat bersejarah yang m...  Lamongan       Belanja   \n",
       "22  Makam ini memiliki nilai sejarah dan dipercaya...  Lamongan        Religi   \n",
       "23  Pantai ini menawarkan keindahan alam dan suasa...  Lamongan          Alam   \n",
       "24  Makam ini adalah tempat ziarah yang berhubunga...  Lamongan        Religi   \n",
       "25  Cafe Aola adalah tempat nongkrong yang nyaman ...  Lamongan  Alam&Kuliner   \n",
       "\n",
       "     Price          city_category  \n",
       "0   145000     Lamongan Themepark  \n",
       "1    40000       Lamongan Edukasi  \n",
       "2   100000          Lamongan Alam  \n",
       "3        0        Lamongan Religi  \n",
       "4        0      Lamongan Olahraga  \n",
       "5        0        Lamongan Religi  \n",
       "6    25000          Lamongan Alam  \n",
       "7    10000        Lamongan Religi  \n",
       "8        0        Lamongan Religi  \n",
       "9        0       Lamongan Edukasi  \n",
       "10       0        Lamongan Religi  \n",
       "11       0       Lamongan Edukasi  \n",
       "12   10000          Lamongan Alam  \n",
       "13   10000          Lamongan Alam  \n",
       "14   10000          Lamongan Alam  \n",
       "15   10000          Lamongan Alam  \n",
       "16   10000          Lamongan Alam  \n",
       "17       0          Lamongan Alam  \n",
       "18       0          Lamongan Alam  \n",
       "19       0        Lamongan Religi  \n",
       "20    5000       Lamongan Kuliner  \n",
       "21       0       Lamongan Belanja  \n",
       "22       0        Lamongan Religi  \n",
       "23       0          Lamongan Alam  \n",
       "24       0        Lamongan Religi  \n",
       "25   25000  Lamongan Alam&Kuliner  "
      ],
      "text/html": [
       "<div>\n",
       "<style scoped>\n",
       "    .dataframe tbody tr th:only-of-type {\n",
       "        vertical-align: middle;\n",
       "    }\n",
       "\n",
       "    .dataframe tbody tr th {\n",
       "        vertical-align: top;\n",
       "    }\n",
       "\n",
       "    .dataframe thead th {\n",
       "        text-align: right;\n",
       "    }\n",
       "</style>\n",
       "<table border=\"1\" class=\"dataframe\">\n",
       "  <thead>\n",
       "    <tr style=\"text-align: right;\">\n",
       "      <th></th>\n",
       "      <th>User_Id</th>\n",
       "      <th>Place_Id</th>\n",
       "      <th>Place_Ratings</th>\n",
       "      <th>Place_Name</th>\n",
       "      <th>Description</th>\n",
       "      <th>City</th>\n",
       "      <th>Category</th>\n",
       "      <th>Price</th>\n",
       "      <th>city_category</th>\n",
       "    </tr>\n",
       "  </thead>\n",
       "  <tbody>\n",
       "    <tr>\n",
       "      <th>0</th>\n",
       "      <td>1</td>\n",
       "      <td>1</td>\n",
       "      <td>4.50</td>\n",
       "      <td>Wisata Bahari Lamongan</td>\n",
       "      <td>Wisata Bahari Lamongan merupakan taman hiburan...</td>\n",
       "      <td>Lamongan</td>\n",
       "      <td>Themepark</td>\n",
       "      <td>145000</td>\n",
       "      <td>Lamongan Themepark</td>\n",
       "    </tr>\n",
       "    <tr>\n",
       "      <th>1</th>\n",
       "      <td>1</td>\n",
       "      <td>2</td>\n",
       "      <td>4.50</td>\n",
       "      <td>Maharani zoo &amp; goa</td>\n",
       "      <td>Objek wisata ini menggabungkan kebun binatang ...</td>\n",
       "      <td>Lamongan</td>\n",
       "      <td>Edukasi</td>\n",
       "      <td>40000</td>\n",
       "      <td>Lamongan Edukasi</td>\n",
       "    </tr>\n",
       "    <tr>\n",
       "      <th>2</th>\n",
       "      <td>1</td>\n",
       "      <td>3</td>\n",
       "      <td>4.83</td>\n",
       "      <td>Tanjung kodok</td>\n",
       "      <td>Tanjung Kodok adalah kawasan pantai yang memil...</td>\n",
       "      <td>Lamongan</td>\n",
       "      <td>Alam</td>\n",
       "      <td>100000</td>\n",
       "      <td>Lamongan Alam</td>\n",
       "    </tr>\n",
       "    <tr>\n",
       "      <th>3</th>\n",
       "      <td>1</td>\n",
       "      <td>4</td>\n",
       "      <td>5.00</td>\n",
       "      <td>Masjid Namira</td>\n",
       "      <td>Masjid Namira adalah masjid modern yang terken...</td>\n",
       "      <td>Lamongan</td>\n",
       "      <td>Religi</td>\n",
       "      <td>0</td>\n",
       "      <td>Lamongan Religi</td>\n",
       "    </tr>\n",
       "    <tr>\n",
       "      <th>4</th>\n",
       "      <td>1</td>\n",
       "      <td>5</td>\n",
       "      <td>4.50</td>\n",
       "      <td>Alun-alun Lamongan</td>\n",
       "      <td>Sebagai pusat kota, Alun-Alun Lamongan menjadi...</td>\n",
       "      <td>Lamongan</td>\n",
       "      <td>Olahraga</td>\n",
       "      <td>0</td>\n",
       "      <td>Lamongan Olahraga</td>\n",
       "    </tr>\n",
       "    <tr>\n",
       "      <th>5</th>\n",
       "      <td>1</td>\n",
       "      <td>6</td>\n",
       "      <td>5.00</td>\n",
       "      <td>Masjid Agung Lamongan</td>\n",
       "      <td>Masjid ini merupakan ikon religi di Lamongan, ...</td>\n",
       "      <td>Lamongan</td>\n",
       "      <td>Religi</td>\n",
       "      <td>0</td>\n",
       "      <td>Lamongan Religi</td>\n",
       "    </tr>\n",
       "    <tr>\n",
       "      <th>6</th>\n",
       "      <td>1</td>\n",
       "      <td>7</td>\n",
       "      <td>4.00</td>\n",
       "      <td>Wego Lamongan</td>\n",
       "      <td>Wego menawarkan wisata edukasi dan outbond, co...</td>\n",
       "      <td>Lamongan</td>\n",
       "      <td>Alam</td>\n",
       "      <td>25000</td>\n",
       "      <td>Lamongan Alam</td>\n",
       "    </tr>\n",
       "    <tr>\n",
       "      <th>7</th>\n",
       "      <td>1</td>\n",
       "      <td>8</td>\n",
       "      <td>5.00</td>\n",
       "      <td>Makam Sunan Drajat</td>\n",
       "      <td>Makam Sunan Drajat adalah tempat ziarah terken...</td>\n",
       "      <td>Lamongan</td>\n",
       "      <td>Religi</td>\n",
       "      <td>10000</td>\n",
       "      <td>Lamongan Religi</td>\n",
       "    </tr>\n",
       "    <tr>\n",
       "      <th>8</th>\n",
       "      <td>1</td>\n",
       "      <td>9</td>\n",
       "      <td>5.00</td>\n",
       "      <td>Makam maulana Ishaq</td>\n",
       "      <td>Maulana Ishaq dikenal sebagai ulama besar dan ...</td>\n",
       "      <td>Lamongan</td>\n",
       "      <td>Religi</td>\n",
       "      <td>0</td>\n",
       "      <td>Lamongan Religi</td>\n",
       "    </tr>\n",
       "    <tr>\n",
       "      <th>9</th>\n",
       "      <td>1</td>\n",
       "      <td>10</td>\n",
       "      <td>5.00</td>\n",
       "      <td>Museum Drajat</td>\n",
       "      <td>Terletak di kompleks makam Sunan Drajat, museu...</td>\n",
       "      <td>Lamongan</td>\n",
       "      <td>Edukasi</td>\n",
       "      <td>0</td>\n",
       "      <td>Lamongan Edukasi</td>\n",
       "    </tr>\n",
       "    <tr>\n",
       "      <th>10</th>\n",
       "      <td>1</td>\n",
       "      <td>11</td>\n",
       "      <td>5.00</td>\n",
       "      <td>Makam joko Tingkir</td>\n",
       "      <td>Makam ini merupakan tempat peristirahatan tera...</td>\n",
       "      <td>Lamongan</td>\n",
       "      <td>Religi</td>\n",
       "      <td>0</td>\n",
       "      <td>Lamongan Religi</td>\n",
       "    </tr>\n",
       "    <tr>\n",
       "      <th>11</th>\n",
       "      <td>1</td>\n",
       "      <td>12</td>\n",
       "      <td>5.00</td>\n",
       "      <td>Indonesia islamic art museum</td>\n",
       "      <td>Museum ini menampilkan berbagai koleksi seni d...</td>\n",
       "      <td>Lamongan</td>\n",
       "      <td>Edukasi</td>\n",
       "      <td>0</td>\n",
       "      <td>Lamongan Edukasi</td>\n",
       "    </tr>\n",
       "    <tr>\n",
       "      <th>12</th>\n",
       "      <td>1</td>\n",
       "      <td>13</td>\n",
       "      <td>4.67</td>\n",
       "      <td>Pantai Putri Klayar</td>\n",
       "      <td>Pantai ini menawarkan pemandangan yang indah d...</td>\n",
       "      <td>Lamongan</td>\n",
       "      <td>Alam</td>\n",
       "      <td>10000</td>\n",
       "      <td>Lamongan Alam</td>\n",
       "    </tr>\n",
       "    <tr>\n",
       "      <th>13</th>\n",
       "      <td>1</td>\n",
       "      <td>14</td>\n",
       "      <td>5.00</td>\n",
       "      <td>Pantai kutang</td>\n",
       "      <td>Pantai Kutang memiliki keunikan berupa akar-ak...</td>\n",
       "      <td>Lamongan</td>\n",
       "      <td>Alam</td>\n",
       "      <td>10000</td>\n",
       "      <td>Lamongan Alam</td>\n",
       "    </tr>\n",
       "    <tr>\n",
       "      <th>14</th>\n",
       "      <td>1</td>\n",
       "      <td>15</td>\n",
       "      <td>5.00</td>\n",
       "      <td>Pantai lorena</td>\n",
       "      <td>Pantai ini terkenal dengan keindahan matahari ...</td>\n",
       "      <td>Lamongan</td>\n",
       "      <td>Alam</td>\n",
       "      <td>10000</td>\n",
       "      <td>Lamongan Alam</td>\n",
       "    </tr>\n",
       "    <tr>\n",
       "      <th>15</th>\n",
       "      <td>1</td>\n",
       "      <td>16</td>\n",
       "      <td>5.00</td>\n",
       "      <td>Pantai joko mursodo</td>\n",
       "      <td>Pantai ini dikenal dengan suasana alami dan pe...</td>\n",
       "      <td>Lamongan</td>\n",
       "      <td>Alam</td>\n",
       "      <td>10000</td>\n",
       "      <td>Lamongan Alam</td>\n",
       "    </tr>\n",
       "    <tr>\n",
       "      <th>16</th>\n",
       "      <td>1</td>\n",
       "      <td>17</td>\n",
       "      <td>4.94</td>\n",
       "      <td>Pantai maldives kemantren</td>\n",
       "      <td>Pantai ini disebut \"Maldives\"-nya Lamongan kar...</td>\n",
       "      <td>Lamongan</td>\n",
       "      <td>Alam</td>\n",
       "      <td>10000</td>\n",
       "      <td>Lamongan Alam</td>\n",
       "    </tr>\n",
       "    <tr>\n",
       "      <th>17</th>\n",
       "      <td>1</td>\n",
       "      <td>18</td>\n",
       "      <td>5.00</td>\n",
       "      <td>Istana gunung mas 27</td>\n",
       "      <td>Istana Gunung Mas adalah restoran dan tempat w...</td>\n",
       "      <td>Lamongan</td>\n",
       "      <td>Alam</td>\n",
       "      <td>0</td>\n",
       "      <td>Lamongan Alam</td>\n",
       "    </tr>\n",
       "    <tr>\n",
       "      <th>18</th>\n",
       "      <td>1</td>\n",
       "      <td>19</td>\n",
       "      <td>5.00</td>\n",
       "      <td>Waduk gondang</td>\n",
       "      <td>Waduk ini adalah tempat wisata alam sekaligus ...</td>\n",
       "      <td>Lamongan</td>\n",
       "      <td>Alam</td>\n",
       "      <td>0</td>\n",
       "      <td>Lamongan Alam</td>\n",
       "    </tr>\n",
       "    <tr>\n",
       "      <th>19</th>\n",
       "      <td>1</td>\n",
       "      <td>20</td>\n",
       "      <td>5.00</td>\n",
       "      <td>Makam sunan Sendang</td>\n",
       "      <td>Makam ini adalah salah satu tempat ziarah pent...</td>\n",
       "      <td>Lamongan</td>\n",
       "      <td>Religi</td>\n",
       "      <td>0</td>\n",
       "      <td>Lamongan Religi</td>\n",
       "    </tr>\n",
       "    <tr>\n",
       "      <th>20</th>\n",
       "      <td>1</td>\n",
       "      <td>21</td>\n",
       "      <td>5.00</td>\n",
       "      <td>Bathil</td>\n",
       "      <td>Bathil adalah kawasan pelabuhan tradisional ya...</td>\n",
       "      <td>Lamongan</td>\n",
       "      <td>Kuliner</td>\n",
       "      <td>5000</td>\n",
       "      <td>Lamongan Kuliner</td>\n",
       "    </tr>\n",
       "    <tr>\n",
       "      <th>21</th>\n",
       "      <td>1</td>\n",
       "      <td>22</td>\n",
       "      <td>5.00</td>\n",
       "      <td>Keraton bbj babat</td>\n",
       "      <td>Keraton ini merupakan tempat bersejarah yang m...</td>\n",
       "      <td>Lamongan</td>\n",
       "      <td>Belanja</td>\n",
       "      <td>0</td>\n",
       "      <td>Lamongan Belanja</td>\n",
       "    </tr>\n",
       "    <tr>\n",
       "      <th>22</th>\n",
       "      <td>1</td>\n",
       "      <td>23</td>\n",
       "      <td>5.00</td>\n",
       "      <td>Makam dewi serdadu</td>\n",
       "      <td>Makam ini memiliki nilai sejarah dan dipercaya...</td>\n",
       "      <td>Lamongan</td>\n",
       "      <td>Religi</td>\n",
       "      <td>0</td>\n",
       "      <td>Lamongan Religi</td>\n",
       "    </tr>\n",
       "    <tr>\n",
       "      <th>23</th>\n",
       "      <td>1</td>\n",
       "      <td>24</td>\n",
       "      <td>5.00</td>\n",
       "      <td>Pantai lohgung brondong</td>\n",
       "      <td>Pantai ini menawarkan keindahan alam dan suasa...</td>\n",
       "      <td>Lamongan</td>\n",
       "      <td>Alam</td>\n",
       "      <td>0</td>\n",
       "      <td>Lamongan Alam</td>\n",
       "    </tr>\n",
       "    <tr>\n",
       "      <th>24</th>\n",
       "      <td>1</td>\n",
       "      <td>25</td>\n",
       "      <td>5.00</td>\n",
       "      <td>Makam nyi andong sari</td>\n",
       "      <td>Makam ini adalah tempat ziarah yang berhubunga...</td>\n",
       "      <td>Lamongan</td>\n",
       "      <td>Religi</td>\n",
       "      <td>0</td>\n",
       "      <td>Lamongan Religi</td>\n",
       "    </tr>\n",
       "    <tr>\n",
       "      <th>25</th>\n",
       "      <td>1</td>\n",
       "      <td>26</td>\n",
       "      <td>5.00</td>\n",
       "      <td>Cafe Aola</td>\n",
       "      <td>Cafe Aola adalah tempat nongkrong yang nyaman ...</td>\n",
       "      <td>Lamongan</td>\n",
       "      <td>Alam&amp;Kuliner</td>\n",
       "      <td>25000</td>\n",
       "      <td>Lamongan Alam&amp;Kuliner</td>\n",
       "    </tr>\n",
       "  </tbody>\n",
       "</table>\n",
       "</div>"
      ]
     },
     "execution_count": 40,
     "metadata": {},
     "output_type": "execute_result"
    }
   ],
   "execution_count": 40
  },
  {
   "cell_type": "code",
   "source": "place_id = preparation.Place_Id.tolist()\n\nplace_name = preparation.Place_Name.tolist()\n\nplace_category = preparation.Category.tolist()\n\nplace_desc = preparation.Description.tolist()\n\nplace_city = preparation.City.tolist()\n\ncity_category = preparation.city_category.tolist()\n\nprice = preparation.Price.tolist()",
   "metadata": {
    "_kg_hide-output": false,
    "execution": {
     "iopub.status.busy": "2024-12-13T02:55:35.388060Z",
     "iopub.execute_input": "2024-12-13T02:55:35.388424Z",
     "iopub.status.idle": "2024-12-13T02:55:35.393731Z",
     "shell.execute_reply.started": "2024-12-13T02:55:35.388395Z",
     "shell.execute_reply": "2024-12-13T02:55:35.392710Z"
    },
    "trusted": true,
    "ExecuteTime": {
     "end_time": "2024-12-13T10:31:57.482291Z",
     "start_time": "2024-12-13T10:31:57.468589Z"
    }
   },
   "outputs": [],
   "execution_count": 41
  },
  {
   "cell_type": "code",
   "source": "tourism_new = pd.DataFrame({\n    \"id\":place_id,\n    \"name\":place_name,\n    \"category\":place_category,\n    \"description\":place_desc,\n    \"city\":place_city,\n    \"city_category\":city_category,\n    \"price\":price\n})\n\ntourism_new",
   "metadata": {
    "_kg_hide-output": false,
    "execution": {
     "iopub.status.busy": "2024-12-13T02:55:37.490942Z",
     "iopub.execute_input": "2024-12-13T02:55:37.491793Z",
     "iopub.status.idle": "2024-12-13T02:55:37.508667Z",
     "shell.execute_reply.started": "2024-12-13T02:55:37.491745Z",
     "shell.execute_reply": "2024-12-13T02:55:37.507804Z"
    },
    "trusted": true,
    "ExecuteTime": {
     "end_time": "2024-12-13T10:31:59.349278Z",
     "start_time": "2024-12-13T10:31:59.337586Z"
    }
   },
   "outputs": [
    {
     "data": {
      "text/plain": [
       "    id                          name      category  \\\n",
       "0    1        Wisata Bahari Lamongan     Themepark   \n",
       "1    2            Maharani zoo & goa       Edukasi   \n",
       "2    3                 Tanjung kodok          Alam   \n",
       "3    4                 Masjid Namira        Religi   \n",
       "4    5            Alun-alun Lamongan      Olahraga   \n",
       "5    6         Masjid Agung Lamongan        Religi   \n",
       "6    7                 Wego Lamongan          Alam   \n",
       "7    8            Makam Sunan Drajat        Religi   \n",
       "8    9           Makam maulana Ishaq        Religi   \n",
       "9   10                 Museum Drajat       Edukasi   \n",
       "10  11            Makam joko Tingkir        Religi   \n",
       "11  12  Indonesia islamic art museum       Edukasi   \n",
       "12  13           Pantai Putri Klayar          Alam   \n",
       "13  14                 Pantai kutang          Alam   \n",
       "14  15                 Pantai lorena          Alam   \n",
       "15  16           Pantai joko mursodo          Alam   \n",
       "16  17     Pantai maldives kemantren          Alam   \n",
       "17  18          Istana gunung mas 27          Alam   \n",
       "18  19                 Waduk gondang          Alam   \n",
       "19  20           Makam sunan Sendang        Religi   \n",
       "20  21                        Bathil       Kuliner   \n",
       "21  22             Keraton bbj babat       Belanja   \n",
       "22  23            Makam dewi serdadu        Religi   \n",
       "23  24       Pantai lohgung brondong          Alam   \n",
       "24  25         Makam nyi andong sari        Religi   \n",
       "25  26                     Cafe Aola  Alam&Kuliner   \n",
       "\n",
       "                                          description      city  \\\n",
       "0   Wisata Bahari Lamongan merupakan taman hiburan...  Lamongan   \n",
       "1   Objek wisata ini menggabungkan kebun binatang ...  Lamongan   \n",
       "2   Tanjung Kodok adalah kawasan pantai yang memil...  Lamongan   \n",
       "3   Masjid Namira adalah masjid modern yang terken...  Lamongan   \n",
       "4   Sebagai pusat kota, Alun-Alun Lamongan menjadi...  Lamongan   \n",
       "5   Masjid ini merupakan ikon religi di Lamongan, ...  Lamongan   \n",
       "6   Wego menawarkan wisata edukasi dan outbond, co...  Lamongan   \n",
       "7   Makam Sunan Drajat adalah tempat ziarah terken...  Lamongan   \n",
       "8   Maulana Ishaq dikenal sebagai ulama besar dan ...  Lamongan   \n",
       "9   Terletak di kompleks makam Sunan Drajat, museu...  Lamongan   \n",
       "10  Makam ini merupakan tempat peristirahatan tera...  Lamongan   \n",
       "11  Museum ini menampilkan berbagai koleksi seni d...  Lamongan   \n",
       "12  Pantai ini menawarkan pemandangan yang indah d...  Lamongan   \n",
       "13  Pantai Kutang memiliki keunikan berupa akar-ak...  Lamongan   \n",
       "14  Pantai ini terkenal dengan keindahan matahari ...  Lamongan   \n",
       "15  Pantai ini dikenal dengan suasana alami dan pe...  Lamongan   \n",
       "16  Pantai ini disebut \"Maldives\"-nya Lamongan kar...  Lamongan   \n",
       "17  Istana Gunung Mas adalah restoran dan tempat w...  Lamongan   \n",
       "18  Waduk ini adalah tempat wisata alam sekaligus ...  Lamongan   \n",
       "19  Makam ini adalah salah satu tempat ziarah pent...  Lamongan   \n",
       "20  Bathil adalah kawasan pelabuhan tradisional ya...  Lamongan   \n",
       "21  Keraton ini merupakan tempat bersejarah yang m...  Lamongan   \n",
       "22  Makam ini memiliki nilai sejarah dan dipercaya...  Lamongan   \n",
       "23  Pantai ini menawarkan keindahan alam dan suasa...  Lamongan   \n",
       "24  Makam ini adalah tempat ziarah yang berhubunga...  Lamongan   \n",
       "25  Cafe Aola adalah tempat nongkrong yang nyaman ...  Lamongan   \n",
       "\n",
       "            city_category   price  \n",
       "0      Lamongan Themepark  145000  \n",
       "1        Lamongan Edukasi   40000  \n",
       "2           Lamongan Alam  100000  \n",
       "3         Lamongan Religi       0  \n",
       "4       Lamongan Olahraga       0  \n",
       "5         Lamongan Religi       0  \n",
       "6           Lamongan Alam   25000  \n",
       "7         Lamongan Religi   10000  \n",
       "8         Lamongan Religi       0  \n",
       "9        Lamongan Edukasi       0  \n",
       "10        Lamongan Religi       0  \n",
       "11       Lamongan Edukasi       0  \n",
       "12          Lamongan Alam   10000  \n",
       "13          Lamongan Alam   10000  \n",
       "14          Lamongan Alam   10000  \n",
       "15          Lamongan Alam   10000  \n",
       "16          Lamongan Alam   10000  \n",
       "17          Lamongan Alam       0  \n",
       "18          Lamongan Alam       0  \n",
       "19        Lamongan Religi       0  \n",
       "20       Lamongan Kuliner    5000  \n",
       "21       Lamongan Belanja       0  \n",
       "22        Lamongan Religi       0  \n",
       "23          Lamongan Alam       0  \n",
       "24        Lamongan Religi       0  \n",
       "25  Lamongan Alam&Kuliner   25000  "
      ],
      "text/html": [
       "<div>\n",
       "<style scoped>\n",
       "    .dataframe tbody tr th:only-of-type {\n",
       "        vertical-align: middle;\n",
       "    }\n",
       "\n",
       "    .dataframe tbody tr th {\n",
       "        vertical-align: top;\n",
       "    }\n",
       "\n",
       "    .dataframe thead th {\n",
       "        text-align: right;\n",
       "    }\n",
       "</style>\n",
       "<table border=\"1\" class=\"dataframe\">\n",
       "  <thead>\n",
       "    <tr style=\"text-align: right;\">\n",
       "      <th></th>\n",
       "      <th>id</th>\n",
       "      <th>name</th>\n",
       "      <th>category</th>\n",
       "      <th>description</th>\n",
       "      <th>city</th>\n",
       "      <th>city_category</th>\n",
       "      <th>price</th>\n",
       "    </tr>\n",
       "  </thead>\n",
       "  <tbody>\n",
       "    <tr>\n",
       "      <th>0</th>\n",
       "      <td>1</td>\n",
       "      <td>Wisata Bahari Lamongan</td>\n",
       "      <td>Themepark</td>\n",
       "      <td>Wisata Bahari Lamongan merupakan taman hiburan...</td>\n",
       "      <td>Lamongan</td>\n",
       "      <td>Lamongan Themepark</td>\n",
       "      <td>145000</td>\n",
       "    </tr>\n",
       "    <tr>\n",
       "      <th>1</th>\n",
       "      <td>2</td>\n",
       "      <td>Maharani zoo &amp; goa</td>\n",
       "      <td>Edukasi</td>\n",
       "      <td>Objek wisata ini menggabungkan kebun binatang ...</td>\n",
       "      <td>Lamongan</td>\n",
       "      <td>Lamongan Edukasi</td>\n",
       "      <td>40000</td>\n",
       "    </tr>\n",
       "    <tr>\n",
       "      <th>2</th>\n",
       "      <td>3</td>\n",
       "      <td>Tanjung kodok</td>\n",
       "      <td>Alam</td>\n",
       "      <td>Tanjung Kodok adalah kawasan pantai yang memil...</td>\n",
       "      <td>Lamongan</td>\n",
       "      <td>Lamongan Alam</td>\n",
       "      <td>100000</td>\n",
       "    </tr>\n",
       "    <tr>\n",
       "      <th>3</th>\n",
       "      <td>4</td>\n",
       "      <td>Masjid Namira</td>\n",
       "      <td>Religi</td>\n",
       "      <td>Masjid Namira adalah masjid modern yang terken...</td>\n",
       "      <td>Lamongan</td>\n",
       "      <td>Lamongan Religi</td>\n",
       "      <td>0</td>\n",
       "    </tr>\n",
       "    <tr>\n",
       "      <th>4</th>\n",
       "      <td>5</td>\n",
       "      <td>Alun-alun Lamongan</td>\n",
       "      <td>Olahraga</td>\n",
       "      <td>Sebagai pusat kota, Alun-Alun Lamongan menjadi...</td>\n",
       "      <td>Lamongan</td>\n",
       "      <td>Lamongan Olahraga</td>\n",
       "      <td>0</td>\n",
       "    </tr>\n",
       "    <tr>\n",
       "      <th>5</th>\n",
       "      <td>6</td>\n",
       "      <td>Masjid Agung Lamongan</td>\n",
       "      <td>Religi</td>\n",
       "      <td>Masjid ini merupakan ikon religi di Lamongan, ...</td>\n",
       "      <td>Lamongan</td>\n",
       "      <td>Lamongan Religi</td>\n",
       "      <td>0</td>\n",
       "    </tr>\n",
       "    <tr>\n",
       "      <th>6</th>\n",
       "      <td>7</td>\n",
       "      <td>Wego Lamongan</td>\n",
       "      <td>Alam</td>\n",
       "      <td>Wego menawarkan wisata edukasi dan outbond, co...</td>\n",
       "      <td>Lamongan</td>\n",
       "      <td>Lamongan Alam</td>\n",
       "      <td>25000</td>\n",
       "    </tr>\n",
       "    <tr>\n",
       "      <th>7</th>\n",
       "      <td>8</td>\n",
       "      <td>Makam Sunan Drajat</td>\n",
       "      <td>Religi</td>\n",
       "      <td>Makam Sunan Drajat adalah tempat ziarah terken...</td>\n",
       "      <td>Lamongan</td>\n",
       "      <td>Lamongan Religi</td>\n",
       "      <td>10000</td>\n",
       "    </tr>\n",
       "    <tr>\n",
       "      <th>8</th>\n",
       "      <td>9</td>\n",
       "      <td>Makam maulana Ishaq</td>\n",
       "      <td>Religi</td>\n",
       "      <td>Maulana Ishaq dikenal sebagai ulama besar dan ...</td>\n",
       "      <td>Lamongan</td>\n",
       "      <td>Lamongan Religi</td>\n",
       "      <td>0</td>\n",
       "    </tr>\n",
       "    <tr>\n",
       "      <th>9</th>\n",
       "      <td>10</td>\n",
       "      <td>Museum Drajat</td>\n",
       "      <td>Edukasi</td>\n",
       "      <td>Terletak di kompleks makam Sunan Drajat, museu...</td>\n",
       "      <td>Lamongan</td>\n",
       "      <td>Lamongan Edukasi</td>\n",
       "      <td>0</td>\n",
       "    </tr>\n",
       "    <tr>\n",
       "      <th>10</th>\n",
       "      <td>11</td>\n",
       "      <td>Makam joko Tingkir</td>\n",
       "      <td>Religi</td>\n",
       "      <td>Makam ini merupakan tempat peristirahatan tera...</td>\n",
       "      <td>Lamongan</td>\n",
       "      <td>Lamongan Religi</td>\n",
       "      <td>0</td>\n",
       "    </tr>\n",
       "    <tr>\n",
       "      <th>11</th>\n",
       "      <td>12</td>\n",
       "      <td>Indonesia islamic art museum</td>\n",
       "      <td>Edukasi</td>\n",
       "      <td>Museum ini menampilkan berbagai koleksi seni d...</td>\n",
       "      <td>Lamongan</td>\n",
       "      <td>Lamongan Edukasi</td>\n",
       "      <td>0</td>\n",
       "    </tr>\n",
       "    <tr>\n",
       "      <th>12</th>\n",
       "      <td>13</td>\n",
       "      <td>Pantai Putri Klayar</td>\n",
       "      <td>Alam</td>\n",
       "      <td>Pantai ini menawarkan pemandangan yang indah d...</td>\n",
       "      <td>Lamongan</td>\n",
       "      <td>Lamongan Alam</td>\n",
       "      <td>10000</td>\n",
       "    </tr>\n",
       "    <tr>\n",
       "      <th>13</th>\n",
       "      <td>14</td>\n",
       "      <td>Pantai kutang</td>\n",
       "      <td>Alam</td>\n",
       "      <td>Pantai Kutang memiliki keunikan berupa akar-ak...</td>\n",
       "      <td>Lamongan</td>\n",
       "      <td>Lamongan Alam</td>\n",
       "      <td>10000</td>\n",
       "    </tr>\n",
       "    <tr>\n",
       "      <th>14</th>\n",
       "      <td>15</td>\n",
       "      <td>Pantai lorena</td>\n",
       "      <td>Alam</td>\n",
       "      <td>Pantai ini terkenal dengan keindahan matahari ...</td>\n",
       "      <td>Lamongan</td>\n",
       "      <td>Lamongan Alam</td>\n",
       "      <td>10000</td>\n",
       "    </tr>\n",
       "    <tr>\n",
       "      <th>15</th>\n",
       "      <td>16</td>\n",
       "      <td>Pantai joko mursodo</td>\n",
       "      <td>Alam</td>\n",
       "      <td>Pantai ini dikenal dengan suasana alami dan pe...</td>\n",
       "      <td>Lamongan</td>\n",
       "      <td>Lamongan Alam</td>\n",
       "      <td>10000</td>\n",
       "    </tr>\n",
       "    <tr>\n",
       "      <th>16</th>\n",
       "      <td>17</td>\n",
       "      <td>Pantai maldives kemantren</td>\n",
       "      <td>Alam</td>\n",
       "      <td>Pantai ini disebut \"Maldives\"-nya Lamongan kar...</td>\n",
       "      <td>Lamongan</td>\n",
       "      <td>Lamongan Alam</td>\n",
       "      <td>10000</td>\n",
       "    </tr>\n",
       "    <tr>\n",
       "      <th>17</th>\n",
       "      <td>18</td>\n",
       "      <td>Istana gunung mas 27</td>\n",
       "      <td>Alam</td>\n",
       "      <td>Istana Gunung Mas adalah restoran dan tempat w...</td>\n",
       "      <td>Lamongan</td>\n",
       "      <td>Lamongan Alam</td>\n",
       "      <td>0</td>\n",
       "    </tr>\n",
       "    <tr>\n",
       "      <th>18</th>\n",
       "      <td>19</td>\n",
       "      <td>Waduk gondang</td>\n",
       "      <td>Alam</td>\n",
       "      <td>Waduk ini adalah tempat wisata alam sekaligus ...</td>\n",
       "      <td>Lamongan</td>\n",
       "      <td>Lamongan Alam</td>\n",
       "      <td>0</td>\n",
       "    </tr>\n",
       "    <tr>\n",
       "      <th>19</th>\n",
       "      <td>20</td>\n",
       "      <td>Makam sunan Sendang</td>\n",
       "      <td>Religi</td>\n",
       "      <td>Makam ini adalah salah satu tempat ziarah pent...</td>\n",
       "      <td>Lamongan</td>\n",
       "      <td>Lamongan Religi</td>\n",
       "      <td>0</td>\n",
       "    </tr>\n",
       "    <tr>\n",
       "      <th>20</th>\n",
       "      <td>21</td>\n",
       "      <td>Bathil</td>\n",
       "      <td>Kuliner</td>\n",
       "      <td>Bathil adalah kawasan pelabuhan tradisional ya...</td>\n",
       "      <td>Lamongan</td>\n",
       "      <td>Lamongan Kuliner</td>\n",
       "      <td>5000</td>\n",
       "    </tr>\n",
       "    <tr>\n",
       "      <th>21</th>\n",
       "      <td>22</td>\n",
       "      <td>Keraton bbj babat</td>\n",
       "      <td>Belanja</td>\n",
       "      <td>Keraton ini merupakan tempat bersejarah yang m...</td>\n",
       "      <td>Lamongan</td>\n",
       "      <td>Lamongan Belanja</td>\n",
       "      <td>0</td>\n",
       "    </tr>\n",
       "    <tr>\n",
       "      <th>22</th>\n",
       "      <td>23</td>\n",
       "      <td>Makam dewi serdadu</td>\n",
       "      <td>Religi</td>\n",
       "      <td>Makam ini memiliki nilai sejarah dan dipercaya...</td>\n",
       "      <td>Lamongan</td>\n",
       "      <td>Lamongan Religi</td>\n",
       "      <td>0</td>\n",
       "    </tr>\n",
       "    <tr>\n",
       "      <th>23</th>\n",
       "      <td>24</td>\n",
       "      <td>Pantai lohgung brondong</td>\n",
       "      <td>Alam</td>\n",
       "      <td>Pantai ini menawarkan keindahan alam dan suasa...</td>\n",
       "      <td>Lamongan</td>\n",
       "      <td>Lamongan Alam</td>\n",
       "      <td>0</td>\n",
       "    </tr>\n",
       "    <tr>\n",
       "      <th>24</th>\n",
       "      <td>25</td>\n",
       "      <td>Makam nyi andong sari</td>\n",
       "      <td>Religi</td>\n",
       "      <td>Makam ini adalah tempat ziarah yang berhubunga...</td>\n",
       "      <td>Lamongan</td>\n",
       "      <td>Lamongan Religi</td>\n",
       "      <td>0</td>\n",
       "    </tr>\n",
       "    <tr>\n",
       "      <th>25</th>\n",
       "      <td>26</td>\n",
       "      <td>Cafe Aola</td>\n",
       "      <td>Alam&amp;Kuliner</td>\n",
       "      <td>Cafe Aola adalah tempat nongkrong yang nyaman ...</td>\n",
       "      <td>Lamongan</td>\n",
       "      <td>Lamongan Alam&amp;Kuliner</td>\n",
       "      <td>25000</td>\n",
       "    </tr>\n",
       "  </tbody>\n",
       "</table>\n",
       "</div>"
      ]
     },
     "execution_count": 42,
     "metadata": {},
     "output_type": "execute_result"
    }
   ],
   "execution_count": 42
  },
  {
   "cell_type": "code",
   "source": [
    "top_10 = tourism_new['id'].value_counts().reset_index()[0:10]\n",
    "top_10 = pd.merge(top_10,preparation[['Place_Id','Place_Name']], how='left', left_on='index', right_on='Place_Id')\n",
    "\n",
    "# Membuat visualisasi wisata dengan jumlah rating terbanyak\n",
    "plt.figure(figsize=(8,5))\n",
    "sns.barplot('Place_Id', 'Place_Name', data=top_10)\n",
    "plt.title('Jumlah Tempat Wisata dengan Rating Terbanyak', pad=20)\n",
    "plt.ylabel('Jumlah Rating')\n",
    "plt.xlabel('Nama Lokasi')\n",
    "plt.show()"
   ],
   "metadata": {
    "_kg_hide-output": false,
    "execution": {
     "iopub.status.busy": "2024-12-13T02:55:42.540104Z",
     "iopub.execute_input": "2024-12-13T02:55:42.540469Z",
     "iopub.status.idle": "2024-12-13T02:55:42.791749Z",
     "shell.execute_reply.started": "2024-12-13T02:55:42.540441Z",
     "shell.execute_reply": "2024-12-13T02:55:42.790799Z"
    },
    "trusted": true,
    "ExecuteTime": {
     "end_time": "2024-12-13T10:32:44.830551Z",
     "start_time": "2024-12-13T10:32:44.805478Z"
    }
   },
   "outputs": [
    {
     "ename": "KeyError",
     "evalue": "'Place_Id'",
     "output_type": "error",
     "traceback": [
      "\u001B[1;31m---------------------------------------------------------------------------\u001B[0m",
      "\u001B[1;31mKeyError\u001B[0m                                  Traceback (most recent call last)",
      "\u001B[1;32m~\\AppData\\Local\\Temp\\ipykernel_2660\\2101071888.py\u001B[0m in \u001B[0;36m?\u001B[1;34m()\u001B[0m\n\u001B[0;32m      8\u001B[0m \u001B[1;31m# plt.ylabel('Jumlah Rating')\u001B[0m\u001B[1;33m\u001B[0m\u001B[1;33m\u001B[0m\u001B[0m\n\u001B[0;32m      9\u001B[0m \u001B[1;31m# plt.xlabel('Nama Lokasi')\u001B[0m\u001B[1;33m\u001B[0m\u001B[1;33m\u001B[0m\u001B[0m\n\u001B[0;32m     10\u001B[0m \u001B[1;31m# plt.show()\u001B[0m\u001B[1;33m\u001B[0m\u001B[1;33m\u001B[0m\u001B[0m\n\u001B[0;32m     11\u001B[0m \u001B[0mtop_10\u001B[0m \u001B[1;33m=\u001B[0m \u001B[0mtourism_new\u001B[0m\u001B[1;33m[\u001B[0m\u001B[1;34m'id'\u001B[0m\u001B[1;33m]\u001B[0m\u001B[1;33m.\u001B[0m\u001B[0mvalue_counts\u001B[0m\u001B[1;33m(\u001B[0m\u001B[1;33m)\u001B[0m\u001B[1;33m.\u001B[0m\u001B[0mreset_index\u001B[0m\u001B[1;33m(\u001B[0m\u001B[1;33m)\u001B[0m\u001B[1;33m.\u001B[0m\u001B[0mrename\u001B[0m\u001B[1;33m(\u001B[0m\u001B[0mcolumns\u001B[0m\u001B[1;33m=\u001B[0m\u001B[1;33m{\u001B[0m\u001B[1;34m'index'\u001B[0m\u001B[1;33m:\u001B[0m \u001B[1;34m'Place_Id'\u001B[0m\u001B[1;33m,\u001B[0m \u001B[1;34m'id'\u001B[0m\u001B[1;33m:\u001B[0m \u001B[1;34m'count'\u001B[0m\u001B[1;33m}\u001B[0m\u001B[1;33m)\u001B[0m\u001B[1;33m[\u001B[0m\u001B[1;36m0\u001B[0m\u001B[1;33m:\u001B[0m\u001B[1;36m10\u001B[0m\u001B[1;33m]\u001B[0m\u001B[1;33m\u001B[0m\u001B[1;33m\u001B[0m\u001B[0m\n\u001B[1;32m---> 12\u001B[1;33m \u001B[0mtop_10\u001B[0m \u001B[1;33m=\u001B[0m \u001B[0mpd\u001B[0m\u001B[1;33m.\u001B[0m\u001B[0mmerge\u001B[0m\u001B[1;33m(\u001B[0m\u001B[0mtop_10\u001B[0m\u001B[1;33m,\u001B[0m \u001B[0mpreparation\u001B[0m\u001B[1;33m[\u001B[0m\u001B[1;33m[\u001B[0m\u001B[1;34m'Place_Id'\u001B[0m\u001B[1;33m,\u001B[0m \u001B[1;34m'Place_Name'\u001B[0m\u001B[1;33m]\u001B[0m\u001B[1;33m]\u001B[0m\u001B[1;33m,\u001B[0m \u001B[0mhow\u001B[0m\u001B[1;33m=\u001B[0m\u001B[1;34m'left'\u001B[0m\u001B[1;33m,\u001B[0m \u001B[0mon\u001B[0m\u001B[1;33m=\u001B[0m\u001B[1;34m'Place_Id'\u001B[0m\u001B[1;33m)\u001B[0m\u001B[1;33m\u001B[0m\u001B[1;33m\u001B[0m\u001B[0m\n\u001B[0m\u001B[0;32m     13\u001B[0m \u001B[1;33m\u001B[0m\u001B[0m\n\u001B[0;32m     14\u001B[0m \u001B[1;31m# Membuat visualisasi wisata dengan jumlah rating terbanyak\u001B[0m\u001B[1;33m\u001B[0m\u001B[1;33m\u001B[0m\u001B[0m\n\u001B[0;32m     15\u001B[0m \u001B[0mplt\u001B[0m\u001B[1;33m.\u001B[0m\u001B[0mfigure\u001B[0m\u001B[1;33m(\u001B[0m\u001B[0mfigsize\u001B[0m\u001B[1;33m=\u001B[0m\u001B[1;33m(\u001B[0m\u001B[1;36m8\u001B[0m\u001B[1;33m,\u001B[0m \u001B[1;36m5\u001B[0m\u001B[1;33m)\u001B[0m\u001B[1;33m)\u001B[0m\u001B[1;33m\u001B[0m\u001B[1;33m\u001B[0m\u001B[0m\n",
      "\u001B[1;32m~\\miniconda3\\Lib\\site-packages\\pandas\\core\\reshape\\merge.py\u001B[0m in \u001B[0;36m?\u001B[1;34m(left, right, how, on, left_on, right_on, left_index, right_index, sort, suffixes, copy, indicator, validate)\u001B[0m\n\u001B[0;32m    166\u001B[0m             \u001B[0mvalidate\u001B[0m\u001B[1;33m=\u001B[0m\u001B[0mvalidate\u001B[0m\u001B[1;33m,\u001B[0m\u001B[1;33m\u001B[0m\u001B[1;33m\u001B[0m\u001B[0m\n\u001B[0;32m    167\u001B[0m             \u001B[0mcopy\u001B[0m\u001B[1;33m=\u001B[0m\u001B[0mcopy\u001B[0m\u001B[1;33m,\u001B[0m\u001B[1;33m\u001B[0m\u001B[1;33m\u001B[0m\u001B[0m\n\u001B[0;32m    168\u001B[0m         \u001B[1;33m)\u001B[0m\u001B[1;33m\u001B[0m\u001B[1;33m\u001B[0m\u001B[0m\n\u001B[0;32m    169\u001B[0m     \u001B[1;32melse\u001B[0m\u001B[1;33m:\u001B[0m\u001B[1;33m\u001B[0m\u001B[1;33m\u001B[0m\u001B[0m\n\u001B[1;32m--> 170\u001B[1;33m         op = _MergeOperation(\n\u001B[0m\u001B[0;32m    171\u001B[0m             \u001B[0mleft_df\u001B[0m\u001B[1;33m,\u001B[0m\u001B[1;33m\u001B[0m\u001B[1;33m\u001B[0m\u001B[0m\n\u001B[0;32m    172\u001B[0m             \u001B[0mright_df\u001B[0m\u001B[1;33m,\u001B[0m\u001B[1;33m\u001B[0m\u001B[1;33m\u001B[0m\u001B[0m\n\u001B[0;32m    173\u001B[0m             \u001B[0mhow\u001B[0m\u001B[1;33m=\u001B[0m\u001B[0mhow\u001B[0m\u001B[1;33m,\u001B[0m\u001B[1;33m\u001B[0m\u001B[1;33m\u001B[0m\u001B[0m\n",
      "\u001B[1;32m~\\miniconda3\\Lib\\site-packages\\pandas\\core\\reshape\\merge.py\u001B[0m in \u001B[0;36m?\u001B[1;34m(self, left, right, how, on, left_on, right_on, left_index, right_index, sort, suffixes, indicator, validate)\u001B[0m\n\u001B[0;32m    790\u001B[0m             \u001B[0mself\u001B[0m\u001B[1;33m.\u001B[0m\u001B[0mright_join_keys\u001B[0m\u001B[1;33m,\u001B[0m\u001B[1;33m\u001B[0m\u001B[1;33m\u001B[0m\u001B[0m\n\u001B[0;32m    791\u001B[0m             \u001B[0mself\u001B[0m\u001B[1;33m.\u001B[0m\u001B[0mjoin_names\u001B[0m\u001B[1;33m,\u001B[0m\u001B[1;33m\u001B[0m\u001B[1;33m\u001B[0m\u001B[0m\n\u001B[0;32m    792\u001B[0m             \u001B[0mleft_drop\u001B[0m\u001B[1;33m,\u001B[0m\u001B[1;33m\u001B[0m\u001B[1;33m\u001B[0m\u001B[0m\n\u001B[0;32m    793\u001B[0m             \u001B[0mright_drop\u001B[0m\u001B[1;33m,\u001B[0m\u001B[1;33m\u001B[0m\u001B[1;33m\u001B[0m\u001B[0m\n\u001B[1;32m--> 794\u001B[1;33m         \u001B[1;33m)\u001B[0m \u001B[1;33m=\u001B[0m \u001B[0mself\u001B[0m\u001B[1;33m.\u001B[0m\u001B[0m_get_merge_keys\u001B[0m\u001B[1;33m(\u001B[0m\u001B[1;33m)\u001B[0m\u001B[1;33m\u001B[0m\u001B[1;33m\u001B[0m\u001B[0m\n\u001B[0m\u001B[0;32m    795\u001B[0m \u001B[1;33m\u001B[0m\u001B[0m\n\u001B[0;32m    796\u001B[0m         \u001B[1;32mif\u001B[0m \u001B[0mleft_drop\u001B[0m\u001B[1;33m:\u001B[0m\u001B[1;33m\u001B[0m\u001B[1;33m\u001B[0m\u001B[0m\n\u001B[0;32m    797\u001B[0m             \u001B[0mself\u001B[0m\u001B[1;33m.\u001B[0m\u001B[0mleft\u001B[0m \u001B[1;33m=\u001B[0m \u001B[0mself\u001B[0m\u001B[1;33m.\u001B[0m\u001B[0mleft\u001B[0m\u001B[1;33m.\u001B[0m\u001B[0m_drop_labels_or_levels\u001B[0m\u001B[1;33m(\u001B[0m\u001B[0mleft_drop\u001B[0m\u001B[1;33m)\u001B[0m\u001B[1;33m\u001B[0m\u001B[1;33m\u001B[0m\u001B[0m\n",
      "\u001B[1;32m~\\miniconda3\\Lib\\site-packages\\pandas\\core\\reshape\\merge.py\u001B[0m in \u001B[0;36m?\u001B[1;34m(self)\u001B[0m\n\u001B[0;32m   1306\u001B[0m                     \u001B[1;32mif\u001B[0m \u001B[0mlk\u001B[0m \u001B[1;32mis\u001B[0m \u001B[1;32mnot\u001B[0m \u001B[1;32mNone\u001B[0m\u001B[1;33m:\u001B[0m\u001B[1;33m\u001B[0m\u001B[1;33m\u001B[0m\u001B[0m\n\u001B[0;32m   1307\u001B[0m                         \u001B[1;31m# Then we're either Hashable or a wrong-length arraylike,\u001B[0m\u001B[1;33m\u001B[0m\u001B[1;33m\u001B[0m\u001B[0m\n\u001B[0;32m   1308\u001B[0m                         \u001B[1;31m#  the latter of which will raise\u001B[0m\u001B[1;33m\u001B[0m\u001B[1;33m\u001B[0m\u001B[0m\n\u001B[0;32m   1309\u001B[0m                         \u001B[0mlk\u001B[0m \u001B[1;33m=\u001B[0m \u001B[0mcast\u001B[0m\u001B[1;33m(\u001B[0m\u001B[0mHashable\u001B[0m\u001B[1;33m,\u001B[0m \u001B[0mlk\u001B[0m\u001B[1;33m)\u001B[0m\u001B[1;33m\u001B[0m\u001B[1;33m\u001B[0m\u001B[0m\n\u001B[1;32m-> 1310\u001B[1;33m                         \u001B[0mleft_keys\u001B[0m\u001B[1;33m.\u001B[0m\u001B[0mappend\u001B[0m\u001B[1;33m(\u001B[0m\u001B[0mleft\u001B[0m\u001B[1;33m.\u001B[0m\u001B[0m_get_label_or_level_values\u001B[0m\u001B[1;33m(\u001B[0m\u001B[0mlk\u001B[0m\u001B[1;33m)\u001B[0m\u001B[1;33m)\u001B[0m\u001B[1;33m\u001B[0m\u001B[1;33m\u001B[0m\u001B[0m\n\u001B[0m\u001B[0;32m   1311\u001B[0m                         \u001B[0mjoin_names\u001B[0m\u001B[1;33m.\u001B[0m\u001B[0mappend\u001B[0m\u001B[1;33m(\u001B[0m\u001B[0mlk\u001B[0m\u001B[1;33m)\u001B[0m\u001B[1;33m\u001B[0m\u001B[1;33m\u001B[0m\u001B[0m\n\u001B[0;32m   1312\u001B[0m                     \u001B[1;32melse\u001B[0m\u001B[1;33m:\u001B[0m\u001B[1;33m\u001B[0m\u001B[1;33m\u001B[0m\u001B[0m\n\u001B[0;32m   1313\u001B[0m                         \u001B[1;31m# work-around for merge_asof(left_index=True)\u001B[0m\u001B[1;33m\u001B[0m\u001B[1;33m\u001B[0m\u001B[0m\n",
      "\u001B[1;32m~\\miniconda3\\Lib\\site-packages\\pandas\\core\\generic.py\u001B[0m in \u001B[0;36m?\u001B[1;34m(self, key, axis)\u001B[0m\n\u001B[0;32m   1907\u001B[0m             \u001B[0mvalues\u001B[0m \u001B[1;33m=\u001B[0m \u001B[0mself\u001B[0m\u001B[1;33m.\u001B[0m\u001B[0mxs\u001B[0m\u001B[1;33m(\u001B[0m\u001B[0mkey\u001B[0m\u001B[1;33m,\u001B[0m \u001B[0maxis\u001B[0m\u001B[1;33m=\u001B[0m\u001B[0mother_axes\u001B[0m\u001B[1;33m[\u001B[0m\u001B[1;36m0\u001B[0m\u001B[1;33m]\u001B[0m\u001B[1;33m)\u001B[0m\u001B[1;33m.\u001B[0m\u001B[0m_values\u001B[0m\u001B[1;33m\u001B[0m\u001B[1;33m\u001B[0m\u001B[0m\n\u001B[0;32m   1908\u001B[0m         \u001B[1;32melif\u001B[0m \u001B[0mself\u001B[0m\u001B[1;33m.\u001B[0m\u001B[0m_is_level_reference\u001B[0m\u001B[1;33m(\u001B[0m\u001B[0mkey\u001B[0m\u001B[1;33m,\u001B[0m \u001B[0maxis\u001B[0m\u001B[1;33m=\u001B[0m\u001B[0maxis\u001B[0m\u001B[1;33m)\u001B[0m\u001B[1;33m:\u001B[0m\u001B[1;33m\u001B[0m\u001B[1;33m\u001B[0m\u001B[0m\n\u001B[0;32m   1909\u001B[0m             \u001B[0mvalues\u001B[0m \u001B[1;33m=\u001B[0m \u001B[0mself\u001B[0m\u001B[1;33m.\u001B[0m\u001B[0maxes\u001B[0m\u001B[1;33m[\u001B[0m\u001B[0maxis\u001B[0m\u001B[1;33m]\u001B[0m\u001B[1;33m.\u001B[0m\u001B[0mget_level_values\u001B[0m\u001B[1;33m(\u001B[0m\u001B[0mkey\u001B[0m\u001B[1;33m)\u001B[0m\u001B[1;33m.\u001B[0m\u001B[0m_values\u001B[0m\u001B[1;33m\u001B[0m\u001B[1;33m\u001B[0m\u001B[0m\n\u001B[0;32m   1910\u001B[0m         \u001B[1;32melse\u001B[0m\u001B[1;33m:\u001B[0m\u001B[1;33m\u001B[0m\u001B[1;33m\u001B[0m\u001B[0m\n\u001B[1;32m-> 1911\u001B[1;33m             \u001B[1;32mraise\u001B[0m \u001B[0mKeyError\u001B[0m\u001B[1;33m(\u001B[0m\u001B[0mkey\u001B[0m\u001B[1;33m)\u001B[0m\u001B[1;33m\u001B[0m\u001B[1;33m\u001B[0m\u001B[0m\n\u001B[0m\u001B[0;32m   1912\u001B[0m \u001B[1;33m\u001B[0m\u001B[0m\n\u001B[0;32m   1913\u001B[0m         \u001B[1;31m# Check for duplicates\u001B[0m\u001B[1;33m\u001B[0m\u001B[1;33m\u001B[0m\u001B[0m\n\u001B[0;32m   1914\u001B[0m         \u001B[1;32mif\u001B[0m \u001B[0mvalues\u001B[0m\u001B[1;33m.\u001B[0m\u001B[0mndim\u001B[0m \u001B[1;33m>\u001B[0m \u001B[1;36m1\u001B[0m\u001B[1;33m:\u001B[0m\u001B[1;33m\u001B[0m\u001B[1;33m\u001B[0m\u001B[0m\n",
      "\u001B[1;31mKeyError\u001B[0m: 'Place_Id'"
     ]
    }
   ],
   "execution_count": 44
  },
  {
   "cell_type": "code",
   "source": "sns.countplot(y='Category', data=preparation)\nplt.title('Perbandingan Jumlah Kategori Wisata di Kota Bandung', pad=20)\nplt.show()",
   "metadata": {
    "_kg_hide-output": false,
    "execution": {
     "iopub.status.busy": "2024-12-13T02:55:46.023700Z",
     "iopub.execute_input": "2024-12-13T02:55:46.024048Z",
     "iopub.status.idle": "2024-12-13T02:55:46.232327Z",
     "shell.execute_reply.started": "2024-12-13T02:55:46.024018Z",
     "shell.execute_reply": "2024-12-13T02:55:46.231449Z"
    },
    "trusted": true
   },
   "outputs": [
    {
     "output_type": "display_data",
     "data": {
      "text/plain": "<Figure size 432x288 with 1 Axes>",
      "image/png": "[encoded data removed]"
     },
     "metadata": {
      "needs_background": "light"
     }
    }
   ],
   "execution_count": 27
  },
  {
   "cell_type": "code",
   "source": "plt.figure(figsize=(5,3))\nsns.boxplot(users['Age']);\nplt.title('Distribusi Usia User', pad=20)\nplt.show()",
   "metadata": {
    "_kg_hide-output": false,
    "execution": {
     "iopub.status.busy": "2024-12-13T02:55:50.857091Z",
     "iopub.execute_input": "2024-12-13T02:55:50.857464Z",
     "iopub.status.idle": "2024-12-13T02:55:51.004009Z",
     "shell.execute_reply.started": "2024-12-13T02:55:50.857434Z",
     "shell.execute_reply": "2024-12-13T02:55:51.002731Z"
    },
    "trusted": true
   },
   "outputs": [
    {
     "name": "stderr",
     "text": "/opt/conda/lib/python3.7/site-packages/seaborn/_decorators.py:43: FutureWarning: Pass the following variable as a keyword arg: x. From version 0.12, the only valid positional argument will be `data`, and passing other arguments without an explicit keyword will result in an error or misinterpretation.\n  FutureWarning\n",
     "output_type": "stream"
    },
    {
     "output_type": "display_data",
     "data": {
      "text/plain": "<Figure size 360x216 with 1 Axes>",
      "image/png": "[encoded data removed]"
     },
     "metadata": {
      "needs_background": "light"
     }
    }
   ],
   "execution_count": 28
  },
  {
   "cell_type": "code",
   "source": "plt.figure(figsize=(7,3))\nsns.boxplot(info_tourism['Price'])\nplt.title('Distribution of tourist entrance prices in the city of Bandung', pad=20)\nplt.show()",
   "metadata": {
    "_kg_hide-output": false,
    "execution": {
     "iopub.status.busy": "2024-12-13T02:55:54.422134Z",
     "iopub.execute_input": "2024-12-13T02:55:54.422729Z",
     "iopub.status.idle": "2024-12-13T02:55:54.589980Z",
     "shell.execute_reply.started": "2024-12-13T02:55:54.422696Z",
     "shell.execute_reply": "2024-12-13T02:55:54.589096Z"
    },
    "trusted": true
   },
   "outputs": [
    {
     "name": "stderr",
     "text": "/opt/conda/lib/python3.7/site-packages/seaborn/_decorators.py:43: FutureWarning: Pass the following variable as a keyword arg: x. From version 0.12, the only valid positional argument will be `data`, and passing other arguments without an explicit keyword will result in an error or misinterpretation.\n  FutureWarning\n",
     "output_type": "stream"
    },
    {
     "output_type": "display_data",
     "data": {
      "text/plain": "<Figure size 504x216 with 1 Axes>",
      "image/png": "[encoded data removed]"
     },
     "metadata": {
      "needs_background": "light"
     }
    }
   ],
   "execution_count": 29
  },
  {
   "cell_type": "code",
   "source": "askot = users['Location'].apply(lambda x : x.split(',')[0])\n\n# Visualization of the origin of the city from the user\nplt.figure(figsize=(8,6))\nsns.countplot(y=askot)\nplt.title('Number of City Origin from User')\nplt.show()",
   "metadata": {
    "_kg_hide-output": false,
    "execution": {
     "iopub.status.busy": "2024-12-13T02:55:59.374486Z",
     "iopub.execute_input": "2024-12-13T02:55:59.374942Z",
     "iopub.status.idle": "2024-12-13T02:56:00.184025Z",
     "shell.execute_reply.started": "2024-12-13T02:55:59.374904Z",
     "shell.execute_reply": "2024-12-13T02:56:00.183112Z"
    },
    "trusted": true
   },
   "outputs": [
    {
     "output_type": "display_data",
     "data": {
      "text/plain": "<Figure size 576x432 with 1 Axes>",
      "image/png": "[encoded data removed]"
     },
     "metadata": {
      "needs_background": "light"
     }
    }
   ],
   "execution_count": 30
  },
  {
   "cell_type": "markdown",
   "source": "#### ",
   "metadata": {
    "_kg_hide-output": false
   }
  },
  {
   "cell_type": "markdown",
   "source": "# Content Based Filtering",
   "metadata": {
    "_kg_hide-output": false
   }
  },
  {
   "cell_type": "code",
   "source": "data = tourism_new\ndata.sample(5)",
   "metadata": {
    "_kg_hide-output": false,
    "execution": {
     "iopub.status.busy": "2024-12-13T02:56:09.124128Z",
     "iopub.execute_input": "2024-12-13T02:56:09.124525Z",
     "iopub.status.idle": "2024-12-13T02:56:09.136874Z",
     "shell.execute_reply.started": "2024-12-13T02:56:09.124492Z",
     "shell.execute_reply": "2024-12-13T02:56:09.135891Z"
    },
    "trusted": true
   },
   "outputs": [
    {
     "execution_count": 31,
     "output_type": "execute_result",
     "data": {
      "text/plain": "    id               name         category  \\\n21  22  Keraton bbj babat   Wisata Belanja   \n9   10      Museum Drajat  Wisata Edukasi    \n6    7      Wego Lamongan      Wisata Alam   \n2    3      Tanjung kodok      Wisata Alam   \n14  15      Pantai lorena      Wisata Alam   \n\n                                          description      city  \\\n21  Keraton ini merupakan tempat bersejarah yang m...  Lamongan   \n9   Terletak di kompleks makam Sunan Drajat, museu...  Lamongan   \n6   Wego menawarkan wisata edukasi dan outbond, co...  Lamongan   \n2   Tanjung Kodok adalah kawasan pantai yang memil...  Lamongan   \n14  Pantai ini terkenal dengan keindahan matahari ...  Lamongan   \n\n               city_category     price  \n21   Lamongan Wisata Belanja       0.0  \n9   Lamongan Wisata Edukasi        0.0  \n6       Lamongan Wisata Alam   25000.0  \n2       Lamongan Wisata Alam  100000.0  \n14      Lamongan Wisata Alam   10000.0  ",
      "text/html": "<div>\n<style scoped>\n    .dataframe tbody tr th:only-of-type {\n        vertical-align: middle;\n    }\n\n    .dataframe tbody tr th {\n        vertical-align: top;\n    }\n\n    .dataframe thead th {\n        text-align: right;\n    }\n</style>\n<table border=\"1\" class=\"dataframe\">\n  <thead>\n    <tr style=\"text-align: right;\">\n      <th></th>\n      <th>id</th>\n      <th>name</th>\n      <th>category</th>\n      <th>description</th>\n      <th>city</th>\n      <th>city_category</th>\n      <th>price</th>\n    </tr>\n  </thead>\n  <tbody>\n    <tr>\n      <th>21</th>\n      <td>22</td>\n      <td>Keraton bbj babat</td>\n      <td>Wisata Belanja</td>\n      <td>Keraton ini merupakan tempat bersejarah yang m...</td>\n      <td>Lamongan</td>\n      <td>Lamongan Wisata Belanja</td>\n      <td>0.0</td>\n    </tr>\n    <tr>\n      <th>9</th>\n      <td>10</td>\n      <td>Museum Drajat</td>\n      <td>Wisata Edukasi</td>\n      <td>Terletak di kompleks makam Sunan Drajat, museu...</td>\n      <td>Lamongan</td>\n      <td>Lamongan Wisata Edukasi</td>\n      <td>0.0</td>\n    </tr>\n    <tr>\n      <th>6</th>\n      <td>7</td>\n      <td>Wego Lamongan</td>\n      <td>Wisata Alam</td>\n      <td>Wego menawarkan wisata edukasi dan outbond, co...</td>\n      <td>Lamongan</td>\n      <td>Lamongan Wisata Alam</td>\n      <td>25000.0</td>\n    </tr>\n    <tr>\n      <th>2</th>\n      <td>3</td>\n      <td>Tanjung kodok</td>\n      <td>Wisata Alam</td>\n      <td>Tanjung Kodok adalah kawasan pantai yang memil...</td>\n      <td>Lamongan</td>\n      <td>Lamongan Wisata Alam</td>\n      <td>100000.0</td>\n    </tr>\n    <tr>\n      <th>14</th>\n      <td>15</td>\n      <td>Pantai lorena</td>\n      <td>Wisata Alam</td>\n      <td>Pantai ini terkenal dengan keindahan matahari ...</td>\n      <td>Lamongan</td>\n      <td>Lamongan Wisata Alam</td>\n      <td>10000.0</td>\n    </tr>\n  </tbody>\n</table>\n</div>"
     },
     "metadata": {}
    }
   ],
   "execution_count": 31
  },
  {
   "cell_type": "markdown",
   "source": "## TF-IDF Vectorizer",
   "metadata": {
    "_kg_hide-output": false
   }
  },
  {
   "cell_type": "code",
   "source": "from sklearn.feature_extraction.text import CountVectorizer\n\ncv = CountVectorizer()\n\ncv.fit(data['city_category'])\n\nprint(\"Features Name: \", list(cv.vocabulary_.keys()))",
   "metadata": {
    "_kg_hide-output": false,
    "execution": {
     "iopub.status.busy": "2024-12-13T02:56:12.459926Z",
     "iopub.execute_input": "2024-12-13T02:56:12.460242Z",
     "iopub.status.idle": "2024-12-13T02:56:12.525683Z",
     "shell.execute_reply.started": "2024-12-13T02:56:12.460217Z",
     "shell.execute_reply": "2024-12-13T02:56:12.524657Z"
    },
    "trusted": true
   },
   "outputs": [
    {
     "name": "stdout",
     "text": "Features Name:  ['lamongan', 'wisata', 'themepark', 'edukasi', 'alam', 'religi', 'olahraga', 'kuliner', 'belanja']\n",
     "output_type": "stream"
    }
   ],
   "execution_count": 32
  },
  {
   "cell_type": "code",
   "source": "cv_matrix = cv.transform(data['city_category']) \n \ncv_matrix.shape ",
   "metadata": {
    "_kg_hide-output": false,
    "execution": {
     "iopub.status.busy": "2024-12-13T02:56:17.365636Z",
     "iopub.execute_input": "2024-12-13T02:56:17.366402Z",
     "iopub.status.idle": "2024-12-13T02:56:17.374941Z",
     "shell.execute_reply.started": "2024-12-13T02:56:17.366372Z",
     "shell.execute_reply": "2024-12-13T02:56:17.373976Z"
    },
    "trusted": true
   },
   "outputs": [
    {
     "execution_count": 33,
     "output_type": "execute_result",
     "data": {
      "text/plain": "(26, 9)"
     },
     "metadata": {}
    }
   ],
   "execution_count": 33
  },
  {
   "cell_type": "code",
   "source": "cv_matrix.todense()",
   "metadata": {
    "_kg_hide-output": false,
    "execution": {
     "iopub.status.busy": "2024-12-13T02:56:20.127718Z",
     "iopub.execute_input": "2024-12-13T02:56:20.128074Z",
     "iopub.status.idle": "2024-12-13T02:56:20.135232Z",
     "shell.execute_reply.started": "2024-12-13T02:56:20.128045Z",
     "shell.execute_reply": "2024-12-13T02:56:20.134221Z"
    },
    "trusted": true
   },
   "outputs": [
    {
     "execution_count": 34,
     "output_type": "execute_result",
     "data": {
      "text/plain": "matrix([[0, 0, 0, 0, 1, 0, 0, 1, 1],\n        [0, 0, 1, 0, 1, 0, 0, 0, 1],\n        [1, 0, 0, 0, 1, 0, 0, 0, 1],\n        [0, 0, 0, 0, 1, 0, 1, 0, 1],\n        [0, 0, 0, 0, 1, 1, 0, 0, 1],\n        [0, 0, 0, 0, 1, 0, 1, 0, 1],\n        [1, 0, 0, 0, 1, 0, 0, 0, 1],\n        [0, 0, 0, 0, 1, 0, 1, 0, 1],\n        [0, 0, 0, 0, 1, 0, 1, 0, 1],\n        [0, 0, 1, 0, 1, 0, 0, 0, 1],\n        [0, 0, 0, 0, 1, 0, 1, 0, 1],\n        [0, 0, 1, 0, 1, 0, 0, 0, 1],\n        [1, 0, 0, 0, 1, 0, 0, 0, 1],\n        [1, 0, 0, 0, 1, 0, 0, 0, 1],\n        [1, 0, 0, 0, 1, 0, 0, 0, 1],\n        [1, 0, 0, 0, 1, 0, 0, 0, 1],\n        [1, 0, 0, 0, 1, 0, 0, 0, 1],\n        [1, 0, 0, 0, 1, 0, 0, 0, 1],\n        [1, 0, 0, 0, 1, 0, 0, 0, 1],\n        [0, 0, 0, 0, 1, 0, 1, 0, 1],\n        [0, 0, 0, 1, 1, 0, 0, 0, 1],\n        [0, 1, 0, 0, 1, 0, 0, 0, 1],\n        [0, 0, 0, 0, 1, 0, 1, 0, 1],\n        [1, 0, 0, 0, 1, 0, 0, 0, 1],\n        [0, 0, 0, 0, 1, 0, 1, 0, 1],\n        [1, 0, 0, 1, 1, 0, 0, 0, 2]])"
     },
     "metadata": {}
    }
   ],
   "execution_count": 34
  },
  {
   "cell_type": "code",
   "source": "pd.DataFrame(\n    cv_matrix.todense(),\n    columns=list(cv.vocabulary_.keys()),\n    index = data.name\n).sample(5)",
   "metadata": {
    "_kg_hide-output": false,
    "execution": {
     "iopub.status.busy": "2024-12-13T02:56:22.563772Z",
     "iopub.execute_input": "2024-12-13T02:56:22.564094Z",
     "iopub.status.idle": "2024-12-13T02:56:22.575513Z",
     "shell.execute_reply.started": "2024-12-13T02:56:22.564067Z",
     "shell.execute_reply": "2024-12-13T02:56:22.574623Z"
    },
    "trusted": true
   },
   "outputs": [
    {
     "execution_count": 35,
     "output_type": "execute_result",
     "data": {
      "text/plain": "                     lamongan  wisata  themepark  edukasi  alam  religi  \\\nname                                                                      \nKeraton bbj babat           0       1          0        0     1       0   \nPantai lorena               1       0          0        0     1       0   \nMakam joko Tingkir          0       0          0        0     1       0   \nWego Lamongan               1       0          0        0     1       0   \nPantai joko mursodo         1       0          0        0     1       0   \n\n                     olahraga  kuliner  belanja  \nname                                             \nKeraton bbj babat           0        0        1  \nPantai lorena               0        0        1  \nMakam joko Tingkir          1        0        1  \nWego Lamongan               0        0        1  \nPantai joko mursodo         0        0        1  ",
      "text/html": "<div>\n<style scoped>\n    .dataframe tbody tr th:only-of-type {\n        vertical-align: middle;\n    }\n\n    .dataframe tbody tr th {\n        vertical-align: top;\n    }\n\n    .dataframe thead th {\n        text-align: right;\n    }\n</style>\n<table border=\"1\" class=\"dataframe\">\n  <thead>\n    <tr style=\"text-align: right;\">\n      <th></th>\n      <th>lamongan</th>\n      <th>wisata</th>\n      <th>themepark</th>\n      <th>edukasi</th>\n      <th>alam</th>\n      <th>religi</th>\n      <th>olahraga</th>\n      <th>kuliner</th>\n      <th>belanja</th>\n    </tr>\n    <tr>\n      <th>name</th>\n      <th></th>\n      <th></th>\n      <th></th>\n      <th></th>\n      <th></th>\n      <th></th>\n      <th></th>\n      <th></th>\n      <th></th>\n    </tr>\n  </thead>\n  <tbody>\n    <tr>\n      <th>Keraton bbj babat</th>\n      <td>0</td>\n      <td>1</td>\n      <td>0</td>\n      <td>0</td>\n      <td>1</td>\n      <td>0</td>\n      <td>0</td>\n      <td>0</td>\n      <td>1</td>\n    </tr>\n    <tr>\n      <th>Pantai lorena</th>\n      <td>1</td>\n      <td>0</td>\n      <td>0</td>\n      <td>0</td>\n      <td>1</td>\n      <td>0</td>\n      <td>0</td>\n      <td>0</td>\n      <td>1</td>\n    </tr>\n    <tr>\n      <th>Makam joko Tingkir</th>\n      <td>0</td>\n      <td>0</td>\n      <td>0</td>\n      <td>0</td>\n      <td>1</td>\n      <td>0</td>\n      <td>1</td>\n      <td>0</td>\n      <td>1</td>\n    </tr>\n    <tr>\n      <th>Wego Lamongan</th>\n      <td>1</td>\n      <td>0</td>\n      <td>0</td>\n      <td>0</td>\n      <td>1</td>\n      <td>0</td>\n      <td>0</td>\n      <td>0</td>\n      <td>1</td>\n    </tr>\n    <tr>\n      <th>Pantai joko mursodo</th>\n      <td>1</td>\n      <td>0</td>\n      <td>0</td>\n      <td>0</td>\n      <td>1</td>\n      <td>0</td>\n      <td>0</td>\n      <td>0</td>\n      <td>1</td>\n    </tr>\n  </tbody>\n</table>\n</div>"
     },
     "metadata": {}
    }
   ],
   "execution_count": 35
  },
  {
   "cell_type": "markdown",
   "source": "## Cosine Similarity",
   "metadata": {
    "_kg_hide-output": false
   }
  },
  {
   "cell_type": "code",
   "source": "from sklearn.metrics.pairwise import cosine_similarity\n\ncosine_sim = cosine_similarity(cv_matrix)\ncosine_sim",
   "metadata": {
    "_kg_hide-output": false,
    "execution": {
     "iopub.status.busy": "2024-12-13T02:56:33.376681Z",
     "iopub.execute_input": "2024-12-13T02:56:33.377028Z",
     "iopub.status.idle": "2024-12-13T02:56:33.433047Z",
     "shell.execute_reply.started": "2024-12-13T02:56:33.377000Z",
     "shell.execute_reply": "2024-12-13T02:56:33.432163Z"
    },
    "trusted": true
   },
   "outputs": [
    {
     "execution_count": 36,
     "output_type": "execute_result",
     "data": {
      "text/plain": "array([[1.        , 0.66666667, 0.66666667, 0.66666667, 0.66666667,\n        0.66666667, 0.66666667, 0.66666667, 0.66666667, 0.66666667,\n        0.66666667, 0.66666667, 0.66666667, 0.66666667, 0.66666667,\n        0.66666667, 0.66666667, 0.66666667, 0.66666667, 0.66666667,\n        0.66666667, 0.66666667, 0.66666667, 0.66666667, 0.66666667,\n        0.65465367],\n       [0.66666667, 1.        , 0.66666667, 0.66666667, 0.66666667,\n        0.66666667, 0.66666667, 0.66666667, 0.66666667, 1.        ,\n        0.66666667, 1.        , 0.66666667, 0.66666667, 0.66666667,\n        0.66666667, 0.66666667, 0.66666667, 0.66666667, 0.66666667,\n        0.66666667, 0.66666667, 0.66666667, 0.66666667, 0.66666667,\n        0.65465367],\n       [0.66666667, 0.66666667, 1.        , 0.66666667, 0.66666667,\n        0.66666667, 1.        , 0.66666667, 0.66666667, 0.66666667,\n        0.66666667, 0.66666667, 1.        , 1.        , 1.        ,\n        1.        , 1.        , 1.        , 1.        , 0.66666667,\n        0.66666667, 0.66666667, 0.66666667, 1.        , 0.66666667,\n        0.87287156],\n       [0.66666667, 0.66666667, 0.66666667, 1.        , 0.66666667,\n        1.        , 0.66666667, 1.        , 1.        , 0.66666667,\n        1.        , 0.66666667, 0.66666667, 0.66666667, 0.66666667,\n        0.66666667, 0.66666667, 0.66666667, 0.66666667, 1.        ,\n        0.66666667, 0.66666667, 1.        , 0.66666667, 1.        ,\n        0.65465367],\n       [0.66666667, 0.66666667, 0.66666667, 0.66666667, 1.        ,\n        0.66666667, 0.66666667, 0.66666667, 0.66666667, 0.66666667,\n        0.66666667, 0.66666667, 0.66666667, 0.66666667, 0.66666667,\n        0.66666667, 0.66666667, 0.66666667, 0.66666667, 0.66666667,\n        0.66666667, 0.66666667, 0.66666667, 0.66666667, 0.66666667,\n        0.65465367],\n       [0.66666667, 0.66666667, 0.66666667, 1.        , 0.66666667,\n        1.        , 0.66666667, 1.        , 1.        , 0.66666667,\n        1.        , 0.66666667, 0.66666667, 0.66666667, 0.66666667,\n        0.66666667, 0.66666667, 0.66666667, 0.66666667, 1.        ,\n        0.66666667, 0.66666667, 1.        , 0.66666667, 1.        ,\n        0.65465367],\n       [0.66666667, 0.66666667, 1.        , 0.66666667, 0.66666667,\n        0.66666667, 1.        , 0.66666667, 0.66666667, 0.66666667,\n        0.66666667, 0.66666667, 1.        , 1.        , 1.        ,\n        1.        , 1.        , 1.        , 1.        , 0.66666667,\n        0.66666667, 0.66666667, 0.66666667, 1.        , 0.66666667,\n        0.87287156],\n       [0.66666667, 0.66666667, 0.66666667, 1.        , 0.66666667,\n        1.        , 0.66666667, 1.        , 1.        , 0.66666667,\n        1.        , 0.66666667, 0.66666667, 0.66666667, 0.66666667,\n        0.66666667, 0.66666667, 0.66666667, 0.66666667, 1.        ,\n        0.66666667, 0.66666667, 1.        , 0.66666667, 1.        ,\n        0.65465367],\n       [0.66666667, 0.66666667, 0.66666667, 1.        , 0.66666667,\n        1.        , 0.66666667, 1.        , 1.        , 0.66666667,\n        1.        , 0.66666667, 0.66666667, 0.66666667, 0.66666667,\n        0.66666667, 0.66666667, 0.66666667, 0.66666667, 1.        ,\n        0.66666667, 0.66666667, 1.        , 0.66666667, 1.        ,\n        0.65465367],\n       [0.66666667, 1.        , 0.66666667, 0.66666667, 0.66666667,\n        0.66666667, 0.66666667, 0.66666667, 0.66666667, 1.        ,\n        0.66666667, 1.        , 0.66666667, 0.66666667, 0.66666667,\n        0.66666667, 0.66666667, 0.66666667, 0.66666667, 0.66666667,\n        0.66666667, 0.66666667, 0.66666667, 0.66666667, 0.66666667,\n        0.65465367],\n       [0.66666667, 0.66666667, 0.66666667, 1.        , 0.66666667,\n        1.        , 0.66666667, 1.        , 1.        , 0.66666667,\n        1.        , 0.66666667, 0.66666667, 0.66666667, 0.66666667,\n        0.66666667, 0.66666667, 0.66666667, 0.66666667, 1.        ,\n        0.66666667, 0.66666667, 1.        , 0.66666667, 1.        ,\n        0.65465367],\n       [0.66666667, 1.        , 0.66666667, 0.66666667, 0.66666667,\n        0.66666667, 0.66666667, 0.66666667, 0.66666667, 1.        ,\n        0.66666667, 1.        , 0.66666667, 0.66666667, 0.66666667,\n        0.66666667, 0.66666667, 0.66666667, 0.66666667, 0.66666667,\n        0.66666667, 0.66666667, 0.66666667, 0.66666667, 0.66666667,\n        0.65465367],\n       [0.66666667, 0.66666667, 1.        , 0.66666667, 0.66666667,\n        0.66666667, 1.        , 0.66666667, 0.66666667, 0.66666667,\n        0.66666667, 0.66666667, 1.        , 1.        , 1.        ,\n        1.        , 1.        , 1.        , 1.        , 0.66666667,\n        0.66666667, 0.66666667, 0.66666667, 1.        , 0.66666667,\n        0.87287156],\n       [0.66666667, 0.66666667, 1.        , 0.66666667, 0.66666667,\n        0.66666667, 1.        , 0.66666667, 0.66666667, 0.66666667,\n        0.66666667, 0.66666667, 1.        , 1.        , 1.        ,\n        1.        , 1.        , 1.        , 1.        , 0.66666667,\n        0.66666667, 0.66666667, 0.66666667, 1.        , 0.66666667,\n        0.87287156],\n       [0.66666667, 0.66666667, 1.        , 0.66666667, 0.66666667,\n        0.66666667, 1.        , 0.66666667, 0.66666667, 0.66666667,\n        0.66666667, 0.66666667, 1.        , 1.        , 1.        ,\n        1.        , 1.        , 1.        , 1.        , 0.66666667,\n        0.66666667, 0.66666667, 0.66666667, 1.        , 0.66666667,\n        0.87287156],\n       [0.66666667, 0.66666667, 1.        , 0.66666667, 0.66666667,\n        0.66666667, 1.        , 0.66666667, 0.66666667, 0.66666667,\n        0.66666667, 0.66666667, 1.        , 1.        , 1.        ,\n        1.        , 1.        , 1.        , 1.        , 0.66666667,\n        0.66666667, 0.66666667, 0.66666667, 1.        , 0.66666667,\n        0.87287156],\n       [0.66666667, 0.66666667, 1.        , 0.66666667, 0.66666667,\n        0.66666667, 1.        , 0.66666667, 0.66666667, 0.66666667,\n        0.66666667, 0.66666667, 1.        , 1.        , 1.        ,\n        1.        , 1.        , 1.        , 1.        , 0.66666667,\n        0.66666667, 0.66666667, 0.66666667, 1.        , 0.66666667,\n        0.87287156],\n       [0.66666667, 0.66666667, 1.        , 0.66666667, 0.66666667,\n        0.66666667, 1.        , 0.66666667, 0.66666667, 0.66666667,\n        0.66666667, 0.66666667, 1.        , 1.        , 1.        ,\n        1.        , 1.        , 1.        , 1.        , 0.66666667,\n        0.66666667, 0.66666667, 0.66666667, 1.        , 0.66666667,\n        0.87287156],\n       [0.66666667, 0.66666667, 1.        , 0.66666667, 0.66666667,\n        0.66666667, 1.        , 0.66666667, 0.66666667, 0.66666667,\n        0.66666667, 0.66666667, 1.        , 1.        , 1.        ,\n        1.        , 1.        , 1.        , 1.        , 0.66666667,\n        0.66666667, 0.66666667, 0.66666667, 1.        , 0.66666667,\n        0.87287156],\n       [0.66666667, 0.66666667, 0.66666667, 1.        , 0.66666667,\n        1.        , 0.66666667, 1.        , 1.        , 0.66666667,\n        1.        , 0.66666667, 0.66666667, 0.66666667, 0.66666667,\n        0.66666667, 0.66666667, 0.66666667, 0.66666667, 1.        ,\n        0.66666667, 0.66666667, 1.        , 0.66666667, 1.        ,\n        0.65465367],\n       [0.66666667, 0.66666667, 0.66666667, 0.66666667, 0.66666667,\n        0.66666667, 0.66666667, 0.66666667, 0.66666667, 0.66666667,\n        0.66666667, 0.66666667, 0.66666667, 0.66666667, 0.66666667,\n        0.66666667, 0.66666667, 0.66666667, 0.66666667, 0.66666667,\n        1.        , 0.66666667, 0.66666667, 0.66666667, 0.66666667,\n        0.87287156],\n       [0.66666667, 0.66666667, 0.66666667, 0.66666667, 0.66666667,\n        0.66666667, 0.66666667, 0.66666667, 0.66666667, 0.66666667,\n        0.66666667, 0.66666667, 0.66666667, 0.66666667, 0.66666667,\n        0.66666667, 0.66666667, 0.66666667, 0.66666667, 0.66666667,\n        0.66666667, 1.        , 0.66666667, 0.66666667, 0.66666667,\n        0.65465367],\n       [0.66666667, 0.66666667, 0.66666667, 1.        , 0.66666667,\n        1.        , 0.66666667, 1.        , 1.        , 0.66666667,\n        1.        , 0.66666667, 0.66666667, 0.66666667, 0.66666667,\n        0.66666667, 0.66666667, 0.66666667, 0.66666667, 1.        ,\n        0.66666667, 0.66666667, 1.        , 0.66666667, 1.        ,\n        0.65465367],\n       [0.66666667, 0.66666667, 1.        , 0.66666667, 0.66666667,\n        0.66666667, 1.        , 0.66666667, 0.66666667, 0.66666667,\n        0.66666667, 0.66666667, 1.        , 1.        , 1.        ,\n        1.        , 1.        , 1.        , 1.        , 0.66666667,\n        0.66666667, 0.66666667, 0.66666667, 1.        , 0.66666667,\n        0.87287156],\n       [0.66666667, 0.66666667, 0.66666667, 1.        , 0.66666667,\n        1.        , 0.66666667, 1.        , 1.        , 0.66666667,\n        1.        , 0.66666667, 0.66666667, 0.66666667, 0.66666667,\n        0.66666667, 0.66666667, 0.66666667, 0.66666667, 1.        ,\n        0.66666667, 0.66666667, 1.        , 0.66666667, 1.        ,\n        0.65465367],\n       [0.65465367, 0.65465367, 0.87287156, 0.65465367, 0.65465367,\n        0.65465367, 0.87287156, 0.65465367, 0.65465367, 0.65465367,\n        0.65465367, 0.65465367, 0.87287156, 0.87287156, 0.87287156,\n        0.87287156, 0.87287156, 0.87287156, 0.87287156, 0.65465367,\n        0.87287156, 0.65465367, 0.65465367, 0.87287156, 0.65465367,\n        1.        ]])"
     },
     "metadata": {}
    }
   ],
   "execution_count": 36
  },
  {
   "cell_type": "code",
   "source": "cosine_sim_df = pd.DataFrame(cosine_sim,index=data['name'],columns=data['name'])\ncosine_sim_df.sample(5,axis=1).sample(10,axis=0)",
   "metadata": {
    "_kg_hide-output": false,
    "execution": {
     "iopub.status.busy": "2024-12-13T02:56:37.875938Z",
     "iopub.execute_input": "2024-12-13T02:56:37.876907Z",
     "iopub.status.idle": "2024-12-13T02:56:37.892756Z",
     "shell.execute_reply.started": "2024-12-13T02:56:37.876862Z",
     "shell.execute_reply": "2024-12-13T02:56:37.891550Z"
    },
    "trusted": true
   },
   "outputs": [
    {
     "execution_count": 37,
     "output_type": "execute_result",
     "data": {
      "text/plain": "name                       Indonesia islamic art museum  Keraton bbj babat  \\\nname                                                                         \nTanjung kodok                                  0.666667           0.666667   \nMakam dewi serdadu                             0.666667           0.666667   \nPantai lorena                                  0.666667           0.666667   \nPantai maldives kemantren                      0.666667           0.666667   \nMasjid Namira                                  0.666667           0.666667   \nKeraton bbj babat                              0.666667           1.000000   \nMakam sunan Sendang                            0.666667           0.666667   \nPantai lohgung brondong                        0.666667           0.666667   \nPantai Putri Klayar                            0.666667           0.666667   \nMakam Sunan Drajat                             0.666667           0.666667   \n\nname                       Istana gunung mas 27  Makam maulana Ishaq  \\\nname                                                                   \nTanjung kodok                          1.000000             0.666667   \nMakam dewi serdadu                     0.666667             1.000000   \nPantai lorena                          1.000000             0.666667   \nPantai maldives kemantren              1.000000             0.666667   \nMasjid Namira                          0.666667             1.000000   \nKeraton bbj babat                      0.666667             0.666667   \nMakam sunan Sendang                    0.666667             1.000000   \nPantai lohgung brondong                1.000000             0.666667   \nPantai Putri Klayar                    1.000000             0.666667   \nMakam Sunan Drajat                     0.666667             1.000000   \n\nname                       Makam dewi serdadu  \nname                                           \nTanjung kodok                        0.666667  \nMakam dewi serdadu                   1.000000  \nPantai lorena                        0.666667  \nPantai maldives kemantren            0.666667  \nMasjid Namira                        1.000000  \nKeraton bbj babat                    0.666667  \nMakam sunan Sendang                  1.000000  \nPantai lohgung brondong              0.666667  \nPantai Putri Klayar                  0.666667  \nMakam Sunan Drajat                   1.000000  ",
      "text/html": "<div>\n<style scoped>\n    .dataframe tbody tr th:only-of-type {\n        vertical-align: middle;\n    }\n\n    .dataframe tbody tr th {\n        vertical-align: top;\n    }\n\n    .dataframe thead th {\n        text-align: right;\n    }\n</style>\n<table border=\"1\" class=\"dataframe\">\n  <thead>\n    <tr style=\"text-align: right;\">\n      <th>name</th>\n      <th>Indonesia islamic art museum</th>\n      <th>Keraton bbj babat</th>\n      <th>Istana gunung mas 27</th>\n      <th>Makam maulana Ishaq</th>\n      <th>Makam dewi serdadu</th>\n    </tr>\n    <tr>\n      <th>name</th>\n      <th></th>\n      <th></th>\n      <th></th>\n      <th></th>\n      <th></th>\n    </tr>\n  </thead>\n  <tbody>\n    <tr>\n      <th>Tanjung kodok</th>\n      <td>0.666667</td>\n      <td>0.666667</td>\n      <td>1.000000</td>\n      <td>0.666667</td>\n      <td>0.666667</td>\n    </tr>\n    <tr>\n      <th>Makam dewi serdadu</th>\n      <td>0.666667</td>\n      <td>0.666667</td>\n      <td>0.666667</td>\n      <td>1.000000</td>\n      <td>1.000000</td>\n    </tr>\n    <tr>\n      <th>Pantai lorena</th>\n      <td>0.666667</td>\n      <td>0.666667</td>\n      <td>1.000000</td>\n      <td>0.666667</td>\n      <td>0.666667</td>\n    </tr>\n    <tr>\n      <th>Pantai maldives kemantren</th>\n      <td>0.666667</td>\n      <td>0.666667</td>\n      <td>1.000000</td>\n      <td>0.666667</td>\n      <td>0.666667</td>\n    </tr>\n    <tr>\n      <th>Masjid Namira</th>\n      <td>0.666667</td>\n      <td>0.666667</td>\n      <td>0.666667</td>\n      <td>1.000000</td>\n      <td>1.000000</td>\n    </tr>\n    <tr>\n      <th>Keraton bbj babat</th>\n      <td>0.666667</td>\n      <td>1.000000</td>\n      <td>0.666667</td>\n      <td>0.666667</td>\n      <td>0.666667</td>\n    </tr>\n    <tr>\n      <th>Makam sunan Sendang</th>\n      <td>0.666667</td>\n      <td>0.666667</td>\n      <td>0.666667</td>\n      <td>1.000000</td>\n      <td>1.000000</td>\n    </tr>\n    <tr>\n      <th>Pantai lohgung brondong</th>\n      <td>0.666667</td>\n      <td>0.666667</td>\n      <td>1.000000</td>\n      <td>0.666667</td>\n      <td>0.666667</td>\n    </tr>\n    <tr>\n      <th>Pantai Putri Klayar</th>\n      <td>0.666667</td>\n      <td>0.666667</td>\n      <td>1.000000</td>\n      <td>0.666667</td>\n      <td>0.666667</td>\n    </tr>\n    <tr>\n      <th>Makam Sunan Drajat</th>\n      <td>0.666667</td>\n      <td>0.666667</td>\n      <td>0.666667</td>\n      <td>1.000000</td>\n      <td>1.000000</td>\n    </tr>\n  </tbody>\n</table>\n</div>"
     },
     "metadata": {}
    }
   ],
   "execution_count": 37
  },
  {
   "cell_type": "markdown",
   "source": "## Recommendation",
   "metadata": {
    "_kg_hide-output": false
   }
  },
  {
   "cell_type": "code",
   "source": "def generate_candidates(city=None, max_price=None, items=data[['id', 'name', 'category', 'description', 'city', 'price']]):\n    filtered_items = items\n    if city:\n        filtered_items = filtered_items[filtered_items['city'] == city]\n    if max_price:\n        filtered_items = filtered_items[filtered_items['price'] <= max_price]\n    return filtered_items",
   "metadata": {
    "execution": {
     "iopub.status.busy": "2024-12-13T02:56:50.197796Z",
     "iopub.execute_input": "2024-12-13T02:56:50.198416Z",
     "iopub.status.idle": "2024-12-13T02:56:50.204516Z",
     "shell.execute_reply.started": "2024-12-13T02:56:50.198385Z",
     "shell.execute_reply": "2024-12-13T02:56:50.203574Z"
    },
    "trusted": true
   },
   "outputs": [],
   "execution_count": 38
  },
  {
   "cell_type": "code",
   "source": "# Originall\n# def tourism_recommendations(place_name,similarity_data=cosine_sim_df,items=data[['name','category','description','city']],k=5):\n#     index = similarity_data.loc[:,place_name].to_numpy().argpartition(range(-1,-k,-1))\n    \n#     closest = similarity_data.columns[index[-1:-(k+2):-1]]\n    \n#     closest = closest.drop(place_name,errors='ignore')\n    \n#     return pd.DataFrame(closest).merge(items).head(k)",
   "metadata": {
    "_kg_hide-output": false,
    "execution": {
     "iopub.status.busy": "2024-12-12T17:04:15.240552Z",
     "iopub.execute_input": "2024-12-12T17:04:15.241022Z",
     "iopub.status.idle": "2024-12-12T17:04:15.247371Z",
     "shell.execute_reply.started": "2024-12-12T17:04:15.240989Z",
     "shell.execute_reply": "2024-12-12T17:04:15.245851Z"
    },
    "trusted": true
   },
   "outputs": [],
   "execution_count": 54
  },
  {
   "cell_type": "code",
   "source": "# tourism_recommendations(\"Air Mancur Menari\")\ngenerate_candidates(city=\"Lamongan\", max_price=100000).head(5)",
   "metadata": {
    "_kg_hide-output": false,
    "execution": {
     "iopub.status.busy": "2024-12-13T02:56:56.471775Z",
     "iopub.execute_input": "2024-12-13T02:56:56.472545Z",
     "iopub.status.idle": "2024-12-13T02:56:56.485149Z",
     "shell.execute_reply.started": "2024-12-13T02:56:56.472506Z",
     "shell.execute_reply": "2024-12-13T02:56:56.484103Z"
    },
    "trusted": true
   },
   "outputs": [
    {
     "execution_count": 39,
     "output_type": "execute_result",
     "data": {
      "text/plain": "   id                   name         category  \\\n1   2     Maharani zoo & goa  Wisata Edukasi    \n2   3          Tanjung kodok      Wisata Alam   \n3   4          Masjid Namira    Wisata Religi   \n4   5     Alun-alun Lamongan  Wisata Olahraga   \n5   6  Masjid Agung Lamongan    Wisata Religi   \n\n                                         description      city     price  \n1  Objek wisata ini menggabungkan kebun binatang ...  Lamongan   40000.0  \n2  Tanjung Kodok adalah kawasan pantai yang memil...  Lamongan  100000.0  \n3  Masjid Namira adalah masjid modern yang terken...  Lamongan       0.0  \n4  Sebagai pusat kota, Alun-Alun Lamongan menjadi...  Lamongan       0.0  \n5  Masjid ini merupakan ikon religi di Lamongan, ...  Lamongan       0.0  ",
      "text/html": "<div>\n<style scoped>\n    .dataframe tbody tr th:only-of-type {\n        vertical-align: middle;\n    }\n\n    .dataframe tbody tr th {\n        vertical-align: top;\n    }\n\n    .dataframe thead th {\n        text-align: right;\n    }\n</style>\n<table border=\"1\" class=\"dataframe\">\n  <thead>\n    <tr style=\"text-align: right;\">\n      <th></th>\n      <th>id</th>\n      <th>name</th>\n      <th>category</th>\n      <th>description</th>\n      <th>city</th>\n      <th>price</th>\n    </tr>\n  </thead>\n  <tbody>\n    <tr>\n      <th>1</th>\n      <td>2</td>\n      <td>Maharani zoo &amp; goa</td>\n      <td>Wisata Edukasi</td>\n      <td>Objek wisata ini menggabungkan kebun binatang ...</td>\n      <td>Lamongan</td>\n      <td>40000.0</td>\n    </tr>\n    <tr>\n      <th>2</th>\n      <td>3</td>\n      <td>Tanjung kodok</td>\n      <td>Wisata Alam</td>\n      <td>Tanjung Kodok adalah kawasan pantai yang memil...</td>\n      <td>Lamongan</td>\n      <td>100000.0</td>\n    </tr>\n    <tr>\n      <th>3</th>\n      <td>4</td>\n      <td>Masjid Namira</td>\n      <td>Wisata Religi</td>\n      <td>Masjid Namira adalah masjid modern yang terken...</td>\n      <td>Lamongan</td>\n      <td>0.0</td>\n    </tr>\n    <tr>\n      <th>4</th>\n      <td>5</td>\n      <td>Alun-alun Lamongan</td>\n      <td>Wisata Olahraga</td>\n      <td>Sebagai pusat kota, Alun-Alun Lamongan menjadi...</td>\n      <td>Lamongan</td>\n      <td>0.0</td>\n    </tr>\n    <tr>\n      <th>5</th>\n      <td>6</td>\n      <td>Masjid Agung Lamongan</td>\n      <td>Wisata Religi</td>\n      <td>Masjid ini merupakan ikon religi di Lamongan, ...</td>\n      <td>Lamongan</td>\n      <td>0.0</td>\n    </tr>\n  </tbody>\n</table>\n</div>"
     },
     "metadata": {}
    }
   ],
   "execution_count": 39
  },
  {
   "cell_type": "code",
   "source": "# tourism_recommendations(\"Trans Studio Bandung\")\ngenerate_candidates(\"Lamongan\", 110000).head(5)",
   "metadata": {
    "_kg_hide-output": false,
    "execution": {
     "iopub.status.busy": "2024-12-13T02:57:14.122339Z",
     "iopub.execute_input": "2024-12-13T02:57:14.123019Z",
     "iopub.status.idle": "2024-12-13T02:57:14.135248Z",
     "shell.execute_reply.started": "2024-12-13T02:57:14.122990Z",
     "shell.execute_reply": "2024-12-13T02:57:14.134293Z"
    },
    "trusted": true
   },
   "outputs": [
    {
     "execution_count": 40,
     "output_type": "execute_result",
     "data": {
      "text/plain": "   id                   name         category  \\\n1   2     Maharani zoo & goa  Wisata Edukasi    \n2   3          Tanjung kodok      Wisata Alam   \n3   4          Masjid Namira    Wisata Religi   \n4   5     Alun-alun Lamongan  Wisata Olahraga   \n5   6  Masjid Agung Lamongan    Wisata Religi   \n\n                                         description      city     price  \n1  Objek wisata ini menggabungkan kebun binatang ...  Lamongan   40000.0  \n2  Tanjung Kodok adalah kawasan pantai yang memil...  Lamongan  100000.0  \n3  Masjid Namira adalah masjid modern yang terken...  Lamongan       0.0  \n4  Sebagai pusat kota, Alun-Alun Lamongan menjadi...  Lamongan       0.0  \n5  Masjid ini merupakan ikon religi di Lamongan, ...  Lamongan       0.0  ",
      "text/html": "<div>\n<style scoped>\n    .dataframe tbody tr th:only-of-type {\n        vertical-align: middle;\n    }\n\n    .dataframe tbody tr th {\n        vertical-align: top;\n    }\n\n    .dataframe thead th {\n        text-align: right;\n    }\n</style>\n<table border=\"1\" class=\"dataframe\">\n  <thead>\n    <tr style=\"text-align: right;\">\n      <th></th>\n      <th>id</th>\n      <th>name</th>\n      <th>category</th>\n      <th>description</th>\n      <th>city</th>\n      <th>price</th>\n    </tr>\n  </thead>\n  <tbody>\n    <tr>\n      <th>1</th>\n      <td>2</td>\n      <td>Maharani zoo &amp; goa</td>\n      <td>Wisata Edukasi</td>\n      <td>Objek wisata ini menggabungkan kebun binatang ...</td>\n      <td>Lamongan</td>\n      <td>40000.0</td>\n    </tr>\n    <tr>\n      <th>2</th>\n      <td>3</td>\n      <td>Tanjung kodok</td>\n      <td>Wisata Alam</td>\n      <td>Tanjung Kodok adalah kawasan pantai yang memil...</td>\n      <td>Lamongan</td>\n      <td>100000.0</td>\n    </tr>\n    <tr>\n      <th>3</th>\n      <td>4</td>\n      <td>Masjid Namira</td>\n      <td>Wisata Religi</td>\n      <td>Masjid Namira adalah masjid modern yang terken...</td>\n      <td>Lamongan</td>\n      <td>0.0</td>\n    </tr>\n    <tr>\n      <th>4</th>\n      <td>5</td>\n      <td>Alun-alun Lamongan</td>\n      <td>Wisata Olahraga</td>\n      <td>Sebagai pusat kota, Alun-Alun Lamongan menjadi...</td>\n      <td>Lamongan</td>\n      <td>0.0</td>\n    </tr>\n    <tr>\n      <th>5</th>\n      <td>6</td>\n      <td>Masjid Agung Lamongan</td>\n      <td>Wisata Religi</td>\n      <td>Masjid ini merupakan ikon religi di Lamongan, ...</td>\n      <td>Lamongan</td>\n      <td>0.0</td>\n    </tr>\n  </tbody>\n</table>\n</div>"
     },
     "metadata": {}
    }
   ],
   "execution_count": 40
  },
  {
   "cell_type": "markdown",
   "source": "# Collaborative Filtering",
   "metadata": {
    "_kg_hide-output": false
   }
  },
  {
   "cell_type": "code",
   "source": "import pandas as pd\nimport numpy as np \nfrom zipfile import ZipFile\nimport tensorflow as tf\nfrom tensorflow import keras\nfrom tensorflow.keras import layers\nfrom pathlib import Path\nimport matplotlib.pyplot as plt",
   "metadata": {
    "_kg_hide-output": false,
    "execution": {
     "iopub.status.busy": "2024-12-13T02:57:24.314883Z",
     "iopub.execute_input": "2024-12-13T02:57:24.315663Z",
     "iopub.status.idle": "2024-12-13T02:57:29.467647Z",
     "shell.execute_reply.started": "2024-12-13T02:57:24.315632Z",
     "shell.execute_reply": "2024-12-13T02:57:29.466595Z"
    },
    "trusted": true
   },
   "outputs": [],
   "execution_count": 41
  },
  {
   "cell_type": "code",
   "source": "df = tourism_rating\ndf",
   "metadata": {
    "_kg_hide-output": false,
    "execution": {
     "iopub.status.busy": "2024-12-13T02:57:32.919218Z",
     "iopub.execute_input": "2024-12-13T02:57:32.919868Z",
     "iopub.status.idle": "2024-12-13T02:57:32.931654Z",
     "shell.execute_reply.started": "2024-12-13T02:57:32.919836Z",
     "shell.execute_reply": "2024-12-13T02:57:32.930731Z"
    },
    "trusted": true
   },
   "outputs": [
    {
     "execution_count": 42,
     "output_type": "execute_result",
     "data": {
      "text/plain": "      User_Id  Place_Id  Place_Ratings\n0           1         1        4.50000\n1           1         2        4.50000\n2           1         3        4.83000\n3           1         4        5.00000\n4           1         5        4.50000\n...       ...       ...            ...\n1919       74        22        3.17000\n1920       74        23        3.00000\n1921       74        24        3.17000\n1922       74        25        2.83000\n1923       74        26        4.16667\n\n[1924 rows x 3 columns]",
      "text/html": "<div>\n<style scoped>\n    .dataframe tbody tr th:only-of-type {\n        vertical-align: middle;\n    }\n\n    .dataframe tbody tr th {\n        vertical-align: top;\n    }\n\n    .dataframe thead th {\n        text-align: right;\n    }\n</style>\n<table border=\"1\" class=\"dataframe\">\n  <thead>\n    <tr style=\"text-align: right;\">\n      <th></th>\n      <th>User_Id</th>\n      <th>Place_Id</th>\n      <th>Place_Ratings</th>\n    </tr>\n  </thead>\n  <tbody>\n    <tr>\n      <th>0</th>\n      <td>1</td>\n      <td>1</td>\n      <td>4.50000</td>\n    </tr>\n    <tr>\n      <th>1</th>\n      <td>1</td>\n      <td>2</td>\n      <td>4.50000</td>\n    </tr>\n    <tr>\n      <th>2</th>\n      <td>1</td>\n      <td>3</td>\n      <td>4.83000</td>\n    </tr>\n    <tr>\n      <th>3</th>\n      <td>1</td>\n      <td>4</td>\n      <td>5.00000</td>\n    </tr>\n    <tr>\n      <th>4</th>\n      <td>1</td>\n      <td>5</td>\n      <td>4.50000</td>\n    </tr>\n    <tr>\n      <th>...</th>\n      <td>...</td>\n      <td>...</td>\n      <td>...</td>\n    </tr>\n    <tr>\n      <th>1919</th>\n      <td>74</td>\n      <td>22</td>\n      <td>3.17000</td>\n    </tr>\n    <tr>\n      <th>1920</th>\n      <td>74</td>\n      <td>23</td>\n      <td>3.00000</td>\n    </tr>\n    <tr>\n      <th>1921</th>\n      <td>74</td>\n      <td>24</td>\n      <td>3.17000</td>\n    </tr>\n    <tr>\n      <th>1922</th>\n      <td>74</td>\n      <td>25</td>\n      <td>2.83000</td>\n    </tr>\n    <tr>\n      <th>1923</th>\n      <td>74</td>\n      <td>26</td>\n      <td>4.16667</td>\n    </tr>\n  </tbody>\n</table>\n<p>1924 rows × 3 columns</p>\n</div>"
     },
     "metadata": {}
    }
   ],
   "execution_count": 42
  },
  {
   "cell_type": "markdown",
   "source": "## Data Preparation",
   "metadata": {
    "_kg_hide-output": false
   }
  },
  {
   "cell_type": "markdown",
   "source": "### Encode",
   "metadata": {
    "_kg_hide-output": false
   }
  },
  {
   "cell_type": "code",
   "source": "user_ids = df.User_Id.unique().tolist()\n\nuser_to_user_encoded = {x:i for i, x in enumerate(user_ids)}\n\nuser_encoded_to_user = {i: x for i, x in enumerate(user_ids)}",
   "metadata": {
    "_kg_hide-output": false,
    "execution": {
     "iopub.status.busy": "2024-12-13T02:57:36.180896Z",
     "iopub.execute_input": "2024-12-13T02:57:36.181242Z",
     "iopub.status.idle": "2024-12-13T02:57:36.186667Z",
     "shell.execute_reply.started": "2024-12-13T02:57:36.181213Z",
     "shell.execute_reply": "2024-12-13T02:57:36.185478Z"
    },
    "trusted": true
   },
   "outputs": [],
   "execution_count": 43
  },
  {
   "cell_type": "code",
   "source": "place_ids = df.Place_Id.unique().tolist()\n\nplace_to_place_encoded = {x: i for i, x in enumerate(place_ids)}\n\nplace_encoded_to_place = {x: i for x, i in enumerate(place_ids)}",
   "metadata": {
    "_kg_hide-output": false,
    "execution": {
     "iopub.status.busy": "2024-12-13T02:57:39.076139Z",
     "iopub.execute_input": "2024-12-13T02:57:39.076729Z",
     "iopub.status.idle": "2024-12-13T02:57:39.081622Z",
     "shell.execute_reply.started": "2024-12-13T02:57:39.076695Z",
     "shell.execute_reply": "2024-12-13T02:57:39.080722Z"
    },
    "trusted": true
   },
   "outputs": [],
   "execution_count": 44
  },
  {
   "cell_type": "code",
   "source": "df['user'] = df.User_Id.map(user_to_user_encoded)\n\ndf['place'] = df.Place_Id.map(place_to_place_encoded)",
   "metadata": {
    "_kg_hide-output": false,
    "execution": {
     "iopub.status.busy": "2024-12-13T02:57:41.765437Z",
     "iopub.execute_input": "2024-12-13T02:57:41.766058Z",
     "iopub.status.idle": "2024-12-13T02:57:41.773202Z",
     "shell.execute_reply.started": "2024-12-13T02:57:41.766026Z",
     "shell.execute_reply": "2024-12-13T02:57:41.772217Z"
    },
    "trusted": true
   },
   "outputs": [],
   "execution_count": 45
  },
  {
   "cell_type": "code",
   "source": "num_users = len(user_to_user_encoded)\n\nnum_place = len(place_encoded_to_place)\n\ndf['Place_Ratings'] = df['Place_Ratings'].values.astype(np.float32)\n\nmin_rating = min(df['Place_Ratings'])\n\nmax_rating= max(df['Place_Ratings'])\n\nprint('Number of User: {}, Number of Place: {}, Min Rating: {}, Max Rating: {}'.format(\n    num_users, num_place, min_rating, max_rating\n))",
   "metadata": {
    "_kg_hide-output": false,
    "execution": {
     "iopub.status.busy": "2024-12-13T02:57:44.475782Z",
     "iopub.execute_input": "2024-12-13T02:57:44.476478Z",
     "iopub.status.idle": "2024-12-13T02:57:44.483046Z",
     "shell.execute_reply.started": "2024-12-13T02:57:44.476445Z",
     "shell.execute_reply": "2024-12-13T02:57:44.482035Z"
    },
    "trusted": true
   },
   "outputs": [
    {
     "name": "stdout",
     "text": "Number of User: 74, Number of Place: 26, Min Rating: 0.0, Max Rating: 5.0\n",
     "output_type": "stream"
    }
   ],
   "execution_count": 46
  },
  {
   "cell_type": "markdown",
   "source": "## Train Test Split",
   "metadata": {
    "_kg_hide-output": false
   }
  },
  {
   "cell_type": "code",
   "source": "df = df.sample(frac=1,random_state=42)\ndf",
   "metadata": {
    "_kg_hide-output": false,
    "execution": {
     "iopub.status.busy": "2024-12-13T02:57:49.247767Z",
     "iopub.execute_input": "2024-12-13T02:57:49.248135Z",
     "iopub.status.idle": "2024-12-13T02:57:49.262366Z",
     "shell.execute_reply.started": "2024-12-13T02:57:49.248103Z",
     "shell.execute_reply": "2024-12-13T02:57:49.261336Z"
    },
    "trusted": true
   },
   "outputs": [
    {
     "execution_count": 47,
     "output_type": "execute_result",
     "data": {
      "text/plain": "      User_Id  Place_Id  Place_Ratings  user  place\n1259       49        12           3.00    48     11\n1623       63        12           3.33    62     11\n611        24        14           3.17    23     13\n514        20        21           5.00    19     20\n413        16        24           0.00    15     23\n...       ...       ...            ...   ...    ...\n1130       44        13           3.33    43     12\n1294       50        21           3.33    49     20\n860        34         3           3.83    33      2\n1459       57         4           5.00    56      3\n1126       44         9           5.00    43      8\n\n[1924 rows x 5 columns]",
      "text/html": "<div>\n<style scoped>\n    .dataframe tbody tr th:only-of-type {\n        vertical-align: middle;\n    }\n\n    .dataframe tbody tr th {\n        vertical-align: top;\n    }\n\n    .dataframe thead th {\n        text-align: right;\n    }\n</style>\n<table border=\"1\" class=\"dataframe\">\n  <thead>\n    <tr style=\"text-align: right;\">\n      <th></th>\n      <th>User_Id</th>\n      <th>Place_Id</th>\n      <th>Place_Ratings</th>\n      <th>user</th>\n      <th>place</th>\n    </tr>\n  </thead>\n  <tbody>\n    <tr>\n      <th>1259</th>\n      <td>49</td>\n      <td>12</td>\n      <td>3.00</td>\n      <td>48</td>\n      <td>11</td>\n    </tr>\n    <tr>\n      <th>1623</th>\n      <td>63</td>\n      <td>12</td>\n      <td>3.33</td>\n      <td>62</td>\n      <td>11</td>\n    </tr>\n    <tr>\n      <th>611</th>\n      <td>24</td>\n      <td>14</td>\n      <td>3.17</td>\n      <td>23</td>\n      <td>13</td>\n    </tr>\n    <tr>\n      <th>514</th>\n      <td>20</td>\n      <td>21</td>\n      <td>5.00</td>\n      <td>19</td>\n      <td>20</td>\n    </tr>\n    <tr>\n      <th>413</th>\n      <td>16</td>\n      <td>24</td>\n      <td>0.00</td>\n      <td>15</td>\n      <td>23</td>\n    </tr>\n    <tr>\n      <th>...</th>\n      <td>...</td>\n      <td>...</td>\n      <td>...</td>\n      <td>...</td>\n      <td>...</td>\n    </tr>\n    <tr>\n      <th>1130</th>\n      <td>44</td>\n      <td>13</td>\n      <td>3.33</td>\n      <td>43</td>\n      <td>12</td>\n    </tr>\n    <tr>\n      <th>1294</th>\n      <td>50</td>\n      <td>21</td>\n      <td>3.33</td>\n      <td>49</td>\n      <td>20</td>\n    </tr>\n    <tr>\n      <th>860</th>\n      <td>34</td>\n      <td>3</td>\n      <td>3.83</td>\n      <td>33</td>\n      <td>2</td>\n    </tr>\n    <tr>\n      <th>1459</th>\n      <td>57</td>\n      <td>4</td>\n      <td>5.00</td>\n      <td>56</td>\n      <td>3</td>\n    </tr>\n    <tr>\n      <th>1126</th>\n      <td>44</td>\n      <td>9</td>\n      <td>5.00</td>\n      <td>43</td>\n      <td>8</td>\n    </tr>\n  </tbody>\n</table>\n<p>1924 rows × 5 columns</p>\n</div>"
     },
     "metadata": {}
    }
   ],
   "execution_count": 47
  },
  {
   "cell_type": "code",
   "source": "x = df[['user','place']].values\n\ny = df['Place_Ratings'].apply(lambda x:(x-min_rating)/(max_rating-min_rating)).values\n\ntrain_indices = int(0.8 * df.shape[0])\n\nx_train,x_val,y_train,y_val = (\n    x[:train_indices],\n    x[train_indices:],\n    y[:train_indices],\n    y[train_indices:]\n)\n\nprint(x,y)",
   "metadata": {
    "_kg_hide-output": false,
    "execution": {
     "iopub.status.busy": "2024-12-13T02:57:53.467681Z",
     "iopub.execute_input": "2024-12-13T02:57:53.468440Z",
     "iopub.status.idle": "2024-12-13T02:57:53.477409Z",
     "shell.execute_reply.started": "2024-12-13T02:57:53.468407Z",
     "shell.execute_reply": "2024-12-13T02:57:53.476204Z"
    },
    "trusted": true
   },
   "outputs": [
    {
     "name": "stdout",
     "text": "[[48 11]\n [62 11]\n [23 13]\n ...\n [33  2]\n [56  3]\n [43  8]] [0.6        0.66599998 0.63400002 ... 0.76599998 1.         1.        ]\n",
     "output_type": "stream"
    }
   ],
   "execution_count": 48
  },
  {
   "cell_type": "markdown",
   "source": "## Training",
   "metadata": {
    "_kg_hide-output": false
   }
  },
  {
   "cell_type": "code",
   "source": "class RecommenderNet(tf.keras.Model):\n \n  # Insialisasi fungsi\n  def __init__(self, num_users, num_place, embedding_size, **kwargs):\n    super(RecommenderNet, self).__init__(**kwargs)\n    self.num_users = num_users\n    self.num_place = num_place\n    self.embedding_size = embedding_size\n    self.user_embedding = layers.Embedding(\n        num_users,\n        embedding_size,\n        embeddings_initializer = 'he_normal',\n        embeddings_regularizer = keras.regularizers.l2(1e-6)\n    )\n    self.user_bias = layers.Embedding(num_users, 1) \n    self.place_embedding = layers.Embedding( \n        num_place,\n        embedding_size,\n        embeddings_initializer = 'he_normal',\n        embeddings_regularizer = keras.regularizers.l2(1e-6)\n    )\n    self.place_bias = layers.Embedding(num_place, 1) \n \n  def call(self, inputs):\n    user_vector = self.user_embedding(inputs[:,0]) # memanggil layer embedding 1\n    user_bias = self.user_bias(inputs[:, 0]) # memanggil layer embedding 2\n    place_vector = self.place_embedding(inputs[:, 1]) # memanggil layer embedding 3\n    place_bias = self.place_bias(inputs[:, 1]) # memanggil layer embedding 4\n \n    dot_user_place = tf.tensordot(user_vector, place_vector, 2) \n \n    x = dot_user_place + user_bias + place_bias\n    \n    return tf.nn.sigmoid(x) # activation sigmoid",
   "metadata": {
    "_kg_hide-output": false,
    "execution": {
     "iopub.status.busy": "2024-12-13T02:58:07.213050Z",
     "iopub.execute_input": "2024-12-13T02:58:07.213974Z",
     "iopub.status.idle": "2024-12-13T02:58:07.221754Z",
     "shell.execute_reply.started": "2024-12-13T02:58:07.213939Z",
     "shell.execute_reply": "2024-12-13T02:58:07.220818Z"
    },
    "trusted": true
   },
   "outputs": [],
   "execution_count": 50
  },
  {
   "cell_type": "code",
   "source": "model = RecommenderNet(num_users, num_place, 100)\n \n# model compile\nmodel.compile(\n    loss = tf.keras.losses.BinaryCrossentropy(),\n    optimizer = keras.optimizers.Adam(learning_rate=0.001),\n    metrics=[tf.keras.metrics.RootMeanSquaredError()]\n)",
   "metadata": {
    "_kg_hide-output": false,
    "execution": {
     "iopub.status.busy": "2024-12-13T02:58:13.938169Z",
     "iopub.execute_input": "2024-12-13T02:58:13.938536Z",
     "iopub.status.idle": "2024-12-13T02:58:16.640731Z",
     "shell.execute_reply.started": "2024-12-13T02:58:13.938506Z",
     "shell.execute_reply": "2024-12-13T02:58:16.639750Z"
    },
    "trusted": true
   },
   "outputs": [],
   "execution_count": 51
  },
  {
   "cell_type": "code",
   "source": "history = model.fit(\n    x = x_train,\n    y = y_train,\n    batch_size = 8,\n    epochs = 100,\n    validation_data = (x_val, y_val),\n)",
   "metadata": {
    "_kg_hide-output": false,
    "execution": {
     "iopub.status.busy": "2024-12-13T02:58:23.643658Z",
     "iopub.execute_input": "2024-12-13T02:58:23.644294Z",
     "iopub.status.idle": "2024-12-13T02:59:33.247694Z",
     "shell.execute_reply.started": "2024-12-13T02:58:23.644246Z",
     "shell.execute_reply": "2024-12-13T02:59:33.246873Z"
    },
    "trusted": true
   },
   "outputs": [
    {
     "name": "stdout",
     "text": "Epoch 1/100\n193/193 [==============================] - 3s 5ms/step - loss: 0.8724 - root_mean_squared_error: 0.4282 - val_loss: 0.8681 - val_root_mean_squared_error: 0.4283\nEpoch 2/100\n193/193 [==============================] - 1s 4ms/step - loss: 0.7484 - root_mean_squared_error: 0.3681 - val_loss: 0.8550 - val_root_mean_squared_error: 0.4213\nEpoch 3/100\n193/193 [==============================] - 1s 4ms/step - loss: 0.6771 - root_mean_squared_error: 0.3259 - val_loss: 0.8458 - val_root_mean_squared_error: 0.4162\nEpoch 4/100\n193/193 [==============================] - 1s 3ms/step - loss: 0.6751 - root_mean_squared_error: 0.3220 - val_loss: 0.8374 - val_root_mean_squared_error: 0.4116\nEpoch 5/100\n193/193 [==============================] - 1s 3ms/step - loss: 0.6701 - root_mean_squared_error: 0.3184 - val_loss: 0.8272 - val_root_mean_squared_error: 0.4074\nEpoch 6/100\n193/193 [==============================] - 1s 3ms/step - loss: 0.6412 - root_mean_squared_error: 0.2993 - val_loss: 0.8158 - val_root_mean_squared_error: 0.4022\nEpoch 7/100\n193/193 [==============================] - 1s 3ms/step - loss: 0.6263 - root_mean_squared_error: 0.2903 - val_loss: 0.8138 - val_root_mean_squared_error: 0.4017\nEpoch 8/100\n193/193 [==============================] - 1s 3ms/step - loss: 0.6140 - root_mean_squared_error: 0.2828 - val_loss: 0.8074 - val_root_mean_squared_error: 0.3987\nEpoch 9/100\n193/193 [==============================] - 1s 3ms/step - loss: 0.5999 - root_mean_squared_error: 0.2733 - val_loss: 0.8033 - val_root_mean_squared_error: 0.3963\nEpoch 10/100\n193/193 [==============================] - 1s 3ms/step - loss: 0.5830 - root_mean_squared_error: 0.2612 - val_loss: 0.7911 - val_root_mean_squared_error: 0.3911\nEpoch 11/100\n193/193 [==============================] - 1s 3ms/step - loss: 0.5785 - root_mean_squared_error: 0.2576 - val_loss: 0.7796 - val_root_mean_squared_error: 0.3857\nEpoch 12/100\n193/193 [==============================] - 1s 3ms/step - loss: 0.5651 - root_mean_squared_error: 0.2477 - val_loss: 0.7610 - val_root_mean_squared_error: 0.3758\nEpoch 13/100\n193/193 [==============================] - 1s 3ms/step - loss: 0.5553 - root_mean_squared_error: 0.2385 - val_loss: 0.7532 - val_root_mean_squared_error: 0.3708\nEpoch 14/100\n193/193 [==============================] - 1s 3ms/step - loss: 0.5523 - root_mean_squared_error: 0.2358 - val_loss: 0.7486 - val_root_mean_squared_error: 0.3684\nEpoch 15/100\n193/193 [==============================] - 1s 3ms/step - loss: 0.5483 - root_mean_squared_error: 0.2336 - val_loss: 0.7473 - val_root_mean_squared_error: 0.3684\nEpoch 16/100\n193/193 [==============================] - 1s 4ms/step - loss: 0.5372 - root_mean_squared_error: 0.2229 - val_loss: 0.7406 - val_root_mean_squared_error: 0.3646\nEpoch 17/100\n193/193 [==============================] - 1s 4ms/step - loss: 0.5245 - root_mean_squared_error: 0.2115 - val_loss: 0.7374 - val_root_mean_squared_error: 0.3629\nEpoch 18/100\n193/193 [==============================] - 1s 3ms/step - loss: 0.5213 - root_mean_squared_error: 0.2076 - val_loss: 0.7354 - val_root_mean_squared_error: 0.3613\nEpoch 19/100\n193/193 [==============================] - 1s 3ms/step - loss: 0.5199 - root_mean_squared_error: 0.2066 - val_loss: 0.7323 - val_root_mean_squared_error: 0.3593\nEpoch 20/100\n193/193 [==============================] - 1s 3ms/step - loss: 0.5187 - root_mean_squared_error: 0.2055 - val_loss: 0.7247 - val_root_mean_squared_error: 0.3552\nEpoch 21/100\n193/193 [==============================] - 1s 3ms/step - loss: 0.5163 - root_mean_squared_error: 0.2034 - val_loss: 0.7173 - val_root_mean_squared_error: 0.3518\nEpoch 22/100\n193/193 [==============================] - 1s 4ms/step - loss: 0.5080 - root_mean_squared_error: 0.1948 - val_loss: 0.7140 - val_root_mean_squared_error: 0.3497\nEpoch 23/100\n193/193 [==============================] - 1s 3ms/step - loss: 0.5044 - root_mean_squared_error: 0.1915 - val_loss: 0.7129 - val_root_mean_squared_error: 0.3488\nEpoch 24/100\n193/193 [==============================] - 1s 4ms/step - loss: 0.5027 - root_mean_squared_error: 0.1896 - val_loss: 0.7080 - val_root_mean_squared_error: 0.3453\nEpoch 25/100\n193/193 [==============================] - 1s 3ms/step - loss: 0.5018 - root_mean_squared_error: 0.1880 - val_loss: 0.6968 - val_root_mean_squared_error: 0.3382\nEpoch 26/100\n193/193 [==============================] - 1s 3ms/step - loss: 0.4979 - root_mean_squared_error: 0.1837 - val_loss: 0.6900 - val_root_mean_squared_error: 0.3336\nEpoch 27/100\n193/193 [==============================] - 1s 3ms/step - loss: 0.4984 - root_mean_squared_error: 0.1851 - val_loss: 0.6853 - val_root_mean_squared_error: 0.3305\nEpoch 28/100\n193/193 [==============================] - 1s 3ms/step - loss: 0.4948 - root_mean_squared_error: 0.1822 - val_loss: 0.6795 - val_root_mean_squared_error: 0.3271\nEpoch 29/100\n193/193 [==============================] - 1s 3ms/step - loss: 0.4922 - root_mean_squared_error: 0.1789 - val_loss: 0.6791 - val_root_mean_squared_error: 0.3269\nEpoch 30/100\n193/193 [==============================] - 1s 3ms/step - loss: 0.4913 - root_mean_squared_error: 0.1779 - val_loss: 0.6789 - val_root_mean_squared_error: 0.3266\nEpoch 31/100\n193/193 [==============================] - 1s 4ms/step - loss: 0.4876 - root_mean_squared_error: 0.1745 - val_loss: 0.6764 - val_root_mean_squared_error: 0.3253\nEpoch 32/100\n193/193 [==============================] - 1s 3ms/step - loss: 0.4881 - root_mean_squared_error: 0.1742 - val_loss: 0.6729 - val_root_mean_squared_error: 0.3225\nEpoch 33/100\n193/193 [==============================] - 1s 3ms/step - loss: 0.4868 - root_mean_squared_error: 0.1739 - val_loss: 0.6694 - val_root_mean_squared_error: 0.3200\nEpoch 34/100\n193/193 [==============================] - 1s 3ms/step - loss: 0.4838 - root_mean_squared_error: 0.1701 - val_loss: 0.6688 - val_root_mean_squared_error: 0.3195\nEpoch 35/100\n193/193 [==============================] - 1s 3ms/step - loss: 0.4820 - root_mean_squared_error: 0.1685 - val_loss: 0.6668 - val_root_mean_squared_error: 0.3185\nEpoch 36/100\n193/193 [==============================] - 1s 3ms/step - loss: 0.4821 - root_mean_squared_error: 0.1684 - val_loss: 0.6634 - val_root_mean_squared_error: 0.3167\nEpoch 37/100\n193/193 [==============================] - 1s 3ms/step - loss: 0.4827 - root_mean_squared_error: 0.1690 - val_loss: 0.6606 - val_root_mean_squared_error: 0.3144\nEpoch 38/100\n193/193 [==============================] - 1s 3ms/step - loss: 0.4805 - root_mean_squared_error: 0.1670 - val_loss: 0.6531 - val_root_mean_squared_error: 0.3098\nEpoch 39/100\n193/193 [==============================] - 1s 3ms/step - loss: 0.4791 - root_mean_squared_error: 0.1660 - val_loss: 0.6615 - val_root_mean_squared_error: 0.3155\nEpoch 40/100\n193/193 [==============================] - 1s 3ms/step - loss: 0.4777 - root_mean_squared_error: 0.1656 - val_loss: 0.6561 - val_root_mean_squared_error: 0.3115\nEpoch 41/100\n193/193 [==============================] - 1s 3ms/step - loss: 0.4781 - root_mean_squared_error: 0.1647 - val_loss: 0.6537 - val_root_mean_squared_error: 0.3093\nEpoch 42/100\n193/193 [==============================] - 1s 3ms/step - loss: 0.4807 - root_mean_squared_error: 0.1685 - val_loss: 0.6490 - val_root_mean_squared_error: 0.3065\nEpoch 43/100\n193/193 [==============================] - 1s 3ms/step - loss: 0.4795 - root_mean_squared_error: 0.1664 - val_loss: 0.6503 - val_root_mean_squared_error: 0.3071\nEpoch 44/100\n193/193 [==============================] - 1s 3ms/step - loss: 0.4766 - root_mean_squared_error: 0.1643 - val_loss: 0.6488 - val_root_mean_squared_error: 0.3059\nEpoch 45/100\n193/193 [==============================] - 1s 3ms/step - loss: 0.4789 - root_mean_squared_error: 0.1671 - val_loss: 0.6472 - val_root_mean_squared_error: 0.3053\nEpoch 46/100\n193/193 [==============================] - 1s 4ms/step - loss: 0.4745 - root_mean_squared_error: 0.1618 - val_loss: 0.6470 - val_root_mean_squared_error: 0.3044\nEpoch 47/100\n193/193 [==============================] - 1s 3ms/step - loss: 0.4724 - root_mean_squared_error: 0.1592 - val_loss: 0.6454 - val_root_mean_squared_error: 0.3037\nEpoch 48/100\n193/193 [==============================] - 1s 3ms/step - loss: 0.4740 - root_mean_squared_error: 0.1619 - val_loss: 0.6369 - val_root_mean_squared_error: 0.2984\nEpoch 49/100\n193/193 [==============================] - 1s 4ms/step - loss: 0.4748 - root_mean_squared_error: 0.1619 - val_loss: 0.6392 - val_root_mean_squared_error: 0.2999\nEpoch 50/100\n193/193 [==============================] - 1s 4ms/step - loss: 0.4727 - root_mean_squared_error: 0.1615 - val_loss: 0.6363 - val_root_mean_squared_error: 0.2978\nEpoch 51/100\n193/193 [==============================] - 1s 3ms/step - loss: 0.4747 - root_mean_squared_error: 0.1625 - val_loss: 0.6332 - val_root_mean_squared_error: 0.2957\nEpoch 52/100\n193/193 [==============================] - 1s 3ms/step - loss: 0.4725 - root_mean_squared_error: 0.1607 - val_loss: 0.6294 - val_root_mean_squared_error: 0.2931\nEpoch 53/100\n193/193 [==============================] - 1s 3ms/step - loss: 0.4742 - root_mean_squared_error: 0.1637 - val_loss: 0.6329 - val_root_mean_squared_error: 0.2955\nEpoch 54/100\n193/193 [==============================] - 1s 3ms/step - loss: 0.4686 - root_mean_squared_error: 0.1555 - val_loss: 0.6271 - val_root_mean_squared_error: 0.2914\nEpoch 55/100\n193/193 [==============================] - 1s 3ms/step - loss: 0.4700 - root_mean_squared_error: 0.1582 - val_loss: 0.6263 - val_root_mean_squared_error: 0.2905\nEpoch 56/100\n193/193 [==============================] - 1s 3ms/step - loss: 0.4682 - root_mean_squared_error: 0.1569 - val_loss: 0.6209 - val_root_mean_squared_error: 0.2872\nEpoch 57/100\n193/193 [==============================] - 1s 3ms/step - loss: 0.4704 - root_mean_squared_error: 0.1590 - val_loss: 0.6216 - val_root_mean_squared_error: 0.2876\nEpoch 58/100\n193/193 [==============================] - 1s 3ms/step - loss: 0.4689 - root_mean_squared_error: 0.1562 - val_loss: 0.6213 - val_root_mean_squared_error: 0.2882\nEpoch 59/100\n193/193 [==============================] - 1s 3ms/step - loss: 0.4701 - root_mean_squared_error: 0.1591 - val_loss: 0.6125 - val_root_mean_squared_error: 0.2819\nEpoch 60/100\n193/193 [==============================] - 1s 3ms/step - loss: 0.4698 - root_mean_squared_error: 0.1579 - val_loss: 0.6080 - val_root_mean_squared_error: 0.2792\nEpoch 61/100\n193/193 [==============================] - 1s 3ms/step - loss: 0.4651 - root_mean_squared_error: 0.1534 - val_loss: 0.6126 - val_root_mean_squared_error: 0.2826\nEpoch 62/100\n193/193 [==============================] - 1s 3ms/step - loss: 0.4685 - root_mean_squared_error: 0.1573 - val_loss: 0.6153 - val_root_mean_squared_error: 0.2849\nEpoch 63/100\n193/193 [==============================] - 1s 3ms/step - loss: 0.4681 - root_mean_squared_error: 0.1575 - val_loss: 0.6101 - val_root_mean_squared_error: 0.2814\nEpoch 64/100\n193/193 [==============================] - 1s 3ms/step - loss: 0.4662 - root_mean_squared_error: 0.1541 - val_loss: 0.6090 - val_root_mean_squared_error: 0.2807\nEpoch 65/100\n193/193 [==============================] - 1s 3ms/step - loss: 0.4677 - root_mean_squared_error: 0.1564 - val_loss: 0.6003 - val_root_mean_squared_error: 0.2750\nEpoch 66/100\n193/193 [==============================] - 1s 3ms/step - loss: 0.4644 - root_mean_squared_error: 0.1532 - val_loss: 0.6043 - val_root_mean_squared_error: 0.2779\nEpoch 67/100\n193/193 [==============================] - 1s 3ms/step - loss: 0.4639 - root_mean_squared_error: 0.1529 - val_loss: 0.6005 - val_root_mean_squared_error: 0.2751\nEpoch 68/100\n193/193 [==============================] - 1s 3ms/step - loss: 0.4652 - root_mean_squared_error: 0.1536 - val_loss: 0.5966 - val_root_mean_squared_error: 0.2725\nEpoch 69/100\n193/193 [==============================] - 1s 4ms/step - loss: 0.4666 - root_mean_squared_error: 0.1563 - val_loss: 0.5930 - val_root_mean_squared_error: 0.2699\nEpoch 70/100\n193/193 [==============================] - 1s 4ms/step - loss: 0.4654 - root_mean_squared_error: 0.1548 - val_loss: 0.5940 - val_root_mean_squared_error: 0.2708\nEpoch 71/100\n193/193 [==============================] - 1s 3ms/step - loss: 0.4667 - root_mean_squared_error: 0.1559 - val_loss: 0.5887 - val_root_mean_squared_error: 0.2671\nEpoch 72/100\n193/193 [==============================] - 1s 3ms/step - loss: 0.4642 - root_mean_squared_error: 0.1538 - val_loss: 0.5892 - val_root_mean_squared_error: 0.2675\nEpoch 73/100\n193/193 [==============================] - 1s 3ms/step - loss: 0.4648 - root_mean_squared_error: 0.1546 - val_loss: 0.5872 - val_root_mean_squared_error: 0.2661\nEpoch 74/100\n193/193 [==============================] - 1s 3ms/step - loss: 0.4634 - root_mean_squared_error: 0.1531 - val_loss: 0.5878 - val_root_mean_squared_error: 0.2664\nEpoch 75/100\n193/193 [==============================] - 1s 4ms/step - loss: 0.4625 - root_mean_squared_error: 0.1528 - val_loss: 0.5910 - val_root_mean_squared_error: 0.2687\nEpoch 76/100\n193/193 [==============================] - 1s 3ms/step - loss: 0.4631 - root_mean_squared_error: 0.1531 - val_loss: 0.5932 - val_root_mean_squared_error: 0.2705\nEpoch 77/100\n193/193 [==============================] - 1s 3ms/step - loss: 0.4655 - root_mean_squared_error: 0.1555 - val_loss: 0.5916 - val_root_mean_squared_error: 0.2694\nEpoch 78/100\n193/193 [==============================] - 1s 3ms/step - loss: 0.4631 - root_mean_squared_error: 0.1527 - val_loss: 0.5863 - val_root_mean_squared_error: 0.2654\nEpoch 79/100\n193/193 [==============================] - 1s 3ms/step - loss: 0.4634 - root_mean_squared_error: 0.1526 - val_loss: 0.5856 - val_root_mean_squared_error: 0.2650\nEpoch 80/100\n193/193 [==============================] - 1s 3ms/step - loss: 0.4631 - root_mean_squared_error: 0.1529 - val_loss: 0.5873 - val_root_mean_squared_error: 0.2665\nEpoch 81/100\n193/193 [==============================] - 1s 3ms/step - loss: 0.4656 - root_mean_squared_error: 0.1567 - val_loss: 0.5906 - val_root_mean_squared_error: 0.2692\nEpoch 82/100\n193/193 [==============================] - 1s 3ms/step - loss: 0.4626 - root_mean_squared_error: 0.1536 - val_loss: 0.5898 - val_root_mean_squared_error: 0.2688\nEpoch 83/100\n193/193 [==============================] - 1s 3ms/step - loss: 0.4628 - root_mean_squared_error: 0.1535 - val_loss: 0.5923 - val_root_mean_squared_error: 0.2708\nEpoch 84/100\n193/193 [==============================] - 1s 3ms/step - loss: 0.4639 - root_mean_squared_error: 0.1547 - val_loss: 0.5901 - val_root_mean_squared_error: 0.2687\nEpoch 85/100\n193/193 [==============================] - 1s 3ms/step - loss: 0.4628 - root_mean_squared_error: 0.1513 - val_loss: 0.5929 - val_root_mean_squared_error: 0.2712\nEpoch 86/100\n193/193 [==============================] - 1s 3ms/step - loss: 0.4606 - root_mean_squared_error: 0.1497 - val_loss: 0.5841 - val_root_mean_squared_error: 0.2649\nEpoch 87/100\n193/193 [==============================] - 1s 3ms/step - loss: 0.4599 - root_mean_squared_error: 0.1489 - val_loss: 0.5845 - val_root_mean_squared_error: 0.2656\nEpoch 88/100\n193/193 [==============================] - 1s 3ms/step - loss: 0.4645 - root_mean_squared_error: 0.1558 - val_loss: 0.5826 - val_root_mean_squared_error: 0.2641\nEpoch 89/100\n193/193 [==============================] - 1s 3ms/step - loss: 0.4621 - root_mean_squared_error: 0.1518 - val_loss: 0.5866 - val_root_mean_squared_error: 0.2671\nEpoch 90/100\n193/193 [==============================] - 1s 4ms/step - loss: 0.4614 - root_mean_squared_error: 0.1519 - val_loss: 0.5850 - val_root_mean_squared_error: 0.2656\nEpoch 91/100\n193/193 [==============================] - 1s 4ms/step - loss: 0.4625 - root_mean_squared_error: 0.1521 - val_loss: 0.5830 - val_root_mean_squared_error: 0.2644\nEpoch 92/100\n193/193 [==============================] - 1s 4ms/step - loss: 0.4619 - root_mean_squared_error: 0.1520 - val_loss: 0.5838 - val_root_mean_squared_error: 0.2650\nEpoch 93/100\n193/193 [==============================] - 1s 4ms/step - loss: 0.4630 - root_mean_squared_error: 0.1536 - val_loss: 0.5822 - val_root_mean_squared_error: 0.2639\nEpoch 94/100\n193/193 [==============================] - 1s 4ms/step - loss: 0.4628 - root_mean_squared_error: 0.1537 - val_loss: 0.5816 - val_root_mean_squared_error: 0.2636\nEpoch 95/100\n193/193 [==============================] - 1s 3ms/step - loss: 0.4617 - root_mean_squared_error: 0.1511 - val_loss: 0.5737 - val_root_mean_squared_error: 0.2582\nEpoch 96/100\n193/193 [==============================] - 1s 4ms/step - loss: 0.4602 - root_mean_squared_error: 0.1492 - val_loss: 0.5765 - val_root_mean_squared_error: 0.2604\nEpoch 97/100\n193/193 [==============================] - 1s 4ms/step - loss: 0.4608 - root_mean_squared_error: 0.1509 - val_loss: 0.5723 - val_root_mean_squared_error: 0.2570\nEpoch 98/100\n193/193 [==============================] - 1s 4ms/step - loss: 0.4618 - root_mean_squared_error: 0.1522 - val_loss: 0.5720 - val_root_mean_squared_error: 0.2567\nEpoch 99/100\n193/193 [==============================] - 1s 4ms/step - loss: 0.4622 - root_mean_squared_error: 0.1539 - val_loss: 0.5697 - val_root_mean_squared_error: 0.2548\nEpoch 100/100\n193/193 [==============================] - 1s 4ms/step - loss: 0.4606 - root_mean_squared_error: 0.1512 - val_loss: 0.5743 - val_root_mean_squared_error: 0.2582\n",
     "output_type": "stream"
    }
   ],
   "execution_count": 52
  },
  {
   "cell_type": "code",
   "source": "plt.plot(history.history['root_mean_squared_error'])\nplt.plot(history.history['val_root_mean_squared_error'])\nplt.title('model_metrics')\nplt.ylabel('root_mean_squared_error')\nplt.xlabel('epoch')\nplt.legend(['train', 'test'], loc='upper left')\nplt.show()",
   "metadata": {
    "_kg_hide-output": false,
    "execution": {
     "iopub.status.busy": "2024-12-13T02:59:50.197621Z",
     "iopub.execute_input": "2024-12-13T02:59:50.198368Z",
     "iopub.status.idle": "2024-12-13T02:59:50.552160Z",
     "shell.execute_reply.started": "2024-12-13T02:59:50.198336Z",
     "shell.execute_reply": "2024-12-13T02:59:50.551347Z"
    },
    "trusted": true
   },
   "outputs": [
    {
     "output_type": "display_data",
     "data": {
      "text/plain": "<Figure size 432x288 with 1 Axes>",
      "image/png": "[encoded data removed]"
     },
     "metadata": {
      "needs_background": "light"
     }
    }
   ],
   "execution_count": 53
  },
  {
   "cell_type": "markdown",
   "source": "# Recommendation",
   "metadata": {
    "_kg_hide-output": false
   }
  },
  {
   "cell_type": "code",
   "source": "place_df = tourism_new\ndf = pd.read_csv(f'{DATA_PATH}/tourism_rating.csv')\n\nuser_id = df.User_Id.sample(1).iloc[0]\nplace_visited_by_user = df[df.User_Id == user_id]\n\nplace_not_visited = place_df[~place_df['id'].isin(place_visited_by_user['Place_Id'].values)]['id'] \nplace_not_visited = list(\n    set(place_not_visited)\n    .intersection(set(place_to_place_encoded.keys()))\n)\n \nplace_not_visited = [[place_to_place_encoded.get(x)] for x in place_not_visited]\nuser_encoder = user_to_user_encoded.get(user_id)\nuser_place_array = np.hstack(\n    ([[user_encoder]] * len(place_not_visited), place_not_visited)\n)\nprint(f\"User ID: {user_id}\")\nprint(f\"Places visited by user: {place_visited_by_user['Place_Id'].values}\")\nprint(f\"Place IDs in place_df: {place_df['id'].values}\")\nprint(f\"Place IDs not visited: {place_not_visited}\")",
   "metadata": {
    "_kg_hide-output": false,
    "execution": {
     "iopub.status.busy": "2024-12-13T03:02:09.820539Z",
     "iopub.execute_input": "2024-12-13T03:02:09.820887Z",
     "iopub.status.idle": "2024-12-13T03:02:09.832791Z",
     "shell.execute_reply.started": "2024-12-13T03:02:09.820858Z",
     "shell.execute_reply": "2024-12-13T03:02:09.831878Z"
    },
    "trusted": true
   },
   "outputs": [
    {
     "name": "stdout",
     "text": "User ID: 32\nPlaces visited by user: [ 1  2  3  4  5  6  7  8  9 10 11 12 13 14 15 16 17 18 19 20 21 22 23 24\n 25 26]\nPlace IDs in place_df: [ 1  2  3  4  5  6  7  8  9 10 11 12 13 14 15 16 17 18 19 20 21 22 23 24\n 25 26]\nPlace IDs not visited: []\n",
     "output_type": "stream"
    }
   ],
   "execution_count": 61
  },
  {
   "cell_type": "code",
   "source": "# Check if all places are visited\nif not place_not_visited:\n    print(f\"User {user_id} has visited all available places.\")\n    print(\"Predicting top visited places based on user's preferences:\")\n    \n    # Prepare data for places already visited\n    place_visited_encoded = [[place_to_place_encoded.get(x)] for x in place_visited_by_user['Place_Id'].values]\n    user_place_array = np.hstack(\n        ([[user_encoder]] * len(place_visited_encoded), place_visited_encoded)\n    )\n    \n    # Predict ratings for visited places\n    ratings = model.predict(user_place_array).flatten()\n    \n    # Get top 10 places from visited places\n    top_ratings_indices = ratings.argsort()[-10:][::-1]\n    recommended_place_ids = [\n        place_encoded_to_place.get(place_visited_encoded[x][0]) for x in top_ratings_indices\n    ]\n    \n    # Display top visited places\n    place_df_rows = place_df[place_df['id'].isin(recommended_place_ids)]\n    print(pd.DataFrame(place_df_rows))\nelse:\n    # Standard recommendation flow\n    place_not_visited = [[place_to_place_encoded.get(x)] for x in place_not_visited]\n    user_encoder = user_to_user_encoded.get(user_id)\n    user_place_array = np.hstack(\n        ([[user_encoder]] * len(place_not_visited), place_not_visited)\n    )\n    \n    # Predict ratings for unvisited places\n    ratings = model.predict(user_place_array).flatten()\n    \n    # Get top 10 recommendations\n    top_ratings_indices = ratings.argsort()[-10:][::-1]\n    recommended_place_ids = [\n        place_encoded_to_place.get(place_not_visited[x][0]) for x in top_ratings_indices\n    ]\n    \n    print('Showing recommendations for user: {}'.format(user_id))\n    print('===' * 9)\n    print('Places with high predicted ratings for the user:')\n    print('----' * 8)\n    \n    # Display recommended places\n    place_df_rows = place_df[place_df['id'].isin(recommended_place_ids)]\n    print(pd.DataFrame(place_df_rows))\n",
   "metadata": {
    "_kg_hide-output": false,
    "execution": {
     "iopub.status.busy": "2024-12-13T03:05:52.094753Z",
     "iopub.execute_input": "2024-12-13T03:05:52.095720Z",
     "iopub.status.idle": "2024-12-13T03:05:52.244631Z",
     "shell.execute_reply.started": "2024-12-13T03:05:52.095675Z",
     "shell.execute_reply": "2024-12-13T03:05:52.243571Z"
    },
    "trusted": true
   },
   "outputs": [
    {
     "name": "stdout",
     "text": "User 32 has visited all available places.\nPredicting top visited places based on user's preferences:\n    id                    name                      category  \\\n0    1  Wisata Bahari Lamongan              Wisata Themepark   \n1    2      Maharani zoo & goa               Wisata Edukasi    \n2    3           Tanjung kodok                   Wisata Alam   \n3    4           Masjid Namira                 Wisata Religi   \n4    5      Alun-alun Lamongan               Wisata Olahraga   \n5    6   Masjid Agung Lamongan                 Wisata Religi   \n7    8      Makam Sunan Drajat                 Wisata Religi   \n10  11      Makam joko Tingkir                 Wisata Religi   \n20  21                  Bathil                Wisata Kuliner   \n25  26               Cafe Aola  Wisata Alam & Wisata Kuliner   \n\n                                          description      city  \\\n0   Wisata Bahari Lamongan merupakan taman hiburan...  Lamongan   \n1   Objek wisata ini menggabungkan kebun binatang ...  Lamongan   \n2   Tanjung Kodok adalah kawasan pantai yang memil...  Lamongan   \n3   Masjid Namira adalah masjid modern yang terken...  Lamongan   \n4   Sebagai pusat kota, Alun-Alun Lamongan menjadi...  Lamongan   \n5   Masjid ini merupakan ikon religi di Lamongan, ...  Lamongan   \n7   Makam Sunan Drajat adalah tempat ziarah terken...  Lamongan   \n10  Makam ini merupakan tempat peristirahatan tera...  Lamongan   \n20  Bathil adalah kawasan pelabuhan tradisional ya...  Lamongan   \n25  Cafe Aola adalah tempat nongkrong yang nyaman ...  Lamongan   \n\n                            city_category     price  \n0               Lamongan Wisata Themepark  145000.0  \n1                Lamongan Wisata Edukasi    40000.0  \n2                    Lamongan Wisata Alam  100000.0  \n3                  Lamongan Wisata Religi       0.0  \n4                Lamongan Wisata Olahraga       0.0  \n5                  Lamongan Wisata Religi       0.0  \n7                  Lamongan Wisata Religi   10000.0  \n10                 Lamongan Wisata Religi       0.0  \n20                Lamongan Wisata Kuliner    5000.0  \n25  Lamongan Wisata Alam & Wisata Kuliner   25000.0  \n",
     "output_type": "stream"
    }
   ],
   "execution_count": 62
  },
  {
   "cell_type": "code",
   "source": "print('----' * 8)\nprint('Top 10 place recommendation')\nprint('----' * 8)\n \nrecommended_place = place_df[place_df['id'].isin(recommended_place_ids)]\nrecommended_place",
   "metadata": {
    "_kg_hide-output": false,
    "execution": {
     "iopub.status.busy": "2024-12-13T03:06:10.761992Z",
     "iopub.execute_input": "2024-12-13T03:06:10.762691Z",
     "iopub.status.idle": "2024-12-13T03:06:10.777265Z",
     "shell.execute_reply.started": "2024-12-13T03:06:10.762659Z",
     "shell.execute_reply": "2024-12-13T03:06:10.776290Z"
    },
    "trusted": true
   },
   "outputs": [
    {
     "name": "stdout",
     "text": "--------------------------------\nTop 10 place recommendation\n--------------------------------\n",
     "output_type": "stream"
    },
    {
     "execution_count": 64,
     "output_type": "execute_result",
     "data": {
      "text/plain": "    id                    name                      category  \\\n0    1  Wisata Bahari Lamongan              Wisata Themepark   \n1    2      Maharani zoo & goa               Wisata Edukasi    \n2    3           Tanjung kodok                   Wisata Alam   \n3    4           Masjid Namira                 Wisata Religi   \n4    5      Alun-alun Lamongan               Wisata Olahraga   \n5    6   Masjid Agung Lamongan                 Wisata Religi   \n7    8      Makam Sunan Drajat                 Wisata Religi   \n10  11      Makam joko Tingkir                 Wisata Religi   \n20  21                  Bathil                Wisata Kuliner   \n25  26               Cafe Aola  Wisata Alam & Wisata Kuliner   \n\n                                          description      city  \\\n0   Wisata Bahari Lamongan merupakan taman hiburan...  Lamongan   \n1   Objek wisata ini menggabungkan kebun binatang ...  Lamongan   \n2   Tanjung Kodok adalah kawasan pantai yang memil...  Lamongan   \n3   Masjid Namira adalah masjid modern yang terken...  Lamongan   \n4   Sebagai pusat kota, Alun-Alun Lamongan menjadi...  Lamongan   \n5   Masjid ini merupakan ikon religi di Lamongan, ...  Lamongan   \n7   Makam Sunan Drajat adalah tempat ziarah terken...  Lamongan   \n10  Makam ini merupakan tempat peristirahatan tera...  Lamongan   \n20  Bathil adalah kawasan pelabuhan tradisional ya...  Lamongan   \n25  Cafe Aola adalah tempat nongkrong yang nyaman ...  Lamongan   \n\n                            city_category     price  \n0               Lamongan Wisata Themepark  145000.0  \n1                Lamongan Wisata Edukasi    40000.0  \n2                    Lamongan Wisata Alam  100000.0  \n3                  Lamongan Wisata Religi       0.0  \n4                Lamongan Wisata Olahraga       0.0  \n5                  Lamongan Wisata Religi       0.0  \n7                  Lamongan Wisata Religi   10000.0  \n10                 Lamongan Wisata Religi       0.0  \n20                Lamongan Wisata Kuliner    5000.0  \n25  Lamongan Wisata Alam & Wisata Kuliner   25000.0  ",
      "text/html": "<div>\n<style scoped>\n    .dataframe tbody tr th:only-of-type {\n        vertical-align: middle;\n    }\n\n    .dataframe tbody tr th {\n        vertical-align: top;\n    }\n\n    .dataframe thead th {\n        text-align: right;\n    }\n</style>\n<table border=\"1\" class=\"dataframe\">\n  <thead>\n    <tr style=\"text-align: right;\">\n      <th></th>\n      <th>id</th>\n      <th>name</th>\n      <th>category</th>\n      <th>description</th>\n      <th>city</th>\n      <th>city_category</th>\n      <th>price</th>\n    </tr>\n  </thead>\n  <tbody>\n    <tr>\n      <th>0</th>\n      <td>1</td>\n      <td>Wisata Bahari Lamongan</td>\n      <td>Wisata Themepark</td>\n      <td>Wisata Bahari Lamongan merupakan taman hiburan...</td>\n      <td>Lamongan</td>\n      <td>Lamongan Wisata Themepark</td>\n      <td>145000.0</td>\n    </tr>\n    <tr>\n      <th>1</th>\n      <td>2</td>\n      <td>Maharani zoo &amp; goa</td>\n      <td>Wisata Edukasi</td>\n      <td>Objek wisata ini menggabungkan kebun binatang ...</td>\n      <td>Lamongan</td>\n      <td>Lamongan Wisata Edukasi</td>\n      <td>40000.0</td>\n    </tr>\n    <tr>\n      <th>2</th>\n      <td>3</td>\n      <td>Tanjung kodok</td>\n      <td>Wisata Alam</td>\n      <td>Tanjung Kodok adalah kawasan pantai yang memil...</td>\n      <td>Lamongan</td>\n      <td>Lamongan Wisata Alam</td>\n      <td>100000.0</td>\n    </tr>\n    <tr>\n      <th>3</th>\n      <td>4</td>\n      <td>Masjid Namira</td>\n      <td>Wisata Religi</td>\n      <td>Masjid Namira adalah masjid modern yang terken...</td>\n      <td>Lamongan</td>\n      <td>Lamongan Wisata Religi</td>\n      <td>0.0</td>\n    </tr>\n    <tr>\n      <th>4</th>\n      <td>5</td>\n      <td>Alun-alun Lamongan</td>\n      <td>Wisata Olahraga</td>\n      <td>Sebagai pusat kota, Alun-Alun Lamongan menjadi...</td>\n      <td>Lamongan</td>\n      <td>Lamongan Wisata Olahraga</td>\n      <td>0.0</td>\n    </tr>\n    <tr>\n      <th>5</th>\n      <td>6</td>\n      <td>Masjid Agung Lamongan</td>\n      <td>Wisata Religi</td>\n      <td>Masjid ini merupakan ikon religi di Lamongan, ...</td>\n      <td>Lamongan</td>\n      <td>Lamongan Wisata Religi</td>\n      <td>0.0</td>\n    </tr>\n    <tr>\n      <th>7</th>\n      <td>8</td>\n      <td>Makam Sunan Drajat</td>\n      <td>Wisata Religi</td>\n      <td>Makam Sunan Drajat adalah tempat ziarah terken...</td>\n      <td>Lamongan</td>\n      <td>Lamongan Wisata Religi</td>\n      <td>10000.0</td>\n    </tr>\n    <tr>\n      <th>10</th>\n      <td>11</td>\n      <td>Makam joko Tingkir</td>\n      <td>Wisata Religi</td>\n      <td>Makam ini merupakan tempat peristirahatan tera...</td>\n      <td>Lamongan</td>\n      <td>Lamongan Wisata Religi</td>\n      <td>0.0</td>\n    </tr>\n    <tr>\n      <th>20</th>\n      <td>21</td>\n      <td>Bathil</td>\n      <td>Wisata Kuliner</td>\n      <td>Bathil adalah kawasan pelabuhan tradisional ya...</td>\n      <td>Lamongan</td>\n      <td>Lamongan Wisata Kuliner</td>\n      <td>5000.0</td>\n    </tr>\n    <tr>\n      <th>25</th>\n      <td>26</td>\n      <td>Cafe Aola</td>\n      <td>Wisata Alam &amp; Wisata Kuliner</td>\n      <td>Cafe Aola adalah tempat nongkrong yang nyaman ...</td>\n      <td>Lamongan</td>\n      <td>Lamongan Wisata Alam &amp; Wisata Kuliner</td>\n      <td>25000.0</td>\n    </tr>\n  </tbody>\n</table>\n</div>"
     },
     "metadata": {}
    }
   ],
   "execution_count": 64
  }
 ]
}
